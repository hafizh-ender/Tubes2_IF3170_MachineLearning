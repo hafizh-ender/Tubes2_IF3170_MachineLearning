{
 "cells": [
  {
   "cell_type": "markdown",
   "metadata": {
    "id": "uR1JW69eLfG_"
   },
   "source": [
    "# IF3170 Artificial Intelligence | Tugas Besar 2"
   ]
  },
  {
   "cell_type": "markdown",
   "metadata": {
    "id": "ucbaI5rBLtjJ"
   },
   "source": [
    "Group Number: 31 - Kolmogorov-Arnold\n",
    "\n",
    "Group Members:\n",
    "- Roby Pratama Sitepu (13121142)\n",
    "- Muhammad Fadli Alfarizi (13121140)\n",
    "- Muhammad Arviano Yuono (13621034)\n",
    "- Hafizh Renanto Akhmad (13621060)"
   ]
  },
  {
   "cell_type": "markdown",
   "metadata": {
    "id": "GwzsfETHLfHA"
   },
   "source": [
    "## Import Libraries"
   ]
  },
  {
   "cell_type": "code",
   "execution_count": 3,
   "metadata": {
    "ExecuteTime": {
     "end_time": "2024-12-13T13:36:14.605219Z",
     "start_time": "2024-12-13T13:36:14.598254Z"
    }
   },
   "outputs": [],
   "source": [
    "from src import CustomTransformer\n",
    "\n",
    "\n",
    "def reset_import():\n",
    "    for module_name in list(sys.modules.keys()):\n",
    "        if 'src' in module_name:\n",
    "            del sys.modules[module_name]\n",
    "            # print(f\"removed module: {module_name}\")\n",
    "\n",
    "\n",
    "def check_for_completeness(data):\n",
    "    print(data.shape)\n",
    "    count = data.isna().sum().sum()\n",
    "\n",
    "    if count > 0:\n",
    "        raise Exception(f'\\n{count} missing values found')\n",
    "\n",
    "\n",
    "def inspect(df, features=None):\n",
    "    for feature in features if features is not None else df.columns:\n",
    "        print(f\"feature = '{feature}'\")\n",
    "        print(f\"count unique values = {df[feature].nunique()}\")\n",
    "        print(f\"unique values: {df[feature].unique()}\")\n",
    "        print(f\"missing values: {df[feature].isna().sum()}\\n\\n\")\n",
    "\n",
    "\n",
    "from sklearn.model_selection import train_test_split\n",
    "from sklearn.impute import SimpleImputer\n",
    "from sklearn.preprocessing import LabelEncoder, OrdinalEncoder\n",
    "from sklearn.tree import DecisionTreeClassifier\n",
    "from sklearn.metrics import accuracy_score, f1_score, classification_report\n",
    "from sklearn.model_selection import StratifiedKFold\n",
    "import pandas as pd\n",
    "import numpy as np\n",
    "import sys\n",
    "\n",
    "reset_import()"
   ]
  },
  {
   "cell_type": "markdown",
   "metadata": {},
   "source": [
    "## Import Dataset"
   ]
  },
  {
   "cell_type": "code",
   "execution_count": 2,
   "metadata": {
    "ExecuteTime": {
     "end_time": "2024-12-13T13:37:11.177042Z",
     "start_time": "2024-12-13T13:36:17.369966Z"
    }
   },
   "outputs": [],
   "source": [
    "train_file_id = ['1sLJLWnim9A34A8hpQwZ9PxVhMJPOrN9d', '1GzheGwc1mG6z_M_kYUOMMPkE2QQrj0eW',\n",
    "                 '1BunbVg1gBwI9v8h_6FxUMXJcuJDmnmMR', '1gkIqZAd5Aza8F8-2MzMO6t53gLEUYquj',\n",
    "                 '1p38XDB0XStCbYKYVBi-Pmi2BunD6FY6J']\n",
    "\n",
    "test_file_id = ['1TdeZx1bhHL8340emZhz8rW80016kdum3', '1Hg1_obL7mpwjN9gN0g1Me4jMlo8LGmVn',\n",
    "                '1G8spITfMGnVry6XJGz3ONg3N-CFXltrI', '1NFcFBcHVj3LguL9BRC39HuAZTif2ws_8',\n",
    "                '1tfmJu2HoeAePv7qKvIjAGETaqWkkhdbj']\n",
    "\n",
    "X = pd.read_csv(f\"https://drive.google.com/uc?id={train_file_id[0]}\")\n",
    "y = pd.read_csv('https://drive.google.com/uc?id=1Dt9cKiT1y1cysxyJGlcnnEkms8ibSjCq')[['attack_cat', 'id']]\n",
    "for file_id in train_file_id[1:]:\n",
    "    X = pd.merge(X, pd.read_csv(f\"https://drive.google.com/uc?id={file_id}\"), on='id')\n",
    "\n",
    "shuffled = pd.merge(X, y, on='id').sample(frac=1, random_state=42).reset_index(drop=True)\n",
    "\n",
    "X = shuffled.drop(columns=['attack_cat'])\n",
    "y = shuffled[['attack_cat', 'id']]\n",
    "\n",
    "X.set_index('id', inplace=True)\n",
    "y.set_index('id', inplace=True)\n",
    "\n",
    "categorical_features = ['proto', 'state', 'service', 'is_sm_ips_ports', 'is_ftp_login']\n",
    "numerical_features = [col for col in X.columns if\n",
    "                      col not in categorical_features and col != 'attack_cat' and col != 'id']"
   ]
  },
  {
   "cell_type": "markdown",
   "metadata": {},
   "source": [
    "# Exploratory Data Analysis (Optional)\n",
    "\n",
    "Exploratory Data Analysis (EDA) is a crucial step in the data analysis process that involves examining and visualizing data sets to uncover patterns, trends, anomalies, and insights. It is the first step before applying more advanced statistical and machine learning techniques. EDA helps you to gain a deep understanding of the data you are working with, allowing you to make informed decisions and formulate hypotheses for further analysis."
   ]
  },
  {
   "cell_type": "code",
   "execution_count": null,
   "metadata": {},
   "outputs": [],
   "source": [
    "# Write your code here"
   ]
  },
  {
   "cell_type": "markdown",
   "metadata": {},
   "source": [
    "# 1. Split Training Set and Validation Set\n",
    "\n",
    "Splitting the training and validation set works as an early diagnostic towards the performance of the model we train. This is done before the preprocessing steps to **avoid data leakage inbetween the sets**. If you want to use k-fold cross-validation, split the data later and do the cleaning and preprocessing separately for each split.\n",
    "\n",
    "Note: For training, you should use the data contained in the `train` folder given by the TA. The `test` data is only used for kaggle submission."
   ]
  },
  {
   "cell_type": "code",
   "execution_count": 6,
   "metadata": {
    "ExecuteTime": {
     "end_time": "2024-12-13T13:37:26.533610Z",
     "start_time": "2024-12-13T13:37:26.443881Z"
    }
   },
   "outputs": [],
   "source": [
    "X_train, X_val, y_train, y_val = train_test_split(X, y, test_size=0.3, random_state=42)"
   ]
  },
  {
   "cell_type": "code",
   "execution_count": 7,
   "metadata": {
    "ExecuteTime": {
     "end_time": "2024-12-13T13:37:27.601189Z",
     "start_time": "2024-12-13T13:37:27.497286Z"
    }
   },
   "outputs": [
    {
     "name": "stdout",
     "output_type": "stream",
     "text": [
      "Feature 'proto' has different unique values: 133 in X_train and 132 in X_val.\n",
      "rtp in column 'proto' 1 times\n",
      "corresponding y values for rtp in column 'proto': ['Normal']\n",
      "Feature 'state' has different unique values: 8 in X_train and 7 in X_val.\n",
      "URN in column 'state' 1 times\n",
      "corresponding y values for URN in column 'state': ['Normal']\n",
      "PAR in column 'state' 1 times\n",
      "corresponding y values for PAR in column 'state': ['Normal']\n"
     ]
    }
   ],
   "source": [
    "for feature in categorical_features:\n",
    "    unique_values_X_train = X_train[feature].dropna().nunique()\n",
    "    unique_values_X_val = X_val[feature].dropna().nunique()\n",
    "\n",
    "    if unique_values_X_train != unique_values_X_val:\n",
    "        print(f\"Feature '{feature}' has different unique values: \"\n",
    "              f\"{unique_values_X_train} in X_train and {unique_values_X_val} in X_val.\")\n",
    "        vals = list(set(X_train[feature].unique().tolist()) - set(X_val[feature].unique().tolist()))\n",
    "        for val in vals:\n",
    "            print(f\"{val} in column '{feature}' {(X_train[feature] == val).sum()} times\")\n",
    "\n",
    "            y_values = y_train[X_train[feature] == val]\n",
    "            print(f\"corresponding y values for {val} in column '{feature}': {y_values['attack_cat'].tolist()}\")\n"
   ]
  },
  {
   "cell_type": "code",
   "execution_count": 8,
   "metadata": {
    "ExecuteTime": {
     "end_time": "2024-12-13T13:37:28.881978Z",
     "start_time": "2024-12-13T13:37:28.790714Z"
    }
   },
   "outputs": [
    {
     "name": "stdout",
     "output_type": "stream",
     "text": [
      "36\n",
      "Unique values in 'ct_state_ttl': 5\n",
      "Unique values in 'ct_flw_http_mthd': 11\n",
      "Unique values in 'ct_ftp_cmd': 4\n",
      "Unique values in 'ct_srv_src': 52\n",
      "Unique values in 'ct_srv_dst': 52\n",
      "Unique values in 'ct_dst_ltm': 49\n",
      "Unique values in 'ct_src_ltm': 50\n",
      "Unique values in 'ct_src_dport_ltm': 47\n",
      "Unique values in 'ct_dst_sport_ltm': 32\n",
      "Unique values in 'ct_dst_src_ltm': 54\n",
      "Unique values in 'dur': 51381\n",
      "Unique values in 'sbytes': 5617\n",
      "Unique values in 'dbytes': 5187\n",
      "Unique values in 'sttl': 11\n",
      "Unique values in 'dttl': 5\n",
      "Unique values in 'sloss': 335\n",
      "Unique values in 'dloss': 299\n",
      "Unique values in 'sload': 55845\n",
      "Unique values in 'dload': 52894\n",
      "Unique values in 'spkts': 409\n",
      "Unique values in 'dpkts': 377\n",
      "Unique values in 'swin': 9\n",
      "Unique values in 'dwin': 6\n",
      "Unique values in 'stcpb': 50930\n",
      "Unique values in 'dtcpb': 50747\n",
      "Unique values in 'smean': 1328\n",
      "Unique values in 'dmean': 1280\n",
      "Unique values in 'trans_depth': 10\n",
      "Unique values in 'response_body_len': 1877\n",
      "Unique values in 'sjit': 52735\n",
      "Unique values in 'djit': 51933\n",
      "Unique values in 'sinpkt': 52309\n",
      "Unique values in 'dinpkt': 50673\n",
      "Unique values in 'tcprtt': 30718\n",
      "Unique values in 'synack': 29098\n",
      "Unique values in 'ackdat': 27637\n"
     ]
    }
   ],
   "source": [
    "print(len(numerical_features))\n",
    "\n",
    "for col in numerical_features:\n",
    "    print(f\"Unique values in '{col}': {X_train[col].nunique()}\")"
   ]
  },
  {
   "cell_type": "markdown",
   "metadata": {},
   "source": [
    "# 2. Data Cleaning and Preprocessing\n",
    "\n",
    "This step is the first thing to be done once a Data Scientist have grasped a general knowledge of the data. Raw data is **seldom ready for training**, therefore steps need to be taken to clean and format the data for the Machine Learning model to interpret.\n",
    "\n",
    "By performing data cleaning and preprocessing, you ensure that your dataset is ready for model training, leading to more accurate and reliable machine learning results. These steps are essential for transforming raw data into a format that machine learning algorithms can effectively learn from and make predictions.\n",
    "\n",
    "We will give some common methods for you to try, but you only have to **at least implement one method for each process**. For each step that you will do, **please explain the reason why did you do that process. Write it in a markdown cell under the code cell you wrote.**"
   ]
  },
  {
   "cell_type": "markdown",
   "metadata": {},
   "source": [
    "## A. Data Cleaning\n",
    "\n",
    "**Data cleaning** is the crucial first step in preparing your dataset for machine learning. Raw data collected from various sources is often messy and may contain errors, missing values, and inconsistencies. Data cleaning involves the following steps:\n",
    "\n",
    "1. **Handling Missing Data:** Identify and address missing values in the dataset. This can include imputing missing values, removing rows or columns with excessive missing data, or using more advanced techniques like interpolation.\n",
    "\n",
    "2. **Dealing with Outliers:** Identify and handle outliers, which are data points significantly different from the rest of the dataset. Outliers can be removed or transformed to improve model performance.\n",
    "\n",
    "3. **Data Validation:** Check for data integrity and consistency. Ensure that data types are correct, categorical variables have consistent labels, and numerical values fall within expected ranges.\n",
    "\n",
    "4. **Removing Duplicates:** Identify and remove duplicate rows, as they can skew the model's training process and evaluation metrics.\n",
    "\n",
    "5. **Feature Engineering**: Create new features or modify existing ones to extract relevant information. This step can involve scaling, normalizing, or encoding features for better model interpretability."
   ]
  },
  {
   "cell_type": "markdown",
   "metadata": {},
   "source": [
    "### I. Handling Missing Data\n",
    "\n",
    "Missing data can adversely affect the performance and accuracy of machine learning models. There are several strategies to handle missing data in machine learning:\n",
    "\n",
    "1. **Data Imputation:**\n",
    "\n",
    "    a. **Mean, Median, or Mode Imputation:** For numerical features, you can replace missing values with the mean, median, or mode of the non-missing values in the same feature. This method is simple and often effective when data is missing at random.\n",
    "\n",
    "    b. **Constant Value Imputation:** You can replace missing values with a predefined constant value (e.g., 0) if it makes sense for your dataset and problem.\n",
    "\n",
    "    c. **Imputation Using Predictive Models:** More advanced techniques involve using predictive models to estimate missing values. For example, you can train a regression model to predict missing numerical values or a classification model to predict missing categorical values.\n",
    "\n",
    "2. **Deletion of Missing Data:**\n",
    "\n",
    "    a. **Listwise Deletion:** In cases where the amount of missing data is relatively small, you can simply remove rows with missing values from your dataset. However, this approach can lead to a loss of valuable information.\n",
    "\n",
    "    b. **Column (Feature) Deletion:** If a feature has a large number of missing values and is not critical for your analysis, you can consider removing that feature altogether.\n",
    "\n",
    "3. **Domain-Specific Strategies:**\n",
    "\n",
    "    a. **Domain Knowledge:** In some cases, domain knowledge can guide the imputation process. For example, if you know that missing values are related to a specific condition, you can impute them accordingly.\n",
    "\n",
    "4. **Imputation Libraries:**\n",
    "\n",
    "    a. **Scikit-Learn:** Scikit-Learn provides a `SimpleImputer` class that can handle basic imputation strategies like mean, median, and mode imputation.\n",
    "\n",
    "    b. **Fancyimpute:** Fancyimpute is a Python library that offers more advanced imputation techniques, including matrix factorization, k-nearest neighbors, and deep learning-based methods.\n",
    "\n",
    "The choice of imputation method should be guided by the nature of your data, the amount of missing data, the problem you are trying to solve, and the assumptions you are willing to make."
   ]
  },
  {
   "cell_type": "code",
   "execution_count": null,
   "metadata": {},
   "outputs": [],
   "source": [
    "reset_import()\n",
    "\n",
    "from src.compose import CustomTransformer\n",
    "\n",
    "preprocessor = CustomTransformer(\n",
    "    transformers=[\n",
    "        (SimpleImputer(strategy='mean'), numerical_features),\n",
    "        (SimpleImputer(strategy='most_frequent'), categorical_features),\n",
    "    ]\n",
    ")\n",
    "\n",
    "X_train_completed = preprocessor.fit_transform(X_train)\n",
    "X_val_completed = preprocessor.transform(X_val)\n",
    "\n",
    "check_for_completeness(X_train_completed)\n",
    "check_for_completeness(X_val_completed)"
   ]
  },
  {
   "cell_type": "markdown",
   "metadata": {},
   "source": [
    "### II. Dealing with Outliers\n",
    "\n",
    "Outliers are data points that significantly differ from the majority of the data. They can be unusually high or low values that do not fit the pattern of the rest of the dataset. Outliers can significantly impact model performance, so it is important to handle them properly.\n",
    "\n",
    "Some methods to handle outliers:\n",
    "1. **Imputation**: Replace with mean, median, or a boundary value.\n",
    "2. **Clipping**: Cap values to upper and lower limits.\n",
    "3. **Transformation**: Use log, square root, or power transformations to reduce their influence.\n",
    "4. **Model-Based**: Use algorithms robust to outliers (e.g., tree-based models, Huber regression)."
   ]
  },
  {
   "cell_type": "code",
   "execution_count": null,
   "metadata": {},
   "outputs": [],
   "source": [
    "reset_import()\n",
    "\n",
    "from src.preprocessing.outlier.strategy import BoundOutlierHandlerStrategy\n",
    "\n",
    "preprocessor = CustomTransformer(\n",
    "    transformers=[\n",
    "        (BoundOutlierHandlerStrategy(), numerical_features)\n",
    "    ]\n",
    ")\n",
    "\n",
    "X_train_outliers_removed = preprocessor.fit_transform(X_train_completed)\n",
    "X_val_outliers_removed = preprocessor.transform(X_val_completed)\n",
    "\n",
    "check_for_completeness(X_train_outliers_removed)\n",
    "check_for_completeness(X_val_outliers_removed)"
   ]
  },
  {
   "cell_type": "markdown",
   "metadata": {},
   "source": [
    "### III. Remove Duplicates\n",
    "Handling duplicate values is crucial because they can compromise data integrity, leading to inaccurate analysis and insights. Duplicate entries can bias machine learning models, causing overfitting and reducing their ability to generalize to new data. They also inflate the dataset size unnecessarily, increasing computational costs and processing times. Additionally, duplicates can distort statistical measures and lead to inconsistencies, ultimately affecting the reliability of data-driven decisions and reporting. Ensuring data quality by removing duplicates is essential for accurate, efficient, and consistent analysis."
   ]
  },
  {
   "cell_type": "code",
   "execution_count": null,
   "metadata": {},
   "outputs": [],
   "source": [
    "reset_import()\n",
    "\n",
    "from src.preprocessing.duplicate import DuplicateHandler\n",
    "from src.preprocessing.duplicate import DropDuplicateHandlerStrategy\n",
    "\n",
    "duplicate_handler = DuplicateHandler(strategy=DropDuplicateHandlerStrategy())\n",
    "\n",
    "X_train_duplicates_removed = duplicate_handler.transform(X_train_outliers_removed)\n",
    "X_val_duplicates_removed = duplicate_handler.transform(X_val_outliers_removed)\n",
    "\n",
    "y_train_duplicates_removed = y_train.loc[y_train.index.isin(X_train_duplicates_removed.index)]\n",
    "y_val_duplicates_removed = y_val.loc[y_val.index.isin(X_val_duplicates_removed.index)]\n",
    "\n",
    "check_for_completeness(X_train_duplicates_removed)\n",
    "check_for_completeness(X_val_duplicates_removed)"
   ]
  },
  {
   "cell_type": "markdown",
   "metadata": {},
   "source": [
    "### IV. Feature Engineering\n",
    "\n",
    "**Feature engineering** involves creating new features (input variables) or transforming existing ones to improve the performance of machine learning models. Feature engineering aims to enhance the model's ability to learn patterns and make accurate predictions from the data. It's often said that \"good features make good models.\"\n",
    "\n",
    "1. **Feature Selection:** Feature engineering can involve selecting the most relevant and informative features from the dataset. Removing irrelevant or redundant features not only simplifies the model but also reduces the risk of overfitting.\n",
    "\n",
    "2. **Creating New Features:** Sometimes, the existing features may not capture the underlying patterns effectively. In such cases, engineers create new features that provide additional information. For example:\n",
    "\n",
    "   - **Polynomial Features:** Engineers may create new features by taking the square, cube, or other higher-order terms of existing numerical features. This can help capture nonlinear relationships.\n",
    "\n",
    "   - **Interaction Features:** Interaction features are created by combining two or more existing features. For example, if you have features \"length\" and \"width,\" you can create an \"area\" feature by multiplying them.\n",
    "\n",
    "3. **Binning or Discretization:** Continuous numerical features can be divided into bins or categories. For instance, age values can be grouped into bins like \"child,\" \"adult,\" and \"senior.\"\n",
    "\n",
    "4. **Domain-Specific Feature Engineering:** Depending on the domain and problem, engineers may create domain-specific features. For example, in fraud detection, features related to transaction history and user behavior may be engineered to identify anomalies.\n",
    "\n",
    "Feature engineering is both a creative and iterative process. It requires a deep understanding of the data, domain knowledge, and experimentation to determine which features will enhance the model's predictive power."
   ]
  },
  {
   "cell_type": "code",
   "execution_count": null,
   "metadata": {},
   "outputs": [],
   "source": [
    "reset_import()\n",
    "\n",
    "from src.preprocessing.encoder import FeatureEncoder, OneHotFeatureEncoderStrategy\n",
    "\n",
    "feature_encoder = FeatureEncoder(strategy=OneHotFeatureEncoderStrategy())\n",
    "\n",
    "X_train_encoded = feature_encoder.fit_transform(X_train_duplicates_removed)\n",
    "X_val_encoded = feature_encoder.transform(X_val_duplicates_removed)\n",
    "\n",
    "check_for_completeness(X_train_encoded)\n",
    "check_for_completeness(X_val_encoded)"
   ]
  },
  {
   "cell_type": "code",
   "execution_count": null,
   "metadata": {},
   "outputs": [],
   "source": [
    "reset_import()\n",
    "\n",
    "from src.preprocessing.selection import FeatureSelectionHandler\n",
    "from src.preprocessing.selection.strategy import RandomForestFeatureSelectionHandlerStrategy\n",
    "from src.compose import PipelineProperty\n",
    "\n",
    "pl_property = PipelineProperty({'numerical_features': numerical_features, 'categorical_features': categorical_features})\n",
    "\n",
    "feature_selection_handler = FeatureSelectionHandler(\n",
    "    strategy=RandomForestFeatureSelectionHandlerStrategy(),\n",
    ")\n",
    "\n",
    "X_train_selected = feature_selection_handler.fit_transform(X_train_encoded, y_train_duplicates_removed['attack_cat'])\n",
    "X_val_selected = feature_selection_handler.transform(X_val_encoded)\n",
    "\n",
    "check_for_completeness(X_train_selected)\n",
    "check_for_completeness(X_val_selected)\n",
    "\n",
    "selected_numerical_features = [feature for feature in X_train_selected.columns if feature in numerical_features]\n",
    "selected_categorical_features = [feature for feature in X_train_selected.columns if\n",
    "                                 feature not in selected_numerical_features]"
   ]
  },
  {
   "cell_type": "markdown",
   "metadata": {},
   "source": [
    "## B. Data Preprocessing\n",
    "\n",
    "**Data preprocessing** is a broader step that encompasses both data cleaning and additional transformations to make the data suitable for machine learning algorithms. Its primary goals are:\n",
    "\n",
    "1. **Feature Scaling:** Ensure that numerical features have similar scales. Common techniques include Min-Max scaling (scaling to a specific range) or standardization (mean-centered, unit variance).\n",
    "\n",
    "2. **Encoding Categorical Variables:** Machine learning models typically work with numerical data, so categorical variables need to be encoded. This can be done using one-hot encoding, label encoding, or more advanced methods like target encoding.\n",
    "\n",
    "3. **Handling Imbalanced Classes:** If dealing with imbalanced classes in a binary classification task, apply techniques such as oversampling, undersampling, or using different evaluation metrics to address class imbalance.\n",
    "\n",
    "4. **Dimensionality Reduction:** Reduce the number of features using techniques like Principal Component Analysis (PCA) or feature selection to simplify the model and potentially improve its performance.\n",
    "\n",
    "5. **Normalization:** Normalize data to achieve a standard distribution. This is particularly important for algorithms that assume normally distributed data."
   ]
  },
  {
   "cell_type": "markdown",
   "metadata": {},
   "source": [
    "### Notes on Preprocessing processes\n",
    "\n",
    "It is advised to create functions or classes that have the same/similar type of inputs and outputs, so you can add, remove, or swap the order of the processes easily. You can implement the functions or classes by yourself\n",
    "\n",
    "or\n",
    "\n",
    "use `sklearn` library. To create a new preprocessing component in `sklearn`, implement a corresponding class that includes:\n",
    "1. Inheritance to `BaseEstimator` and `TransformerMixin`\n",
    "2. The method `fit`\n",
    "3. The method `transform`"
   ]
  },
  {
   "cell_type": "code",
   "execution_count": null,
   "metadata": {},
   "outputs": [],
   "source": [
    "# Example\n",
    "\n",
    "# from sklearn.base import BaseEstimator, TransformerMixin\n",
    "\n",
    "# class FeatureEncoder(BaseEstimator, TransformerMixin):\n",
    "\n",
    "#     def fit(self, X, y=None):\n",
    "\n",
    "#         # Fit the encoder here\n",
    "\n",
    "#         return self\n",
    "\n",
    "#     def transform(self, X):\n",
    "#         X_encoded = X.copy()\n",
    "\n",
    "#         # Encode the categorical variables here\n",
    "\n",
    "#         return X_encoded"
   ]
  },
  {
   "cell_type": "markdown",
   "metadata": {},
   "source": [
    "### I. Feature Scaling\n",
    "\n",
    "**Feature scaling** is a preprocessing technique used in machine learning to standardize the range of independent variables or features of data. The primary goal of feature scaling is to ensure that all features contribute equally to the training process and that machine learning algorithms can work effectively with the data.\n",
    "\n",
    "Here are the main reasons why feature scaling is important:\n",
    "\n",
    "1. **Algorithm Sensitivity:** Many machine learning algorithms are sensitive to the scale of input features. If the scales of features are significantly different, some algorithms may perform poorly or take much longer to converge.\n",
    "\n",
    "2. **Distance-Based Algorithms:** Algorithms that rely on distances or similarities between data points, such as k-nearest neighbors (KNN) and support vector machines (SVM), can be influenced by feature scales. Features with larger scales may dominate the distance calculations.\n",
    "\n",
    "3. **Regularization:** Regularization techniques, like L1 (Lasso) and L2 (Ridge) regularization, add penalty terms based on feature coefficients. Scaling ensures that all features are treated equally in the regularization process.\n",
    "\n",
    "Common methods for feature scaling include:\n",
    "\n",
    "1. **Min-Max Scaling (Normalization):** This method scales features to a specific range, typically [0, 1]. It's done using the following formula:\n",
    "\n",
    "   $$X' = \\frac{X - X_{min}}{X_{max} - X_{min}}$$\n",
    "\n",
    "   - Here, $X$ is the original feature value, $X_{min}$ is the minimum value of the feature, and $X_{max}$ is the maximum value of the feature.\n",
    "<br />\n",
    "<br />\n",
    "2. **Standardization (Z-score Scaling):** This method scales features to have a mean (average) of 0 and a standard deviation of 1. It's done using the following formula:\n",
    "\n",
    "   $$X' = \\frac{X - \\mu}{\\sigma}$$\n",
    "\n",
    "   - $X$ is the original feature value, $\\mu$ is the mean of the feature, and $\\sigma$ is the standard deviation of the feature.\n",
    "<br />\n",
    "<br />\n",
    "3. **Robust Scaling:** Robust scaling is a method that scales features to the interquartile range (IQR) and is less affected by outliers. It's calculated as:\n",
    "\n",
    "   $$X' = \\frac{X - Q1}{Q3 - Q1}$$\n",
    "\n",
    "   - $X$ is the original feature value, $Q1$ is the first quartile (25th percentile), and $Q3$ is the third quartile (75th percentile) of the feature.\n",
    "<br />\n",
    "<br />\n",
    "4. **Log Transformation:** In cases where data is highly skewed or has a heavy-tailed distribution, taking the logarithm of the feature values can help stabilize the variance and improve scaling.\n",
    "\n",
    "The choice of scaling method depends on the characteristics of your data and the requirements of your machine learning algorithm. **Min-max scaling and standardization are the most commonly used techniques and work well for many datasets.**\n",
    "\n",
    "Scaling should be applied separately to each training and test set to prevent data leakage from the test set into the training set. Additionally, **some algorithms may not require feature scaling, particularly tree-based models.**"
   ]
  },
  {
   "cell_type": "code",
   "execution_count": null,
   "metadata": {},
   "outputs": [],
   "source": [
    "reset_import()\n",
    "\n",
    "from src.compose import CustomTransformer\n",
    "from src.preprocessing.scale import ZScoreScaleHandlerStrategy\n",
    "\n",
    "preprocessing = CustomTransformer(\n",
    "    transformers=[\n",
    "        (ZScoreScaleHandlerStrategy(), selected_numerical_features),\n",
    "    ]\n",
    ")\n",
    "\n",
    "X_train_scaled = preprocessing.fit_transform(X_train_selected)\n",
    "X_val_scaled = preprocessing.transform(X_val_selected)\n",
    "\n",
    "check_for_completeness(X_train_scaled)\n",
    "check_for_completeness(X_val_scaled)"
   ]
  },
  {
   "cell_type": "markdown",
   "metadata": {},
   "source": [
    "### II. Feature Encoding\n",
    "\n",
    "**Feature encoding**, also known as **categorical encoding**, is the process of converting categorical data (non-numeric data) into a numerical format so that it can be used as input for machine learning algorithms. Most machine learning models require numerical data for training and prediction, so feature encoding is a critical step in data preprocessing.\n",
    "\n",
    "Categorical data can take various forms, including:\n",
    "\n",
    "1. **Nominal Data:** Categories with no intrinsic order, like colors or country names.\n",
    "\n",
    "2. **Ordinal Data:** Categories with a meaningful order but not necessarily equidistant, like education levels (e.g., \"high school,\" \"bachelor's,\" \"master's\").\n",
    "\n",
    "There are several common methods for encoding categorical data:\n",
    "\n",
    "1. **Label Encoding:**\n",
    "\n",
    "   - Label encoding assigns a unique integer to each category in a feature.\n",
    "   - It's suitable for ordinal data where there's a clear order among categories.\n",
    "   - For example, if you have an \"education\" feature with values \"high school,\" \"bachelor's,\" and \"master's,\" you can encode them as 0, 1, and 2, respectively.\n",
    "<br />\n",
    "<br />\n",
    "2. **One-Hot Encoding:**\n",
    "\n",
    "   - One-hot encoding creates a binary (0 or 1) column for each category in a nominal feature.\n",
    "   - It's suitable for nominal data where there's no inherent order among categories.\n",
    "   - Each category becomes a new feature, and the presence (1) or absence (0) of a category is indicated for each row.\n",
    "<br />\n",
    "<br />\n",
    "3. **Target Encoding (Mean Encoding):**\n",
    "\n",
    "   - Target encoding replaces each category with the mean of the target variable for that category.\n",
    "   - It's often used for classification problems."
   ]
  },
  {
   "cell_type": "code",
   "execution_count": null,
   "metadata": {},
   "outputs": [],
   "source": [
    "# already encoded before feature selection (random forest)"
   ]
  },
  {
   "cell_type": "markdown",
   "metadata": {},
   "source": [
    "### III. Handling Imbalanced Dataset\n",
    "\n",
    "**Handling imbalanced datasets** is important because imbalanced data can lead to several issues that negatively impact the performance and reliability of machine learning models. Here are some key reasons:\n",
    "\n",
    "1. **Biased Model Performance**:\n",
    "\n",
    " - Models trained on imbalanced data tend to be biased towards the majority class, leading to poor performance on the minority class. This can result in misleading accuracy metrics.\n",
    "\n",
    "2. **Misleading Accuracy**:\n",
    "\n",
    " - High overall accuracy can be misleading in imbalanced datasets. For example, if 95% of the data belongs to one class, a model that always predicts the majority class will have 95% accuracy but will fail to identify the minority class.\n",
    "\n",
    "3. **Poor Generalization**:\n",
    "\n",
    " - Models trained on imbalanced data may not generalize well to new, unseen data, especially if the minority class is underrepresented.\n",
    "\n",
    "\n",
    "Some methods to handle imbalanced datasets:\n",
    "1. **Resampling Methods**:\n",
    "\n",
    " - Oversampling: Increase the number of instances in the minority class by duplicating or generating synthetic samples (e.g., SMOTE).\n",
    " - Undersampling: Reduce the number of instances in the majority class to balance the dataset.\n",
    "\n",
    "2. **Evaluation Metrics**:\n",
    "\n",
    " - Use appropriate evaluation metrics such as precision, recall, F1-score, ROC-AUC, and confusion matrix instead of accuracy to better assess model performance on imbalanced data.\n",
    "\n",
    "3. **Algorithmic Approaches**:\n",
    "\n",
    " - Use algorithms that are designed to handle imbalanced data, such as decision trees, random forests, or ensemble methods.\n",
    " - Adjust class weights in algorithms to give more importance to the minority class."
   ]
  },
  {
   "cell_type": "code",
   "execution_count": null,
   "metadata": {},
   "outputs": [],
   "source": [
    "# Write your code here"
   ]
  },
  {
   "cell_type": "markdown",
   "metadata": {},
   "source": [
    "### IV. Data Normalization\n",
    "\n",
    "Data normalization is used to achieve a standard distribution. Without normalization, models or processes that rely on the assumption of normality may not work correctly. Normalization helps reduce the magnitude effect and ensures numerical stability during optimization."
   ]
  },
  {
   "cell_type": "code",
   "execution_count": null,
   "metadata": {},
   "outputs": [],
   "source": []
  },
  {
   "cell_type": "markdown",
   "metadata": {},
   "source": [
    "### V. Dimensionality Reduction\n",
    "\n",
    "Dimensionality reduction is a technique used in data preprocessing to reduce the number of input features (dimensions) in a dataset while retaining as much important information as possible. It is essential when dealing with high-dimensional data, where too many features can cause problems like increased computational costs, overfitting, and difficulty in visualization. Reducing dimensions simplifies the data, making it easier to analyze and improving the performance of machine learning models.\n",
    "\n",
    "One of the main approaches to dimensionality reduction is feature extraction. Feature extraction creates new, smaller sets of features that capture the essence of the original data. Common techniques include:\n",
    "\n",
    "1. **Principal Component Analysis (PCA)**: Converts correlated features into a smaller number of uncorrelated \"principal components.\"\n",
    "2. **t-SNE (t-Distributed Stochastic Neighbor Embedding)**: A visualization-focused method to project high-dimensional data into 2D or 3D spaces.\n",
    "3. **Autoencoders**: Neural networks that learn compressed representations of the data."
   ]
  },
  {
   "cell_type": "code",
   "execution_count": null,
   "metadata": {},
   "outputs": [],
   "source": []
  },
  {
   "cell_type": "markdown",
   "metadata": {},
   "source": [
    "# 3. Compile Preprocessing Pipeline\n",
    "\n",
    "All of the preprocessing classes or functions defined earlier will be compiled in this step."
   ]
  },
  {
   "cell_type": "markdown",
   "metadata": {},
   "source": [
    "If you use sklearn to create preprocessing classes, you can list your preprocessing classes in the Pipeline object sequentially, and then fit and transform your data."
   ]
  },
  {
   "cell_type": "code",
   "execution_count": null,
   "metadata": {},
   "outputs": [],
   "source": [
    "# from sklearn.pipeline import Pipeline\n",
    "\n",
    "# # Note: You can add or delete preprocessing components from this pipeline\n",
    "\n",
    "# pipe = Pipeline([(\"missing\", FeatureImputer()),\n",
    "#                  (\"featurecreator\", FeatureCreator()),\n",
    "#                  (\"scaler\", FeatureScaler()),\n",
    "#                  (\"encoder\", FeatureEncoder())])\n",
    "\n",
    "# train_set = pipe.fit_transform(train_set)\n",
    "# val_set = pipe.transform(val_set)"
   ]
  },
  {
   "cell_type": "code",
   "execution_count": null,
   "metadata": {},
   "outputs": [],
   "source": [
    "# # Your code should work up until this point\n",
    "# train_set = pipe.fit_transform(train_set)\n",
    "# val_set = pipe.transform(val_set)"
   ]
  },
  {
   "cell_type": "markdown",
   "metadata": {},
   "source": [
    "or create your own here"
   ]
  },
  {
   "cell_type": "code",
   "execution_count": 4,
   "metadata": {
    "ExecuteTime": {
     "end_time": "2024-12-13T14:40:35.664254Z",
     "start_time": "2024-12-13T14:40:35.598719Z"
    }
   },
   "outputs": [],
   "source": [
    "reset_import()\n",
    "\n",
    "from abc import ABC, abstractmethod\n",
    "from src.preprocessing import TransformerStrategy\n",
    "\n",
    "\n",
    "class Model(ABC):\n",
    "    @abstractmethod\n",
    "    def fit(self, X, y):\n",
    "        pass\n",
    "\n",
    "    @abstractmethod\n",
    "    def predict(self, X):\n",
    "        pass\n",
    "\n",
    "\n",
    "class Proxy(TransformerStrategy):\n",
    "    def __init__(self, model: Model):\n",
    "        self._model = model\n",
    "\n",
    "    @property\n",
    "    def model(self):\n",
    "        return self._model\n",
    "\n",
    "    def fit(self, X, y):\n",
    "        self._model.fit(X, y)\n",
    "\n",
    "    def transform(self, X):\n",
    "        return self._model.predict(X)\n",
    "\n",
    "    def fit_transform(self, X, y):\n",
    "        self.fit(X, y)\n",
    "\n",
    "        return self.transform(X)\n",
    "\n",
    "\n",
    "\n",
    "class SKLearnLabelEncoderProxy():\n",
    "    def __init__(self):\n",
    "        self._encoders = {}\n",
    "\n",
    "    @abstractmethod\n",
    "    def fit(self, X, y=None):\n",
    "        for feature in X.columns:\n",
    "            encoder = OrdinalEncoder(handle_unknown='use_encoded_value',\n",
    "                                     unknown_value=-1).fit(X[feature].values.reshape(-1, 1))\n",
    "            self._encoders[feature] = encoder\n",
    "\n",
    "    @abstractmethod\n",
    "    def transform(self, X):\n",
    "        X_transformed = X.copy()\n",
    "        for feature in X_transformed.columns:\n",
    "            X_transformed[feature] = self._encoders[feature].transform(X_transformed[feature].values.reshape(-1, 1))\n",
    "\n",
    "        return X_transformed\n",
    "\n",
    "    def fit_transform(self, X, y=None):\n",
    "        self.fit(X, y)\n",
    "\n",
    "        return self.transform(X)"
   ]
  },
  {
   "cell_type": "markdown",
   "metadata": {},
   "source": [
    "# 4. Modeling and Validation\n",
    "\n",
    "Modelling is the process of building your own machine learning models to solve specific problems, or in this assignment context, predicting the target feature `attack_cat`. Validation is the process of evaluating your trained model using the validation set or cross-validation method and providing some metrics that can help you decide what to do in the next iteration of development."
   ]
  },
  {
   "cell_type": "code",
   "execution_count": 5,
   "metadata": {
    "ExecuteTime": {
     "end_time": "2024-12-13T13:37:44.849433Z",
     "start_time": "2024-12-13T13:37:44.845873Z"
    }
   },
   "outputs": [],
   "source": [
    "import pickle\n",
    "import os\n",
    "\n",
    "# Define the directory and filename\n",
    "directory_sklearn = './model/sklearn/'\n",
    "directory_scratch = './model/scratch/'"
   ]
  },
  {
   "cell_type": "code",
   "execution_count": 6,
   "metadata": {
    "ExecuteTime": {
     "end_time": "2024-12-13T13:37:45.530533Z",
     "start_time": "2024-12-13T13:37:45.525091Z"
    }
   },
   "outputs": [],
   "source": [
    "from src.compose import CustomPipeline, PipelineProperty, CustomTransformer, PipelineComponent\n",
    "from src.preprocessing.outlier import OutlierHandler, BoundOutlierHandlerStrategy\n",
    "from src.preprocessing.selection import FeatureSelectionHandler, RandomForestFeatureSelectionHandlerStrategy\n",
    "from src.preprocessing.missing import MissingValueHandler\n",
    "from src.preprocessing.duplicate import DuplicateHandler, DropDuplicateHandlerStrategy\n",
    "from src.preprocessing.scale import ScaleHandler, ZScoreScaleHandlerStrategy\n",
    "from src.compose.io import ClassifierTransformerStrategy, LabelEncoderIOTransformerStrategy"
   ]
  },
  {
   "cell_type": "code",
   "execution_count": 16,
   "metadata": {
    "ExecuteTime": {
     "end_time": "2024-12-13T13:37:47.086193Z",
     "start_time": "2024-12-13T13:37:47.079332Z"
    }
   },
   "outputs": [],
   "source": [
    "def compare_models(pipelines, X_data=X, y_data=y, fold=True, X_data_test = None, y_data_test = None):\n",
    "\n",
    "    if fold:\n",
    "        # Create StratifiedKFold object.\n",
    "        skf = StratifiedKFold(n_splits=5, shuffle=True, random_state=42)\n",
    "    \n",
    "        for pipeline in pipelines:\n",
    "            count = 0\n",
    "            f1_score_stratified = []\n",
    "            \n",
    "            for train_index, test_index in skf.split(X_data, y_data):\n",
    "                \n",
    "                #splitting\n",
    "                X_train_fold, X_test_fold = X_data.iloc[train_index], X_data.iloc[test_index]\n",
    "                y_train_fold, y_test_fold = y_data.iloc[train_index], y_data.iloc[test_index]\n",
    "    \n",
    "                #fit transform\n",
    "                X_train_transformed, _ = pipeline.fit_transform(X_train_fold, y_train_fold)\n",
    "                check_for_completeness(X_train_transformed)\n",
    "    \n",
    "                #predict\n",
    "                _, y_predict_fold = pipeline.transform(X_test_fold)\n",
    "    \n",
    "                #validations\n",
    "                f1_score_stratified.append(f1_score(y_true=y_test_fold, y_pred=y_predict_fold, average='macro'))\n",
    "    \n",
    "                count += 1\n",
    "                print(f\"\\nloop {count}: \\nF1: {f1_score_stratified[count-1]}\\n\")\n",
    "    \n",
    "            # model performance\n",
    "\n",
    "            # F1 score\n",
    "            print('\\nList of possible F1 score:', f1_score_stratified)\n",
    "            print('\\nMaximum F1 Score That can be obtained from this model is:',\n",
    "                max(f1_score_stratified)*100, '%')\n",
    "            print('\\nMinimum F1 Score:',\n",
    "                min(f1_score_stratified)*100, '%')\n",
    "            print('\\nOverall F1 Score:',\n",
    "                np.mean(f1_score_stratified)*100, '%')\n",
    "            print('\\nStandard Deviation is:', np.std(f1_score_stratified)*100, '%')\n",
    "            print('\\n')\n",
    "    else:\n",
    "        for pipeline in pipelines:\n",
    "\n",
    "            X_train_transformed, _ = pipeline.fit_transform(X_data, y_data)\n",
    "    \n",
    "            check_for_completeness(X_train_transformed)\n",
    "\n",
    "            if X_data_test is not None:\n",
    "                _, y_pred = pipeline.transform(X_data_test)\n",
    "            \n",
    "                if y_data_test is not None:\n",
    "                    f1_macro = f1_score(y_data_test, y_pred, average='macro')\n",
    "                    print(f\"F1 Score (Macro): {f1_macro}\")\n",
    "\n",
    "                else :\n",
    "                    return y_pred"
   ]
  },
  {
   "cell_type": "markdown",
   "metadata": {},
   "source": [
    "## A. KNN"
   ]
  },
  {
   "cell_type": "markdown",
   "metadata": {},
   "source": [
    "### a. Sklearn"
   ]
  },
  {
   "cell_type": "code",
   "execution_count": 13,
   "metadata": {
    "ExecuteTime": {
     "end_time": "2024-12-13T13:40:41.428911Z",
     "start_time": "2024-12-13T13:37:50.298787Z"
    }
   },
   "outputs": [
    {
     "name": "stdout",
     "output_type": "stream",
     "text": [
      "fit: missing\n",
      "fit: duplicate\n",
      "fit: outliers\n",
      "fit: feature selection\n",
      "fit: feature scaling\n",
      "fit: encoder\n",
      "fit: classifier\n",
      "transform: missing\n",
      "transform: outliers\n",
      "transform: feature selection\n",
      "transform: feature scaling\n",
      "transform: encoder\n",
      "transform: classifier\n",
      "(140272, 33)\n",
      "fit: missing\n"
     ]
    },
    {
     "ename": "KeyError",
     "evalue": "\"['ct_flw_http_mthd', 'ct_ftp_cmd', 'sloss', 'swin', 'dwin', 'stcpb', 'trans_depth', 'response_body_len'] not in index\"",
     "output_type": "error",
     "traceback": [
      "\u001b[1;31m---------------------------------------------------------------------------\u001b[0m",
      "\u001b[1;31mKeyError\u001b[0m                                  Traceback (most recent call last)",
      "Cell \u001b[1;32mIn[13], line 39\u001b[0m\n\u001b[0;32m     13\u001b[0m model \u001b[38;5;241m=\u001b[39m KNeighborsClassifier(n_neighbors\u001b[38;5;241m=\u001b[39m\u001b[38;5;241m3\u001b[39m)\n\u001b[0;32m     15\u001b[0m knn_sklearn \u001b[38;5;241m=\u001b[39m CustomPipeline(args\u001b[38;5;241m=\u001b[39m[\n\u001b[0;32m     16\u001b[0m     (\u001b[38;5;124m'\u001b[39m\u001b[38;5;124mmissing\u001b[39m\u001b[38;5;124m'\u001b[39m, MissingValueHandler(strategy\u001b[38;5;241m=\u001b[39mCustomTransformer(transformers\u001b[38;5;241m=\u001b[39m[\n\u001b[0;32m     17\u001b[0m         (SimpleImputer(strategy\u001b[38;5;241m=\u001b[39m\u001b[38;5;124m'\u001b[39m\u001b[38;5;124mmean\u001b[39m\u001b[38;5;124m'\u001b[39m), numerical_features),\n\u001b[1;32m   (...)\u001b[0m\n\u001b[0;32m     36\u001b[0m     {\u001b[38;5;124m'\u001b[39m\u001b[38;5;124mnumerical_features\u001b[39m\u001b[38;5;124m'\u001b[39m: numerical_features, \u001b[38;5;124m'\u001b[39m\u001b[38;5;124mcategorical_features\u001b[39m\u001b[38;5;124m'\u001b[39m: categorical_features}), verbose\u001b[38;5;241m=\u001b[39m\u001b[38;5;28;01mTrue\u001b[39;00m,\n\u001b[0;32m     37\u001b[0m     only_once\u001b[38;5;241m=\u001b[39m[\u001b[38;5;124m'\u001b[39m\u001b[38;5;124mduplicate\u001b[39m\u001b[38;5;124m'\u001b[39m])\n\u001b[1;32m---> 39\u001b[0m \u001b[43mcompare_models\u001b[49m\u001b[43m(\u001b[49m\u001b[43m[\u001b[49m\u001b[43mknn_sklearn\u001b[49m\u001b[43m]\u001b[49m\u001b[43m)\u001b[49m\n",
      "Cell \u001b[1;32mIn[12], line 23\u001b[0m, in \u001b[0;36mcompare_models\u001b[1;34m(pipelines, X, y, training)\u001b[0m\n\u001b[0;32m     19\u001b[0m check_for_completeness(X_train_transformed)\n\u001b[0;32m     21\u001b[0m \u001b[38;5;28;01mif\u001b[39;00m training:\n\u001b[0;32m     22\u001b[0m     \u001b[38;5;66;03m#training\u001b[39;00m\n\u001b[1;32m---> 23\u001b[0m     \u001b[43mpipeline\u001b[49m\u001b[38;5;241;43m.\u001b[39;49m\u001b[43mfit\u001b[49m\u001b[43m(\u001b[49m\u001b[43mX_train_transformed\u001b[49m\u001b[43m,\u001b[49m\u001b[43m \u001b[49m\u001b[43my_train_fold\u001b[49m\u001b[43m)\u001b[49m\n\u001b[0;32m     25\u001b[0m \u001b[38;5;66;03m#predict\u001b[39;00m\n\u001b[0;32m     26\u001b[0m _, y_predict_fold \u001b[38;5;241m=\u001b[39m pipeline\u001b[38;5;241m.\u001b[39mtransform(X_test_fold)\n",
      "File \u001b[1;32m~\\Desktop\\workspace\\Tubes2_ML\\src\\compose\\CustomPipeline.py:46\u001b[0m, in \u001b[0;36mCustomPipeline.fit\u001b[1;34m(self, X, y)\u001b[0m\n\u001b[0;32m     41\u001b[0m     \u001b[38;5;28mself\u001b[39m\u001b[38;5;241m.\u001b[39m_args[idx][\u001b[38;5;241m1\u001b[39m]\u001b[38;5;241m.\u001b[39mset_strategy(\n\u001b[0;32m     42\u001b[0m         CustomTransformer(transformers\u001b[38;5;241m=\u001b[39m[(component\u001b[38;5;241m.\u001b[39mstrategy, \u001b[38;5;28mself\u001b[39m\u001b[38;5;241m.\u001b[39m_pl_property\u001b[38;5;241m.\u001b[39mfeatures[key])]))\n\u001b[0;32m     44\u001b[0m     component \u001b[38;5;241m=\u001b[39m \u001b[38;5;28mself\u001b[39m\u001b[38;5;241m.\u001b[39m_args[idx][\u001b[38;5;241m1\u001b[39m]\n\u001b[1;32m---> 46\u001b[0m \u001b[43mcomponent\u001b[49m\u001b[38;5;241;43m.\u001b[39;49m\u001b[43mfit_transform\u001b[49m\u001b[43m(\u001b[49m\u001b[38;5;28;43mself\u001b[39;49m\u001b[38;5;241;43m.\u001b[39;49m\u001b[43m_pl_property\u001b[49m\u001b[43m)\u001b[49m\n\u001b[0;32m     48\u001b[0m component\u001b[38;5;241m.\u001b[39mpost_handler(\u001b[38;5;28mself\u001b[39m\u001b[38;5;241m.\u001b[39m_pl_property)\n\u001b[0;32m     50\u001b[0m \u001b[38;5;28;01mif\u001b[39;00m arg[\u001b[38;5;241m0\u001b[39m] \u001b[38;5;129;01min\u001b[39;00m \u001b[38;5;28mself\u001b[39m\u001b[38;5;241m.\u001b[39m_config[\u001b[38;5;124m'\u001b[39m\u001b[38;5;124mcounter\u001b[39m\u001b[38;5;124m'\u001b[39m]:\n",
      "File \u001b[1;32m~\\Desktop\\workspace\\Tubes2_ML\\src\\compose\\PipelineComponent.py:55\u001b[0m, in \u001b[0;36mPipelineComponent.fit_transform\u001b[1;34m(self, pl_property)\u001b[0m\n\u001b[0;32m     54\u001b[0m \u001b[38;5;28;01mdef\u001b[39;00m \u001b[38;5;21mfit_transform\u001b[39m(\u001b[38;5;28mself\u001b[39m, pl_property: PipelineProperty):\n\u001b[1;32m---> 55\u001b[0m     \u001b[38;5;28;43mself\u001b[39;49m\u001b[38;5;241;43m.\u001b[39;49m\u001b[43m_io_strategy\u001b[49m\u001b[38;5;241;43m.\u001b[39;49m\u001b[43mfit\u001b[49m\u001b[43m(\u001b[49m\u001b[43mpl_property\u001b[49m\u001b[43m)\u001b[49m\n\u001b[0;32m     57\u001b[0m     \u001b[38;5;28;01mreturn\u001b[39;00m \u001b[38;5;28mself\u001b[39m\u001b[38;5;241m.\u001b[39m_io_strategy\u001b[38;5;241m.\u001b[39mtransform(pl_property)\n",
      "File \u001b[1;32m~\\Desktop\\workspace\\Tubes2_ML\\src\\compose\\io\\strategy\\CommonIOTransformerStrategy.py:11\u001b[0m, in \u001b[0;36mCommonIOTransformerStrategy.fit\u001b[1;34m(self, pl_property)\u001b[0m\n\u001b[0;32m     10\u001b[0m \u001b[38;5;28;01mdef\u001b[39;00m \u001b[38;5;21mfit\u001b[39m(\u001b[38;5;28mself\u001b[39m, pl_property: PipelineProperty):\n\u001b[1;32m---> 11\u001b[0m     \u001b[38;5;28;43mself\u001b[39;49m\u001b[38;5;241;43m.\u001b[39;49m\u001b[43m_strategy\u001b[49m\u001b[38;5;241;43m.\u001b[39;49m\u001b[43mfit\u001b[49m\u001b[43m(\u001b[49m\u001b[43mpl_property\u001b[49m\u001b[38;5;241;43m.\u001b[39;49m\u001b[43mX_transformed\u001b[49m\u001b[43m,\u001b[49m\u001b[43m \u001b[49m\u001b[43mpl_property\u001b[49m\u001b[38;5;241;43m.\u001b[39;49m\u001b[43my_transformed\u001b[49m\u001b[43m)\u001b[49m\n",
      "File \u001b[1;32m~\\Desktop\\workspace\\Tubes2_ML\\src\\compose\\CustomTransformer.py:14\u001b[0m, in \u001b[0;36mCustomTransformer.fit\u001b[1;34m(self, X, y)\u001b[0m\n\u001b[0;32m     12\u001b[0m \u001b[38;5;28;01mdef\u001b[39;00m \u001b[38;5;21mfit\u001b[39m(\u001b[38;5;28mself\u001b[39m, X, y\u001b[38;5;241m=\u001b[39m\u001b[38;5;28;01mNone\u001b[39;00m):\n\u001b[0;32m     13\u001b[0m     \u001b[38;5;28;01mfor\u001b[39;00m transformer \u001b[38;5;129;01min\u001b[39;00m \u001b[38;5;28mself\u001b[39m\u001b[38;5;241m.\u001b[39m_transformers:\n\u001b[1;32m---> 14\u001b[0m         transformer[\u001b[38;5;241m0\u001b[39m]\u001b[38;5;241m.\u001b[39mfit(\u001b[43mX\u001b[49m\u001b[43m[\u001b[49m\u001b[43mtransformer\u001b[49m\u001b[43m[\u001b[49m\u001b[38;5;241;43m1\u001b[39;49m\u001b[43m]\u001b[49m\u001b[43m]\u001b[49m, y)\n",
      "File \u001b[1;32m~\\Desktop\\workspace\\Tubes2_ML\\venv\\Lib\\site-packages\\pandas\\core\\frame.py:4108\u001b[0m, in \u001b[0;36mDataFrame.__getitem__\u001b[1;34m(self, key)\u001b[0m\n\u001b[0;32m   4106\u001b[0m     \u001b[38;5;28;01mif\u001b[39;00m is_iterator(key):\n\u001b[0;32m   4107\u001b[0m         key \u001b[38;5;241m=\u001b[39m \u001b[38;5;28mlist\u001b[39m(key)\n\u001b[1;32m-> 4108\u001b[0m     indexer \u001b[38;5;241m=\u001b[39m \u001b[38;5;28;43mself\u001b[39;49m\u001b[38;5;241;43m.\u001b[39;49m\u001b[43mcolumns\u001b[49m\u001b[38;5;241;43m.\u001b[39;49m\u001b[43m_get_indexer_strict\u001b[49m\u001b[43m(\u001b[49m\u001b[43mkey\u001b[49m\u001b[43m,\u001b[49m\u001b[43m \u001b[49m\u001b[38;5;124;43m\"\u001b[39;49m\u001b[38;5;124;43mcolumns\u001b[39;49m\u001b[38;5;124;43m\"\u001b[39;49m\u001b[43m)\u001b[49m[\u001b[38;5;241m1\u001b[39m]\n\u001b[0;32m   4110\u001b[0m \u001b[38;5;66;03m# take() does not accept boolean indexers\u001b[39;00m\n\u001b[0;32m   4111\u001b[0m \u001b[38;5;28;01mif\u001b[39;00m \u001b[38;5;28mgetattr\u001b[39m(indexer, \u001b[38;5;124m\"\u001b[39m\u001b[38;5;124mdtype\u001b[39m\u001b[38;5;124m\"\u001b[39m, \u001b[38;5;28;01mNone\u001b[39;00m) \u001b[38;5;241m==\u001b[39m \u001b[38;5;28mbool\u001b[39m:\n",
      "File \u001b[1;32m~\\Desktop\\workspace\\Tubes2_ML\\venv\\Lib\\site-packages\\pandas\\core\\indexes\\base.py:6200\u001b[0m, in \u001b[0;36mIndex._get_indexer_strict\u001b[1;34m(self, key, axis_name)\u001b[0m\n\u001b[0;32m   6197\u001b[0m \u001b[38;5;28;01melse\u001b[39;00m:\n\u001b[0;32m   6198\u001b[0m     keyarr, indexer, new_indexer \u001b[38;5;241m=\u001b[39m \u001b[38;5;28mself\u001b[39m\u001b[38;5;241m.\u001b[39m_reindex_non_unique(keyarr)\n\u001b[1;32m-> 6200\u001b[0m \u001b[38;5;28;43mself\u001b[39;49m\u001b[38;5;241;43m.\u001b[39;49m\u001b[43m_raise_if_missing\u001b[49m\u001b[43m(\u001b[49m\u001b[43mkeyarr\u001b[49m\u001b[43m,\u001b[49m\u001b[43m \u001b[49m\u001b[43mindexer\u001b[49m\u001b[43m,\u001b[49m\u001b[43m \u001b[49m\u001b[43maxis_name\u001b[49m\u001b[43m)\u001b[49m\n\u001b[0;32m   6202\u001b[0m keyarr \u001b[38;5;241m=\u001b[39m \u001b[38;5;28mself\u001b[39m\u001b[38;5;241m.\u001b[39mtake(indexer)\n\u001b[0;32m   6203\u001b[0m \u001b[38;5;28;01mif\u001b[39;00m \u001b[38;5;28misinstance\u001b[39m(key, Index):\n\u001b[0;32m   6204\u001b[0m     \u001b[38;5;66;03m# GH 42790 - Preserve name from an Index\u001b[39;00m\n",
      "File \u001b[1;32m~\\Desktop\\workspace\\Tubes2_ML\\venv\\Lib\\site-packages\\pandas\\core\\indexes\\base.py:6252\u001b[0m, in \u001b[0;36mIndex._raise_if_missing\u001b[1;34m(self, key, indexer, axis_name)\u001b[0m\n\u001b[0;32m   6249\u001b[0m     \u001b[38;5;28;01mraise\u001b[39;00m \u001b[38;5;167;01mKeyError\u001b[39;00m(\u001b[38;5;124mf\u001b[39m\u001b[38;5;124m\"\u001b[39m\u001b[38;5;124mNone of [\u001b[39m\u001b[38;5;132;01m{\u001b[39;00mkey\u001b[38;5;132;01m}\u001b[39;00m\u001b[38;5;124m] are in the [\u001b[39m\u001b[38;5;132;01m{\u001b[39;00maxis_name\u001b[38;5;132;01m}\u001b[39;00m\u001b[38;5;124m]\u001b[39m\u001b[38;5;124m\"\u001b[39m)\n\u001b[0;32m   6251\u001b[0m not_found \u001b[38;5;241m=\u001b[39m \u001b[38;5;28mlist\u001b[39m(ensure_index(key)[missing_mask\u001b[38;5;241m.\u001b[39mnonzero()[\u001b[38;5;241m0\u001b[39m]]\u001b[38;5;241m.\u001b[39munique())\n\u001b[1;32m-> 6252\u001b[0m \u001b[38;5;28;01mraise\u001b[39;00m \u001b[38;5;167;01mKeyError\u001b[39;00m(\u001b[38;5;124mf\u001b[39m\u001b[38;5;124m\"\u001b[39m\u001b[38;5;132;01m{\u001b[39;00mnot_found\u001b[38;5;132;01m}\u001b[39;00m\u001b[38;5;124m not in index\u001b[39m\u001b[38;5;124m\"\u001b[39m)\n",
      "\u001b[1;31mKeyError\u001b[0m: \"['ct_flw_http_mthd', 'ct_ftp_cmd', 'sloss', 'swin', 'dwin', 'stcpb', 'trans_depth', 'response_body_len'] not in index\""
     ]
    }
   ],
   "source": [
    "reset_import()\n",
    "\n",
    "from sklearn.neighbors import KNeighborsClassifier\n",
    "\n",
    "import warnings\n",
    "\n",
    "warnings.filterwarnings('ignore')\n",
    "\n",
    "reset_import()\n",
    "\n",
    "from src.compose import CustomPipeline\n",
    "\n",
    "model = KNeighborsClassifier(n_neighbors=3)\n",
    "\n",
    "knn_sklearn = CustomPipeline(args=[\n",
    "    ('missing', MissingValueHandler(strategy=CustomTransformer(transformers=[\n",
    "        (SimpleImputer(strategy='mean'), numerical_features),\n",
    "        (SimpleImputer(strategy='most_frequent'), categorical_features)\n",
    "    ]))),\n",
    "    ('duplicate', DuplicateHandler(strategy=DropDuplicateHandlerStrategy())),\n",
    "    ('outliers', OutlierHandler(strategy=CustomTransformer(transformers=[\n",
    "        (BoundOutlierHandlerStrategy(), numerical_features)\n",
    "    ]))),\n",
    "    ('feature selection', FeatureSelectionHandler(strategy=CustomTransformer(transformers=[\n",
    "        (RandomForestFeatureSelectionHandlerStrategy(0.25), numerical_features),\n",
    "    ]))),\n",
    "    ('feature scaling', ScaleHandler(strategy=ZScoreScaleHandlerStrategy()), 'numerical_features'),\n",
    "    ('encoder', PipelineComponent(strategy=None).set_io_strategy(\n",
    "        LabelEncoderIOTransformerStrategy(strategy=CustomTransformer(transformers=[\n",
    "            (SKLearnLabelEncoderProxy(), categorical_features),\n",
    "        ])),\n",
    "    )),\n",
    "    ('classifier', PipelineComponent(strategy=None).set_io_strategy(\n",
    "        ClassifierTransformerStrategy(strategy=Proxy(model = model)))),\n",
    "], pl_property=PipelineProperty(\n",
    "    {'numerical_features': numerical_features, 'categorical_features': categorical_features}), verbose=True,\n",
    "    only_once=['duplicate'])\n",
    "\n",
    "compare_models([knn_sklearn])\n",
    "\n",
    "# final model\n",
    "compare_models([nb_sklearn], fold=False)"
   ]
  },
  {
   "cell_type": "code",
   "execution_count": null,
   "metadata": {},
   "outputs": [],
   "source": [
    "# Create the directory if it does not exist\n",
    "os.makedirs(directory_sklearn, exist_ok=True)\n",
    "model = knn_sklearn.get_component('classifier').io_strategy.strategy.model\n",
    "\n",
    "# Save the trained model to a .pkl file\n",
    "with open(os.path.join(directory_sklearn, 'knn.pkl'), 'wb') as file:\n",
    "    pickle.dump(model, file)\n"
   ]
  },
  {
   "cell_type": "markdown",
   "metadata": {},
   "source": [
    "### b. scratch"
   ]
  },
  {
   "cell_type": "code",
   "execution_count": null,
   "metadata": {},
   "outputs": [],
   "source": [
    "k_neighbours = [2,3,4,5]"
   ]
  },
  {
   "cell_type": "markdown",
   "metadata": {},
   "source": [
    "Euclidean"
   ]
  },
  {
   "cell_type": "code",
   "execution_count": null,
   "metadata": {},
   "outputs": [],
   "source": [
    "reset_import()\n",
    "\n",
    "from src.algorithm.neighbors import KNearestNeighborsClassifier\n",
    "from src.algorithm.neighbors.strategy import EuclideanDistanceStrategy\n",
    "\n",
    "import warnings\n",
    "\n",
    "warnings.filterwarnings('ignore')\n",
    "\n",
    "reset_import()\n",
    "\n",
    "from src.compose import CustomPipeline\n",
    "\n",
    "for neighbor in k_neighbours:\n",
    "        \n",
    "    model = KNearestNeighborsClassifier(n_neighbors=neighbor, distance_strategy=EuclideanDistanceStrategy())\n",
    "\n",
    "    knn_scratch_euclidean = CustomPipeline(args=[\n",
    "        ('missing', MissingValueHandler(strategy=CustomTransformer(transformers=[\n",
    "            (SimpleImputer(strategy='mean'), numerical_features),\n",
    "            (SimpleImputer(strategy='most_frequent'), categorical_features)\n",
    "        ]))),\n",
    "        ('duplicate', DuplicateHandler(strategy=DropDuplicateHandlerStrategy())),\n",
    "        ('outliers', OutlierHandler(strategy=CustomTransformer(transformers=[\n",
    "            (BoundOutlierHandlerStrategy(), numerical_features)\n",
    "        ]))),\n",
    "        ('feature selection', FeatureSelectionHandler(strategy=CustomTransformer(transformers=[\n",
    "            (RandomForestFeatureSelectionHandlerStrategy(0.25), numerical_features),\n",
    "        ]))),\n",
    "        ('feature scaling', ScaleHandler(strategy=ZScoreScaleHandlerStrategy()), 'numerical_features'),\n",
    "        ('encoder', PipelineComponent(strategy=None).set_io_strategy(\n",
    "            LabelEncoderIOTransformerStrategy(strategy=CustomTransformer(transformers=[\n",
    "                (SKLearnLabelEncoderProxy(), categorical_features),\n",
    "            ])),\n",
    "        )),\n",
    "        ('classifier', PipelineComponent(strategy=None).set_io_strategy(\n",
    "            ClassifierTransformerStrategy(strategy=Proxy(model = model)))),\n",
    "    ], pl_property=PipelineProperty(\n",
    "        {'numerical_features': numerical_features, 'categorical_features': categorical_features}), verbose=True,\n",
    "        only_once=['duplicate'])\n",
    "\n",
    "    compare_models([knn_scratch_euclidean])\n",
    "\n",
    "    compare_models([knn_scratch_euclidean], fold=False)\n",
    "\n",
    "    # Create the directory if it does not exist\n",
    "    os.makedirs(directory_scratch, exist_ok=True)\n",
    "    knn_scratch_euclidean.get_component('classifier').io_strategy.strategy.model.save(f\"{directory_scratch}knn_euc_k_{neighbor}.json\")"
   ]
  },
  {
   "cell_type": "markdown",
   "metadata": {},
   "source": [
    "Manhattan"
   ]
  },
  {
   "cell_type": "code",
   "execution_count": null,
   "metadata": {},
   "outputs": [],
   "source": [
    "reset_import()\n",
    "\n",
    "from src.algorithm.neighbors import KNearestNeighborsClassifier\n",
    "from src.algorithm.neighbors.strategy import ManhattanDistanceStrategy\n",
    "\n",
    "import warnings\n",
    "\n",
    "warnings.filterwarnings('ignore')\n",
    "\n",
    "reset_import()\n",
    "\n",
    "from src.compose import CustomPipeline\n",
    "\n",
    "for neighbor in k_neighbours:\n",
    "\n",
    "    model = KNearestNeighborsClassifier(n_neighbors=neighbor, distance_strategy=ManhattanDistanceStrategy())\n",
    "\n",
    "    knn_scratch_manhattan = CustomPipeline(args=[\n",
    "        ('missing', MissingValueHandler(strategy=CustomTransformer(transformers=[\n",
    "            (SimpleImputer(strategy='mean'), numerical_features),\n",
    "            (SimpleImputer(strategy='most_frequent'), categorical_features)\n",
    "        ]))),\n",
    "        ('duplicate', DuplicateHandler(strategy=DropDuplicateHandlerStrategy())),\n",
    "        ('outliers', OutlierHandler(strategy=CustomTransformer(transformers=[\n",
    "            (BoundOutlierHandlerStrategy(), numerical_features)\n",
    "        ]))),\n",
    "        ('feature selection', FeatureSelectionHandler(strategy=CustomTransformer(transformers=[\n",
    "            (RandomForestFeatureSelectionHandlerStrategy(0.25), numerical_features),\n",
    "        ]))),\n",
    "        ('feature scaling', ScaleHandler(strategy=ZScoreScaleHandlerStrategy()), 'numerical_features'),\n",
    "        ('encoder', PipelineComponent(strategy=None).set_io_strategy(\n",
    "            LabelEncoderIOTransformerStrategy(strategy=CustomTransformer(transformers=[\n",
    "                (SKLearnLabelEncoderProxy(), categorical_features),\n",
    "            ])),\n",
    "        )),\n",
    "        ('classifier', PipelineComponent(strategy=None).set_io_strategy(\n",
    "            ClassifierTransformerStrategy(strategy=Proxy(model = model)))),\n",
    "    ], pl_property=PipelineProperty(\n",
    "        {'numerical_features': numerical_features, 'categorical_features': categorical_features}), verbose=True,\n",
    "        only_once=['duplicate'])\n",
    "\n",
    "    compare_models([knn_scratch_manhattan])\n",
    "\n",
    "    compare_models([knn_scratch_euclidean], fold=False)\n",
    "\n",
    "    # Create the directory if it does not exist\n",
    "    os.makedirs(directory_scratch, exist_ok=True)\n",
    "    knn_scratch_euclidean.get_component('classifier').io_strategy.strategy.model.save(f\"{directory_scratch}knn_manh_k_{neighbor}.json\")"
   ]
  },
  {
   "cell_type": "markdown",
   "metadata": {},
   "source": [
    "Minkowski"
   ]
  },
  {
   "cell_type": "code",
   "execution_count": null,
   "metadata": {},
   "outputs": [],
   "source": [
    "reset_import()\n",
    "\n",
    "from src.algorithm.neighbors import KNearestNeighborsClassifier\n",
    "from src.algorithm.neighbors.strategy import MinkowskiDistance\n",
    "\n",
    "import warnings\n",
    "\n",
    "warnings.filterwarnings('ignore')\n",
    "\n",
    "reset_import()\n",
    "\n",
    "from src.compose import CustomPipeline\n",
    "\n",
    "for neighbor in k_neighbours:\n",
    "    model = KNearestNeighborsClassifier(n_neighbors=neighbor, distance_strategy=MinkowskiDistance())\n",
    "\n",
    "    knn_scratch_minkowski = CustomPipeline(args=[\n",
    "        ('missing', MissingValueHandler(strategy=CustomTransformer(transformers=[\n",
    "            (SimpleImputer(strategy='mean'), numerical_features),\n",
    "            (SimpleImputer(strategy='most_frequent'), categorical_features)\n",
    "        ]))),\n",
    "        ('duplicate', DuplicateHandler(strategy=DropDuplicateHandlerStrategy())),\n",
    "        ('outliers', OutlierHandler(strategy=CustomTransformer(transformers=[\n",
    "            (BoundOutlierHandlerStrategy(), numerical_features)\n",
    "        ]))),\n",
    "        ('feature selection', FeatureSelectionHandler(strategy=CustomTransformer(transformers=[\n",
    "            (RandomForestFeatureSelectionHandlerStrategy(0.25), numerical_features),\n",
    "        ]))),\n",
    "        ('feature scaling', ScaleHandler(strategy=ZScoreScaleHandlerStrategy()), 'numerical_features'),\n",
    "        ('encoder', PipelineComponent(strategy=None).set_io_strategy(\n",
    "            LabelEncoderIOTransformerStrategy(strategy=CustomTransformer(transformers=[\n",
    "                (SKLearnLabelEncoderProxy(), categorical_features),\n",
    "            ])),\n",
    "        )),\n",
    "        ('classifier', PipelineComponent(strategy=None).set_io_strategy(\n",
    "            ClassifierTransformerStrategy(strategy=Proxy(model=model)))),\n",
    "    ], pl_property=PipelineProperty(\n",
    "        {'numerical_features': numerical_features, 'categorical_features': categorical_features}), verbose=True,\n",
    "        only_once=['duplicate'])\n",
    "\n",
    "    compare_models([knn_scratch_minkowski])\n",
    "\n",
    "    compare_models([knn_scratch_euclidean], fold=False)\n",
    "\n",
    "    # Create the directory if it does not exist\n",
    "    os.makedirs(directory_scratch, exist_ok=True)\n",
    "    knn_scratch_euclidean.get_component('classifier').io_strategy.strategy.model.save(f\"{directory_scratch}knn_mink_k_{neighbor}.json\")"
   ]
  },
  {
   "cell_type": "markdown",
   "metadata": {},
   "source": [
    "## B. Naive Bayes"
   ]
  },
  {
   "cell_type": "markdown",
   "metadata": {},
   "source": [
    "### a. Sklearn"
   ]
  },
  {
   "cell_type": "code",
   "execution_count": 73,
   "metadata": {},
   "outputs": [
    {
     "name": "stdout",
     "output_type": "stream",
     "text": [
      "Sklearn Naive Bayes Model Performance\n",
      "(140272, 33)\n",
      "\n",
      "loop 1: \n",
      "acc: 0.5425019247768684 \n",
      "F1: 0.2762950761066114\n",
      "\n",
      "(140273, 33)\n",
      "\n",
      "loop 2: \n",
      "acc: 0.40971826166305464 \n",
      "F1: 0.10590549106065769\n",
      "\n",
      "(140273, 33)\n",
      "\n",
      "loop 3: \n",
      "acc: 0.5239819778715639 \n",
      "F1: 0.2696976755814054\n",
      "\n",
      "(140273, 33)\n",
      "\n",
      "loop 4: \n",
      "acc: 0.4094331014029885 \n",
      "F1: 0.10583942855067474\n",
      "\n",
      "(140273, 33)\n",
      "\n",
      "loop 5: \n",
      "acc: 0.4178168130489335 \n",
      "F1: 0.10803157614076368\n",
      "\n",
      "List of possible accuracy: [0.5425019247768684, 0.40971826166305464, 0.5239819778715639, 0.4094331014029885, 0.4178168130489335]\n",
      "\n",
      "Maximum Accuracy That can be obtained from this model is: 54.250192477686845 %\n",
      "\n",
      "Minimum Accuracy: 40.94331014029885 %\n",
      "\n",
      "Overall Accuracy: 0.4606904157526818 %\n",
      "\n",
      "Standard Deviation is: 0.059602958684853394\n",
      "\n",
      "List of possible F1 score: [0.2762950761066114, 0.10590549106065769, 0.2696976755814054, 0.10583942855067474, 0.10803157614076368]\n",
      "\n",
      "Maximum F1 Score That can be obtained from this model is: 27.629507610661143 %\n",
      "\n",
      "Minimum F1 Score: 10.583942855067473 %\n",
      "\n",
      "Overall F1 Score: 17.315384948802258 %\n",
      "\n",
      "Standard Deviation is: 0.08155158667782907\n",
      "\n",
      "\n"
     ]
    }
   ],
   "source": [
    "reset_import()\n",
    "\n",
    "from sklearn.naive_bayes import GaussianNB\n",
    "\n",
    "import warnings\n",
    "\n",
    "warnings.filterwarnings('ignore')\n",
    "\n",
    "reset_import()\n",
    "\n",
    "from src.compose import CustomPipeline\n",
    "\n",
    "model = GaussianNB()\n",
    "\n",
    "nb_sklearn = CustomPipeline(args=[\n",
    "    ('missing', MissingValueHandler(strategy=CustomTransformer(transformers=[\n",
    "        (SimpleImputer(strategy='mean'), numerical_features),\n",
    "        (SimpleImputer(strategy='most_frequent'), categorical_features)\n",
    "    ]))),\n",
    "    ('duplicate', DuplicateHandler(strategy=DropDuplicateHandlerStrategy())),\n",
    "    ('outliers', OutlierHandler(strategy=CustomTransformer(transformers=[\n",
    "        (BoundOutlierHandlerStrategy(), numerical_features)\n",
    "    ]))),\n",
    "    ('feature selection', FeatureSelectionHandler(strategy=CustomTransformer(transformers=[\n",
    "        (RandomForestFeatureSelectionHandlerStrategy(0.25), numerical_features),\n",
    "    ]))),\n",
    "    ('feature scaling', ScaleHandler(strategy=ZScoreScaleHandlerStrategy()), 'numerical_features'),\n",
    "    ('encoder', PipelineComponent(strategy=None).set_io_strategy(\n",
    "        LabelEncoderIOTransformerStrategy(strategy=CustomTransformer(transformers=[\n",
    "            (SKLearnLabelEncoderProxy(), categorical_features),\n",
    "        ])),\n",
    "    )),\n",
    "    ('classifier', PipelineComponent(strategy=None).set_io_strategy(\n",
    "        ClassifierTransformerStrategy(strategy=Proxy(model=model)))),\n",
    "], pl_property=PipelineProperty(\n",
    "    {'numerical_features': numerical_features, 'categorical_features': categorical_features}), verbose=False,\n",
    "    only_once=['duplicate'])\n",
    "\n",
    "print(\"Sklearn Naive Bayes Model Performance\")\n",
    "compare_models([nb_sklearn])\n",
    "\n",
    "# final model\n",
    "compare_models([nb_sklearn], fold=False)"
   ]
  },
  {
   "cell_type": "code",
   "execution_count": 74,
   "metadata": {},
   "outputs": [],
   "source": [
    "# Create the directory if it does not exist\n",
    "os.makedirs(directory_sklearn, exist_ok=True)\n",
    "model = nb_sklearn.get_component('classifier').io_strategy.strategy.model\n",
    "\n",
    "# Save the trained model to a .pkl file\n",
    "with open(os.path.join(directory_sklearn, 'nb.pkl'), 'wb') as file:\n",
    "    pickle.dump(model, file)\n"
   ]
  },
  {
   "cell_type": "markdown",
   "metadata": {},
   "source": [
    "### b. Scratch"
   ]
  },
  {
   "cell_type": "code",
   "execution_count": 75,
   "metadata": {},
   "outputs": [
    {
     "name": "stdout",
     "output_type": "stream",
     "text": [
      "Scratch Gaussian Naive Bayes Model Performance\n",
      "(140272, 33)\n",
      "\n",
      "loop 1: \n",
      "acc: 0.3008069805241096 \n",
      "F1: 0.046316297857393746\n",
      "\n",
      "(140273, 33)\n",
      "\n",
      "loop 2: \n",
      "acc: 0.29913311280939886 \n",
      "F1: 0.04729018120498971\n",
      "\n",
      "(140273, 33)\n",
      "\n",
      "loop 3: \n",
      "acc: 0.2991901448614121 \n",
      "F1: 0.054063613862316805\n",
      "\n",
      "(140273, 33)\n",
      "\n",
      "loop 4: \n",
      "acc: 0.2892380517851032 \n",
      "F1: 0.04669873740620006\n",
      "\n",
      "(140273, 33)\n",
      "\n",
      "loop 5: \n",
      "acc: 0.27056005475076994 \n",
      "F1: 0.06640680271957114\n",
      "\n",
      "List of possible accuracy: [0.3008069805241096, 0.29913311280939886, 0.2991901448614121, 0.2892380517851032, 0.27056005475076994]\n",
      "\n",
      "Maximum Accuracy That can be obtained from this model is: 30.08069805241096 %\n",
      "\n",
      "Minimum Accuracy: 27.056005475076994 %\n",
      "\n",
      "Overall Accuracy: 0.2917856689461587 %\n",
      "\n",
      "Standard Deviation is: 0.011377278309510559\n",
      "\n",
      "List of possible F1 score: [0.046316297857393746, 0.04729018120498971, 0.054063613862316805, 0.04669873740620006, 0.06640680271957114]\n",
      "\n",
      "Maximum F1 Score That can be obtained from this model is: 6.640680271957114 %\n",
      "\n",
      "Minimum F1 Score: 4.631629785739374 %\n",
      "\n",
      "Overall F1 Score: 5.215512661009429 %\n",
      "\n",
      "Standard Deviation is: 0.007671823690149733\n",
      "\n",
      "\n"
     ]
    }
   ],
   "source": [
    "reset_import()\n",
    "\n",
    "from src.algorithm import GaussianNaiveBayes\n",
    "\n",
    "import warnings\n",
    "\n",
    "warnings.filterwarnings('ignore')\n",
    "\n",
    "reset_import()\n",
    "\n",
    "from src.compose import CustomPipeline\n",
    "\n",
    "var_smooths = [10 ** -i for i in range(1, 17)]\n",
    "\n",
    "for var_smooth in var_smooths:\n",
    "    model = GaussianNaiveBayes(var_smoothing=var_smooth)\n",
    "\n",
    "    nb_scratch = CustomPipeline(args=[\n",
    "        ('missing', MissingValueHandler(strategy=CustomTransformer(transformers=[\n",
    "            (SimpleImputer(strategy='mean'), numerical_features),\n",
    "            (SimpleImputer(strategy='most_frequent'), categorical_features)\n",
    "        ]))),\n",
    "        ('duplicate', DuplicateHandler(strategy=DropDuplicateHandlerStrategy())),\n",
    "        ('outliers', OutlierHandler(strategy=CustomTransformer(transformers=[\n",
    "            (BoundOutlierHandlerStrategy(), numerical_features)\n",
    "        ]))),\n",
    "        ('feature selection', FeatureSelectionHandler(strategy=CustomTransformer(transformers=[\n",
    "            (RandomForestFeatureSelectionHandlerStrategy(0.25), numerical_features),\n",
    "        ]))),\n",
    "        ('feature scaling', ScaleHandler(strategy=ZScoreScaleHandlerStrategy()), 'numerical_features'),\n",
    "        ('encoder', PipelineComponent(strategy=None).set_io_strategy(\n",
    "            LabelEncoderIOTransformerStrategy(strategy=CustomTransformer(transformers=[\n",
    "                (SKLearnLabelEncoderProxy(), categorical_features),\n",
    "            ])),\n",
    "        )),\n",
    "        ('classifier', PipelineComponent(strategy=None).set_io_strategy(\n",
    "            ClassifierTransformerStrategy(strategy=Proxy(model=model)))),\n",
    "    ], pl_property=PipelineProperty(\n",
    "        {'numerical_features': numerical_features, 'categorical_features': categorical_features}), verbose=False,\n",
    "        only_once=['duplicate'])\n",
    "\n",
    "    print(\"Scratch Gaussian Naive Bayes Model Performance\")\n",
    "    compare_models([nb_scratch])\n",
    "\n",
    "    # final model\n",
    "    compare_models([nb_scratch], fold=False)\n",
    "\n",
    "    # Create the directory if it does not exist\n",
    "    os.makedirs(directory_scratch, exist_ok=True)\n",
    "    nb_scratch.get_component('classifier').io_strategy.strategy.model.save(f\"{directory_scratch}nb_smooth_{var_smooth}.json\")"
   ]
  },
  {
   "cell_type": "markdown",
   "metadata": {},
   "source": [
    "## C. ID3"
   ]
  },
  {
   "cell_type": "markdown",
   "metadata": {},
   "source": [
    "### a. Sklearn"
   ]
  },
  {
   "cell_type": "code",
   "execution_count": null,
   "metadata": {
    "ExecuteTime": {
     "end_time": "2024-12-05T16:18:38.474699Z",
     "start_time": "2024-12-05T16:17:12.048138Z"
    }
   },
   "outputs": [
    {
     "name": "stdout",
     "output_type": "stream",
     "text": [
      "Sklearn Decision Tree Model Performance\n",
      "(140272, 14)\n",
      "\n",
      "loop 1: \n",
      "F1: 0.5790548665355837\n",
      "\n",
      "(140273, 14)\n",
      "\n",
      "loop 2: \n",
      "F1: 0.5667109670752115\n",
      "\n",
      "(140273, 14)\n",
      "\n",
      "loop 3: \n",
      "F1: 0.5818546073034934\n",
      "\n",
      "(140273, 14)\n",
      "\n",
      "loop 4: \n",
      "F1: 0.5849045754397502\n",
      "\n",
      "(140273, 14)\n",
      "\n",
      "loop 5: \n",
      "F1: 0.5868500485981645\n",
      "\n",
      "\n",
      "List of possible F1 score: [np.float64(0.5790548665355837), np.float64(0.5667109670752115), np.float64(0.5818546073034934), np.float64(0.5849045754397502), np.float64(0.5868500485981645)]\n",
      "\n",
      "Maximum F1 Score That can be obtained from this model is: 58.685004859816445 %\n",
      "\n",
      "Minimum F1 Score: 56.67109670752115 %\n",
      "\n",
      "Overall F1 Score: 57.98750129904408 %\n",
      "\n",
      "Standard Deviation is: 0.7096917061238148 %\n",
      "\n",
      "\n"
     ]
    }
   ],
   "source": [
    "from sklearn.tree import DecisionTreeClassifier\n",
    "from src.algorithm import IterativeDichotomiser3\n",
    "\n",
    "reset_import()\n",
    "\n",
    "import warnings\n",
    "\n",
    "warnings.filterwarnings('ignore')\n",
    "\n",
    "reset_import()\n",
    "\n",
    "from src.compose import CustomPipeline\n",
    "\n",
    "model = DecisionTreeClassifier(criterion='entropy', random_state=42)\n",
    "\n",
    "ID3_sklearn = CustomPipeline(args=[\n",
    "    ('missing', MissingValueHandler(strategy=CustomTransformer(transformers=[\n",
    "        (SimpleImputer(strategy='mean'), numerical_features),\n",
    "        (SimpleImputer(strategy='most_frequent'), categorical_features)\n",
    "    ]))),\n",
    "    ('duplicate', DuplicateHandler(strategy=DropDuplicateHandlerStrategy())),\n",
    "    ('outliers', OutlierHandler(strategy=CustomTransformer(transformers=[\n",
    "        (BoundOutlierHandlerStrategy(), numerical_features)\n",
    "    ]))),\n",
    "    ('feature selection', FeatureSelectionHandler(strategy=CustomTransformer(transformers=[\n",
    "        (RandomForestFeatureSelectionHandlerStrategy(0.25), numerical_features),\n",
    "    ]))),\n",
    "    ('feature scaling', ScaleHandler(strategy=ZScoreScaleHandlerStrategy()), 'numerical_features'),\n",
    "    ('encoder', PipelineComponent(strategy=None).set_io_strategy(\n",
    "        LabelEncoderIOTransformerStrategy(strategy=CustomTransformer(transformers=[\n",
    "            (SKLearnLabelEncoderProxy(), categorical_features),\n",
    "        ])),\n",
    "    )),\n",
    "    ('classifier', PipelineComponent(strategy=None).set_io_strategy(\n",
    "        ClassifierTransformerStrategy(strategy=Proxy(model= model)))),\n",
    "], pl_property=PipelineProperty(\n",
    "    {'numerical_features': numerical_features, 'categorical_features': categorical_features}), verbose=False,\n",
    "    only_once=['duplicate'])\n",
    "\n",
    "\n",
    "print(\"Sklearn Decision Tree Model Performance\")\n",
    "compare_models([ID3_sklearn])\n",
    "\n",
    "# final model\n",
    "compare_models([ID3_sklearn], fold=False)"
   ]
  },
  {
   "cell_type": "code",
   "execution_count": null,
   "metadata": {},
   "outputs": [],
   "source": [
    "# Create the directory if it does not exist\n",
    "os.makedirs(directory_sklearn, exist_ok=True)\n",
    "model = ID3_sklearn.get_component('classifier').io_strategy.strategy.model\n",
    "    \n",
    "# Save the trained model to a .pkl file\n",
    "with open(os.path.join(directory_sklearn, 'tree.pkl'), 'wb') as file:\n",
    "    pickle.dump(model, file)"
   ]
  },
  {
   "cell_type": "markdown",
   "metadata": {},
   "source": [
    "### b. Scratch"
   ]
  },
  {
   "cell_type": "code",
   "execution_count": 17,
   "metadata": {},
   "outputs": [
    {
     "name": "stdout",
     "output_type": "stream",
     "text": [
      "Scratch Decision Tree Model Performance at depth = 5\n",
      "(140272, 14)\n",
      "\n",
      "loop 1: \n",
      "F1: 0.42878396515890815\n",
      "\n",
      "(140273, 14)\n",
      "\n",
      "loop 2: \n",
      "F1: 0.4327748109723063\n",
      "\n",
      "(140273, 14)\n",
      "\n",
      "loop 3: \n",
      "F1: 0.43528211967140845\n",
      "\n",
      "(140273, 14)\n",
      "\n",
      "loop 4: \n",
      "F1: 0.4420145037555835\n",
      "\n",
      "(140273, 14)\n",
      "\n",
      "loop 5: \n",
      "F1: 0.4442341974681\n",
      "\n",
      "\n",
      "List of possible F1 score: [np.float64(0.42878396515890815), np.float64(0.4327748109723063), np.float64(0.43528211967140845), np.float64(0.4420145037555835), np.float64(0.4442341974681)]\n",
      "\n",
      "Maximum F1 Score That can be obtained from this model is: 44.42341974681 %\n",
      "\n",
      "Minimum F1 Score: 42.87839651589081 %\n",
      "\n",
      "Overall F1 Score: 43.66179194052613 %\n",
      "\n",
      "Standard Deviation is: 0.5745528638358459 %\n",
      "\n",
      "\n",
      "(175341, 14)\n"
     ]
    },
    {
     "ename": "UnboundLocalError",
     "evalue": "cannot access local variable 'y_pred' where it is not associated with a value",
     "output_type": "error",
     "traceback": [
      "\u001b[1;31m---------------------------------------------------------------------------\u001b[0m",
      "\u001b[1;31mUnboundLocalError\u001b[0m                         Traceback (most recent call last)",
      "Cell \u001b[1;32mIn[17], line 45\u001b[0m\n\u001b[0;32m     42\u001b[0m compare_models([ID3_scratch], X_data\u001b[38;5;241m=\u001b[39mX_ID3)\n\u001b[0;32m     44\u001b[0m \u001b[38;5;66;03m# final model\u001b[39;00m\n\u001b[1;32m---> 45\u001b[0m \u001b[43mcompare_models\u001b[49m\u001b[43m(\u001b[49m\u001b[43m[\u001b[49m\u001b[43mID3_scratch\u001b[49m\u001b[43m]\u001b[49m\u001b[43m,\u001b[49m\u001b[43m \u001b[49m\u001b[43mX_data\u001b[49m\u001b[38;5;241;43m=\u001b[39;49m\u001b[43mX_ID3\u001b[49m\u001b[43m,\u001b[49m\u001b[43m \u001b[49m\u001b[43mfold\u001b[49m\u001b[38;5;241;43m=\u001b[39;49m\u001b[38;5;28;43;01mFalse\u001b[39;49;00m\u001b[43m)\u001b[49m\n\u001b[0;32m     47\u001b[0m \u001b[38;5;66;03m# Create the directory if it does not exist\u001b[39;00m\n\u001b[0;32m     48\u001b[0m os\u001b[38;5;241m.\u001b[39mmakedirs(directory_scratch, exist_ok\u001b[38;5;241m=\u001b[39m\u001b[38;5;28;01mTrue\u001b[39;00m)\n",
      "Cell \u001b[1;32mIn[16], line 57\u001b[0m, in \u001b[0;36mcompare_models\u001b[1;34m(pipelines, X_data, y_data, fold, X_data_test, y_data_test)\u001b[0m\n\u001b[0;32m     54\u001b[0m     \u001b[38;5;28mprint\u001b[39m(\u001b[38;5;124mf\u001b[39m\u001b[38;5;124m\"\u001b[39m\u001b[38;5;124mF1 Score (Macro): \u001b[39m\u001b[38;5;132;01m{\u001b[39;00mf1_macro\u001b[38;5;132;01m}\u001b[39;00m\u001b[38;5;124m\"\u001b[39m)\n\u001b[0;32m     56\u001b[0m \u001b[38;5;28;01melse\u001b[39;00m:\n\u001b[1;32m---> 57\u001b[0m     \u001b[38;5;28;01mreturn\u001b[39;00m \u001b[43my_pred\u001b[49m\n",
      "\u001b[1;31mUnboundLocalError\u001b[0m: cannot access local variable 'y_pred' where it is not associated with a value"
     ]
    }
   ],
   "source": [
    "from src.algorithm import IterativeDichotomiser3\n",
    "\n",
    "reset_import()\n",
    "\n",
    "import warnings\n",
    "\n",
    "warnings.filterwarnings('ignore')\n",
    "\n",
    "reset_import()\n",
    "\n",
    "from src.compose import CustomPipeline\n",
    "\n",
    "depths = [5, 10, None]\n",
    "\n",
    "X_ID3 = X.copy()\n",
    "X_ID3[categorical_features] = X_ID3[categorical_features].astype('str')\n",
    "\n",
    "for i, max_depth in enumerate(depths):\n",
    "    model = IterativeDichotomiser3(max_depth=max_depth)\n",
    "\n",
    "    ID3_scratch = CustomPipeline(args=[\n",
    "        ('missing', MissingValueHandler(strategy=CustomTransformer(transformers=[\n",
    "            (SimpleImputer(strategy='mean'), numerical_features),\n",
    "            (SimpleImputer(strategy='most_frequent'), categorical_features)\n",
    "        ]))),\n",
    "        ('duplicate', DuplicateHandler(strategy=DropDuplicateHandlerStrategy())),\n",
    "        ('outliers', OutlierHandler(strategy=CustomTransformer(transformers=[\n",
    "            (BoundOutlierHandlerStrategy(), numerical_features)\n",
    "        ]))),\n",
    "        ('feature selection', FeatureSelectionHandler(strategy=CustomTransformer(transformers=[\n",
    "            (RandomForestFeatureSelectionHandlerStrategy(0.25), numerical_features),\n",
    "        ]))),\n",
    "        ('feature scaling', ScaleHandler(strategy=ZScoreScaleHandlerStrategy()), 'numerical_features'),\n",
    "        ('classifier', PipelineComponent(strategy=None).set_io_strategy(\n",
    "            ClassifierTransformerStrategy(strategy=Proxy(model= model)))),\n",
    "    ], pl_property=PipelineProperty(\n",
    "        {'numerical_features': numerical_features, 'categorical_features': categorical_features}), verbose=False,\n",
    "        only_once=['duplicate'])\n",
    "\n",
    "    # validation\n",
    "    print(f\"Scratch Decision Tree Model Performance at depth = {max_depth}\")\n",
    "    compare_models([ID3_scratch], X_data=X_ID3)\n",
    "\n",
    "    # final model\n",
    "    compare_models([ID3_scratch], X_data=X_ID3, fold=False)\n",
    "\n",
    "    # Create the directory if it does not exist\n",
    "    os.makedirs(directory_scratch, exist_ok=True)\n",
    "    ID3_scratch.get_component('classifier').io_strategy.strategy.model.save(f\"{directory_scratch}tree_max_depth_{max_depth}.json\")"
   ]
  },
  {
   "cell_type": "markdown",
   "metadata": {
    "id": "LoH2u6fOLfHh"
   },
   "source": [
    "## D. Improvements (Optional)\n",
    "\n",
    "- **Visualize the model evaluation result**\n",
    "\n",
    "This will help you to understand the details more clearly about your model's performance. From the visualization, you can see clearly if your model is leaning towards a class than the others. (Hint: confusion matrix, ROC-AUC curve, etc.)\n",
    "\n",
    "- **Explore the hyperparameters of your models**\n",
    "\n",
    "Each models have their own hyperparameters. And each of the hyperparameter have different effects on the model behaviour. You can optimize the model performance by finding the good set of hyperparameters through a process called **hyperparameter tuning**. (Hint: Grid search, random search, bayesian optimization)\n",
    "\n",
    "- **Cross-validation**\n",
    "\n",
    "Cross-validation is a critical technique in machine learning and data science for evaluating and validating the performance of predictive models. It provides a more **robust** and **reliable** evaluation method compared to a hold-out (single train-test set) validation. Though, it requires more time and computing power because of how cross-validation works. (Hint: k-fold cross-validation, stratified k-fold cross-validation, etc.)"
   ]
  },
  {
   "cell_type": "code",
   "execution_count": 8,
   "metadata": {
    "id": "pg-A54yELfHh"
   },
   "outputs": [],
   "source": [
    "X_test = pd.read_csv(f\"https://drive.google.com/uc?id={test_file_id[0]}\")\n",
    "\n",
    "for file_id in test_file_id[1:]:\n",
    "    X_test = pd.merge(X_test, pd.read_csv(f\"https://drive.google.com/uc?id={file_id}\"), on='id')\n",
    "    \n",
    "X_test.set_index('id', inplace=True)"
   ]
  },
  {
   "cell_type": "code",
   "execution_count": 9,
   "metadata": {},
   "outputs": [
    {
     "name": "stdout",
     "output_type": "stream",
     "text": [
      "fit and transform: missing\n",
      "fit and transform: duplicate\n",
      "fit and transform: outliers\n",
      "fit and transform: feature selection\n",
      "fit and transform: feature scaling\n",
      "fit and transform: classifier\n",
      "transform: missing\n",
      "transform: outliers\n",
      "transform: feature selection\n",
      "transform: feature scaling\n",
      "transform: classifier\n",
      "(175341, 14)\n",
      "transform: missing\n",
      "transform: outliers\n",
      "transform: feature selection\n",
      "transform: feature scaling\n",
      "transform: classifier\n"
     ]
    }
   ],
   "source": [
    "from src.algorithm import IterativeDichotomiser3\n",
    "\n",
    "reset_import()\n",
    "\n",
    "import warnings\n",
    "\n",
    "warnings.filterwarnings('ignore')\n",
    "\n",
    "reset_import()\n",
    "\n",
    "from src.compose import CustomPipeline\n",
    "\n",
    "X_ID3 = X.copy()\n",
    "X_ID3[categorical_features] = X_ID3[categorical_features].astype('str')\n",
    "\n",
    "max_depth = None\n",
    "model = IterativeDichotomiser3(max_depth=max_depth)\n",
    "\n",
    "ID3_submission = CustomPipeline(args=[\n",
    "    ('missing', MissingValueHandler(strategy=CustomTransformer(transformers=[\n",
    "        (SimpleImputer(strategy='mean'), numerical_features),\n",
    "        (SimpleImputer(strategy='most_frequent'), categorical_features)\n",
    "    ]))),\n",
    "    ('duplicate', DuplicateHandler(strategy=DropDuplicateHandlerStrategy())),\n",
    "    ('outliers', OutlierHandler(strategy=CustomTransformer(transformers=[\n",
    "        (BoundOutlierHandlerStrategy(), numerical_features)\n",
    "    ]))),\n",
    "    ('feature selection', FeatureSelectionHandler(strategy=CustomTransformer(transformers=[\n",
    "        (RandomForestFeatureSelectionHandlerStrategy(0.25), numerical_features),\n",
    "    ]))),\n",
    "    ('feature scaling', ScaleHandler(strategy=ZScoreScaleHandlerStrategy()), 'numerical_features'),\n",
    "    ('classifier', PipelineComponent(strategy=None).set_io_strategy(\n",
    "        ClassifierTransformerStrategy(strategy=Proxy(model= model)))),\n",
    "], pl_property=PipelineProperty(\n",
    "    {'numerical_features': numerical_features, 'categorical_features': categorical_features}), verbose=True,\n",
    "    only_once=['duplicate'])\n",
    "\n",
    "X_train_transformed, y_train_transformed = ID3_submission.fit_transform(X_ID3, y)\n",
    "\n",
    "check_for_completeness(X_train_transformed)\n",
    "\n",
    "X_test[categorical_features] = X_test[categorical_features].astype('str')\n",
    "_, y_pred = ID3_submission.transform(X_test)\n",
    "\n",
    "y_pred = pd.DataFrame(y_pred.reshape(len(y_pred),1))\n",
    "y_pred.reset_index(inplace=True)  # Add index as 'id'\n",
    "y_pred.columns = ['id', 'attack_cat']  # Rename columns\n",
    "\n",
    "# Save to CSV\n",
    "y_pred.to_csv('submission.csv', index=False)"
   ]
  },
  {
   "cell_type": "code",
   "execution_count": 10,
   "metadata": {},
   "outputs": [],
   "source": [
    "# Create the directory if it does not exist\n",
    "os.makedirs(directory_scratch, exist_ok=True)\n",
    "ID3_submission.get_component('classifier').io_strategy.strategy.model.save(f\"{directory_scratch}submission.json\")"
   ]
  },
  {
   "cell_type": "markdown",
   "metadata": {
    "id": "Li4l53DjLfHh"
   },
   "source": [
    "## E. Submission\n",
    "To predict the test set target feature and submit the results to the kaggle competition platform, do the following:\n",
    "1. Create a new pipeline instance identical to the first in Data Preprocessing\n",
    "2. With the pipeline, apply `fit_transform` to the original training set before splitting, then only apply `transform` to the test set.\n",
    "3. Retrain the model on the preprocessed training set\n",
    "4. Predict the test set\n",
    "5. Make sure the submission contains the `id` and `attack_cat` column."
   ]
  },
  {
   "cell_type": "code",
   "execution_count": null,
   "metadata": {
    "id": "LeqnfWc-LfHi"
   },
   "outputs": [],
   "source": [
    "# Type your code here"
   ]
  },
  {
   "cell_type": "markdown",
   "metadata": {
    "id": "R-jXvKOpLfHi"
   },
   "source": [
    "# 6. Error Analysis\n",
    "\n",
    "Based on all the process you have done until the modeling and evaluation step, write an analysis to support each steps you have taken to solve this problem. Write the analysis using the markdown block. Some questions that may help you in writing the analysis:\n",
    "\n",
    "- Does my model perform better in predicting one class than the other? If so, why is that?\n",
    "- To each models I have tried, which performs the best and what could be the reason?\n",
    "- Is it better for me to impute or drop the missing data? Why?\n",
    "- Does feature scaling help improve my model performance?\n",
    "- etc..."
   ]
  },
  {
   "cell_type": "markdown",
   "metadata": {
    "id": "tWL3nEAELfHj"
   },
   "source": [
    "`Provide your analysis here`"
   ]
  }
 ],
 "metadata": {
  "colab": {
   "provenance": [],
   "toc_visible": true
  },
  "kernelspec": {
   "display_name": "YOLOv8",
   "language": "python",
   "name": "yolov8"
  },
  "language_info": {
   "codemirror_mode": {
    "name": "ipython",
    "version": 3
   },
   "file_extension": ".py",
   "mimetype": "text/x-python",
   "name": "python",
   "nbconvert_exporter": "python",
   "pygments_lexer": "ipython3",
   "version": "3.11.7"
  }
 },
 "nbformat": 4,
 "nbformat_minor": 0
}
