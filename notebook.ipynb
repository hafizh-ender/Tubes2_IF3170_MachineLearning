{
 "cells": [
  {
   "cell_type": "markdown",
   "metadata": {
    "id": "uR1JW69eLfG_"
   },
   "source": [
    "# IF3170 Artificial Intelligence | Tugas Besar 2"
   ]
  },
  {
   "cell_type": "markdown",
   "metadata": {
    "id": "ucbaI5rBLtjJ"
   },
   "source": [
    "Group Number: 31 - Kolmogorov-Arnold\n",
    "\n",
    "Group Members:\n",
    "- Roby Pratama Sitepu (13121142)\n",
    "- Muhammad Fadli Alfarizi (13121140)\n",
    "- Muhammad Arviano Yuono (13621034)\n",
    "- Hafizh Renanto Akhmad (13621060)"
   ]
  },
  {
   "cell_type": "markdown",
   "metadata": {
    "id": "GwzsfETHLfHA"
   },
   "source": [
    "## Import Libraries"
   ]
  },
  {
   "metadata": {
    "ExecuteTime": {
     "end_time": "2024-12-05T15:22:46.108039Z",
     "start_time": "2024-12-05T15:22:45.953279Z"
    }
   },
   "cell_type": "code",
   "source": [
    "from src import CustomTransformer\n",
    "\n",
    "\n",
    "def reset_import():\n",
    "    for module_name in list(sys.modules.keys()):\n",
    "        if 'src' in module_name:\n",
    "            del sys.modules[module_name]\n",
    "            # print(f\"removed module: {module_name}\")\n",
    "\n",
    "\n",
    "def check_for_completeness(data):\n",
    "    print(data.shape)\n",
    "    count = data.isna().sum().sum()\n",
    "\n",
    "    if count > 0:\n",
    "        raise Exception(f'\\n{count} missing values found')\n",
    "\n",
    "\n",
    "def inspect(df, features=None):\n",
    "    for feature in features if features is not None else df.columns:\n",
    "        print(f\"feature = '{feature}'\")\n",
    "        print(f\"count unique values = {df[feature].nunique()}\")\n",
    "        print(f\"unique values: {df[feature].unique()}\")\n",
    "        print(f\"missing values: {df[feature].isna().sum()}\\n\\n\")\n",
    "\n",
    "\n",
    "from sklearn.model_selection import train_test_split\n",
    "from sklearn.impute import SimpleImputer\n",
    "from sklearn.preprocessing import LabelEncoder, OrdinalEncoder\n",
    "from sklearn.tree import DecisionTreeClassifier\n",
    "from sklearn.metrics import accuracy_score, f1_score, classification_report\n",
    "import pandas as pd\n",
    "import sys\n",
    "\n",
    "reset_import()"
   ],
   "outputs": [],
   "execution_count": 6
  },
  {
   "metadata": {},
   "cell_type": "markdown",
   "source": "## Import Dataset"
  },
  {
   "metadata": {
    "ExecuteTime": {
     "end_time": "2024-12-05T15:23:41.611144Z",
     "start_time": "2024-12-05T15:22:48.103231Z"
    }
   },
   "cell_type": "code",
   "source": [
    "train_file_id = ['1sLJLWnim9A34A8hpQwZ9PxVhMJPOrN9d', '1GzheGwc1mG6z_M_kYUOMMPkE2QQrj0eW',\n",
    "                 '1BunbVg1gBwI9v8h_6FxUMXJcuJDmnmMR', '1gkIqZAd5Aza8F8-2MzMO6t53gLEUYquj',\n",
    "                 '1p38XDB0XStCbYKYVBi-Pmi2BunD6FY6J']\n",
    "\n",
    "test_file_id = ['1TdeZx1bhHL8340emZhz8rW80016kdum3', '1Hg1_obL7mpwjN9gN0g1Me4jMlo8LGmVn',\n",
    "                '1G8spITfMGnVry6XJGz3ONg3N-CFXltrI', '1NFcFBcHVj3LguL9BRC39HuAZTif2ws_8',\n",
    "                '1tfmJu2HoeAePv7qKvIjAGETaqWkkhdbj']\n",
    "\n",
    "X = pd.read_csv(f\"https://drive.google.com/uc?id={train_file_id[0]}\")\n",
    "y = pd.read_csv('https://drive.google.com/uc?id=1Dt9cKiT1y1cysxyJGlcnnEkms8ibSjCq')[['attack_cat', 'id']]\n",
    "for file_id in train_file_id[1:]:\n",
    "    X = pd.merge(X, pd.read_csv(f\"https://drive.google.com/uc?id={file_id}\"), on='id')\n",
    "\n",
    "shuffled = pd.merge(X, y, on='id').sample(frac=1, random_state=42).reset_index(drop=True)\n",
    "\n",
    "X = shuffled.drop(columns=['attack_cat'])\n",
    "y = shuffled[['attack_cat', 'id']]\n",
    "\n",
    "X.set_index('id', inplace=True)\n",
    "y.set_index('id', inplace=True)\n",
    "\n",
    "categorical_features = ['proto', 'state', 'service', 'is_sm_ips_ports', 'is_ftp_login']\n",
    "numerical_features = [col for col in X.columns if\n",
    "                      col not in categorical_features and col != 'attack_cat' and col != 'id']"
   ],
   "outputs": [],
   "execution_count": 7
  },
  {
   "metadata": {},
   "cell_type": "markdown",
   "source": [
    "# Exploratory Data Analysis (Optional)\n",
    "\n",
    "Exploratory Data Analysis (EDA) is a crucial step in the data analysis process that involves examining and visualizing data sets to uncover patterns, trends, anomalies, and insights. It is the first step before applying more advanced statistical and machine learning techniques. EDA helps you to gain a deep understanding of the data you are working with, allowing you to make informed decisions and formulate hypotheses for further analysis."
   ]
  },
  {
   "metadata": {},
   "cell_type": "code",
   "source": "# Write your code here",
   "outputs": [],
   "execution_count": null
  },
  {
   "metadata": {},
   "cell_type": "markdown",
   "source": [
    "# 1. Split Training Set and Validation Set\n",
    "\n",
    "Splitting the training and validation set works as an early diagnostic towards the performance of the model we train. This is done before the preprocessing steps to **avoid data leakage inbetween the sets**. If you want to use k-fold cross-validation, split the data later and do the cleaning and preprocessing separately for each split.\n",
    "\n",
    "Note: For training, you should use the data contained in the `train` folder given by the TA. The `test` data is only used for kaggle submission."
   ]
  },
  {
   "metadata": {
    "ExecuteTime": {
     "end_time": "2024-12-05T15:24:42.130188Z",
     "start_time": "2024-12-05T15:24:42.051333Z"
    }
   },
   "cell_type": "code",
   "source": "X_train, X_val, y_train, y_val = train_test_split(X, y, test_size=0.3, random_state=42)",
   "outputs": [],
   "execution_count": 14
  },
  {
   "metadata": {
    "ExecuteTime": {
     "end_time": "2024-12-05T15:24:46.131112Z",
     "start_time": "2024-12-05T15:24:46.049200Z"
    }
   },
   "cell_type": "code",
   "source": [
    "for feature in categorical_features:\n",
    "    unique_values_X_train = X_train[feature].dropna().nunique()\n",
    "    unique_values_X_val = X_val[feature].dropna().nunique()\n",
    "\n",
    "    if unique_values_X_train != unique_values_X_val:\n",
    "        print(f\"Feature '{feature}' has different unique values: \"\n",
    "              f\"{unique_values_X_train} in X_train and {unique_values_X_val} in X_val.\")\n",
    "        vals = list(set(X_train[feature].unique().tolist()) - set(X_val[feature].unique().tolist()))\n",
    "        for val in vals:\n",
    "            print(f\"{val} in column '{feature}' {(X_train[feature] == val).sum()} times\")\n",
    "\n",
    "            y_values = y_train[X_train[feature] == val]\n",
    "            print(f\"corresponding y values for {val} in column '{feature}': {y_values['attack_cat'].tolist()}\")\n"
   ],
   "outputs": [
    {
     "name": "stdout",
     "output_type": "stream",
     "text": [
      "Feature 'proto' has different unique values: 133 in X_train and 132 in X_val.\n",
      "rtp in column 'proto' 1 times\n",
      "corresponding y values for rtp in column 'proto': ['Normal']\n",
      "Feature 'state' has different unique values: 8 in X_train and 7 in X_val.\n",
      "PAR in column 'state' 1 times\n",
      "corresponding y values for PAR in column 'state': ['Normal']\n",
      "URN in column 'state' 1 times\n",
      "corresponding y values for URN in column 'state': ['Normal']\n"
     ]
    }
   ],
   "execution_count": 15
  },
  {
   "metadata": {
    "ExecuteTime": {
     "end_time": "2024-12-05T15:24:47.986274Z",
     "start_time": "2024-12-05T15:24:47.909639Z"
    }
   },
   "cell_type": "code",
   "source": [
    "print(len(numerical_features))\n",
    "\n",
    "for col in numerical_features:\n",
    "    print(f\"Unique values in '{col}': {X_train[col].nunique()}\")"
   ],
   "outputs": [
    {
     "name": "stdout",
     "output_type": "stream",
     "text": [
      "36\n",
      "Unique values in 'ct_state_ttl': 5\n",
      "Unique values in 'ct_flw_http_mthd': 11\n",
      "Unique values in 'ct_ftp_cmd': 4\n",
      "Unique values in 'ct_srv_src': 52\n",
      "Unique values in 'ct_srv_dst': 52\n",
      "Unique values in 'ct_dst_ltm': 49\n",
      "Unique values in 'ct_src_ltm': 50\n",
      "Unique values in 'ct_src_dport_ltm': 47\n",
      "Unique values in 'ct_dst_sport_ltm': 32\n",
      "Unique values in 'ct_dst_src_ltm': 54\n",
      "Unique values in 'dur': 51381\n",
      "Unique values in 'sbytes': 5617\n",
      "Unique values in 'dbytes': 5187\n",
      "Unique values in 'sttl': 11\n",
      "Unique values in 'dttl': 5\n",
      "Unique values in 'sloss': 335\n",
      "Unique values in 'dloss': 299\n",
      "Unique values in 'sload': 55845\n",
      "Unique values in 'dload': 52894\n",
      "Unique values in 'spkts': 409\n",
      "Unique values in 'dpkts': 377\n",
      "Unique values in 'swin': 9\n",
      "Unique values in 'dwin': 6\n",
      "Unique values in 'stcpb': 50930\n",
      "Unique values in 'dtcpb': 50747\n",
      "Unique values in 'smean': 1328\n",
      "Unique values in 'dmean': 1280\n",
      "Unique values in 'trans_depth': 10\n",
      "Unique values in 'response_body_len': 1877\n",
      "Unique values in 'sjit': 52735\n",
      "Unique values in 'djit': 51933\n",
      "Unique values in 'sinpkt': 52309\n",
      "Unique values in 'dinpkt': 50673\n",
      "Unique values in 'tcprtt': 30718\n",
      "Unique values in 'synack': 29098\n",
      "Unique values in 'ackdat': 27637\n"
     ]
    }
   ],
   "execution_count": 16
  },
  {
   "metadata": {},
   "cell_type": "markdown",
   "source": [
    "# 2. Data Cleaning and Preprocessing\n",
    "\n",
    "This step is the first thing to be done once a Data Scientist have grasped a general knowledge of the data. Raw data is **seldom ready for training**, therefore steps need to be taken to clean and format the data for the Machine Learning model to interpret.\n",
    "\n",
    "By performing data cleaning and preprocessing, you ensure that your dataset is ready for model training, leading to more accurate and reliable machine learning results. These steps are essential for transforming raw data into a format that machine learning algorithms can effectively learn from and make predictions.\n",
    "\n",
    "We will give some common methods for you to try, but you only have to **at least implement one method for each process**. For each step that you will do, **please explain the reason why did you do that process. Write it in a markdown cell under the code cell you wrote.**"
   ]
  },
  {
   "metadata": {},
   "cell_type": "markdown",
   "source": [
    "## A. Data Cleaning\n",
    "\n",
    "**Data cleaning** is the crucial first step in preparing your dataset for machine learning. Raw data collected from various sources is often messy and may contain errors, missing values, and inconsistencies. Data cleaning involves the following steps:\n",
    "\n",
    "1. **Handling Missing Data:** Identify and address missing values in the dataset. This can include imputing missing values, removing rows or columns with excessive missing data, or using more advanced techniques like interpolation.\n",
    "\n",
    "2. **Dealing with Outliers:** Identify and handle outliers, which are data points significantly different from the rest of the dataset. Outliers can be removed or transformed to improve model performance.\n",
    "\n",
    "3. **Data Validation:** Check for data integrity and consistency. Ensure that data types are correct, categorical variables have consistent labels, and numerical values fall within expected ranges.\n",
    "\n",
    "4. **Removing Duplicates:** Identify and remove duplicate rows, as they can skew the model's training process and evaluation metrics.\n",
    "\n",
    "5. **Feature Engineering**: Create new features or modify existing ones to extract relevant information. This step can involve scaling, normalizing, or encoding features for better model interpretability."
   ]
  },
  {
   "metadata": {},
   "cell_type": "markdown",
   "source": [
    "### I. Handling Missing Data\n",
    "\n",
    "Missing data can adversely affect the performance and accuracy of machine learning models. There are several strategies to handle missing data in machine learning:\n",
    "\n",
    "1. **Data Imputation:**\n",
    "\n",
    "    a. **Mean, Median, or Mode Imputation:** For numerical features, you can replace missing values with the mean, median, or mode of the non-missing values in the same feature. This method is simple and often effective when data is missing at random.\n",
    "\n",
    "    b. **Constant Value Imputation:** You can replace missing values with a predefined constant value (e.g., 0) if it makes sense for your dataset and problem.\n",
    "\n",
    "    c. **Imputation Using Predictive Models:** More advanced techniques involve using predictive models to estimate missing values. For example, you can train a regression model to predict missing numerical values or a classification model to predict missing categorical values.\n",
    "\n",
    "2. **Deletion of Missing Data:**\n",
    "\n",
    "    a. **Listwise Deletion:** In cases where the amount of missing data is relatively small, you can simply remove rows with missing values from your dataset. However, this approach can lead to a loss of valuable information.\n",
    "\n",
    "    b. **Column (Feature) Deletion:** If a feature has a large number of missing values and is not critical for your analysis, you can consider removing that feature altogether.\n",
    "\n",
    "3. **Domain-Specific Strategies:**\n",
    "\n",
    "    a. **Domain Knowledge:** In some cases, domain knowledge can guide the imputation process. For example, if you know that missing values are related to a specific condition, you can impute them accordingly.\n",
    "\n",
    "4. **Imputation Libraries:**\n",
    "\n",
    "    a. **Scikit-Learn:** Scikit-Learn provides a `SimpleImputer` class that can handle basic imputation strategies like mean, median, and mode imputation.\n",
    "\n",
    "    b. **Fancyimpute:** Fancyimpute is a Python library that offers more advanced imputation techniques, including matrix factorization, k-nearest neighbors, and deep learning-based methods.\n",
    "\n",
    "The choice of imputation method should be guided by the nature of your data, the amount of missing data, the problem you are trying to solve, and the assumptions you are willing to make."
   ]
  },
  {
   "metadata": {},
   "cell_type": "code",
   "source": [
    "reset_import()\n",
    "\n",
    "from src.compose import CustomTransformer\n",
    "\n",
    "preprocessor = CustomTransformer(\n",
    "    transformers=[\n",
    "        (SimpleImputer(strategy='mean'), numerical_features),\n",
    "        (SimpleImputer(strategy='most_frequent'), categorical_features),\n",
    "    ]\n",
    ")\n",
    "\n",
    "X_train_completed = preprocessor.fit_transform(X_train)\n",
    "X_val_completed = preprocessor.transform(X_val)\n",
    "\n",
    "check_for_completeness(X_train_completed)\n",
    "check_for_completeness(X_val_completed)"
   ],
   "outputs": [],
   "execution_count": null
  },
  {
   "metadata": {},
   "cell_type": "markdown",
   "source": [
    "### II. Dealing with Outliers\n",
    "\n",
    "Outliers are data points that significantly differ from the majority of the data. They can be unusually high or low values that do not fit the pattern of the rest of the dataset. Outliers can significantly impact model performance, so it is important to handle them properly.\n",
    "\n",
    "Some methods to handle outliers:\n",
    "1. **Imputation**: Replace with mean, median, or a boundary value.\n",
    "2. **Clipping**: Cap values to upper and lower limits.\n",
    "3. **Transformation**: Use log, square root, or power transformations to reduce their influence.\n",
    "4. **Model-Based**: Use algorithms robust to outliers (e.g., tree-based models, Huber regression)."
   ]
  },
  {
   "metadata": {},
   "cell_type": "code",
   "source": [
    "reset_import()\n",
    "\n",
    "from src.preprocessing.outlier.strategy import BoundOutlierHandlerStrategy\n",
    "\n",
    "preprocessor = CustomTransformer(\n",
    "    transformers=[\n",
    "        (BoundOutlierHandlerStrategy(), numerical_features)\n",
    "    ]\n",
    ")\n",
    "\n",
    "X_train_outliers_removed = preprocessor.fit_transform(X_train_completed)\n",
    "X_val_outliers_removed = preprocessor.transform(X_val_completed)\n",
    "\n",
    "check_for_completeness(X_train_outliers_removed)\n",
    "check_for_completeness(X_val_outliers_removed)"
   ],
   "outputs": [],
   "execution_count": null
  },
  {
   "metadata": {},
   "cell_type": "markdown",
   "source": [
    "### III. Remove Duplicates\n",
    "Handling duplicate values is crucial because they can compromise data integrity, leading to inaccurate analysis and insights. Duplicate entries can bias machine learning models, causing overfitting and reducing their ability to generalize to new data. They also inflate the dataset size unnecessarily, increasing computational costs and processing times. Additionally, duplicates can distort statistical measures and lead to inconsistencies, ultimately affecting the reliability of data-driven decisions and reporting. Ensuring data quality by removing duplicates is essential for accurate, efficient, and consistent analysis."
   ]
  },
  {
   "metadata": {},
   "cell_type": "code",
   "source": [
    "reset_import()\n",
    "\n",
    "from src.preprocessing.duplicate import DuplicateHandler\n",
    "from src.preprocessing.duplicate import DropDuplicateHandlerStrategy\n",
    "\n",
    "duplicate_handler = DuplicateHandler(strategy=DropDuplicateHandlerStrategy())\n",
    "\n",
    "X_train_duplicates_removed = duplicate_handler.transform(X_train_outliers_removed)\n",
    "X_val_duplicates_removed = duplicate_handler.transform(X_val_outliers_removed)\n",
    "\n",
    "y_train_duplicates_removed = y_train.loc[y_train.index.isin(X_train_duplicates_removed.index)]\n",
    "y_val_duplicates_removed = y_val.loc[y_val.index.isin(X_val_duplicates_removed.index)]\n",
    "\n",
    "check_for_completeness(X_train_duplicates_removed)\n",
    "check_for_completeness(X_val_duplicates_removed)"
   ],
   "outputs": [],
   "execution_count": null
  },
  {
   "metadata": {},
   "cell_type": "markdown",
   "source": [
    "### IV. Feature Engineering\n",
    "\n",
    "**Feature engineering** involves creating new features (input variables) or transforming existing ones to improve the performance of machine learning models. Feature engineering aims to enhance the model's ability to learn patterns and make accurate predictions from the data. It's often said that \"good features make good models.\"\n",
    "\n",
    "1. **Feature Selection:** Feature engineering can involve selecting the most relevant and informative features from the dataset. Removing irrelevant or redundant features not only simplifies the model but also reduces the risk of overfitting.\n",
    "\n",
    "2. **Creating New Features:** Sometimes, the existing features may not capture the underlying patterns effectively. In such cases, engineers create new features that provide additional information. For example:\n",
    "\n",
    "   - **Polynomial Features:** Engineers may create new features by taking the square, cube, or other higher-order terms of existing numerical features. This can help capture nonlinear relationships.\n",
    "\n",
    "   - **Interaction Features:** Interaction features are created by combining two or more existing features. For example, if you have features \"length\" and \"width,\" you can create an \"area\" feature by multiplying them.\n",
    "\n",
    "3. **Binning or Discretization:** Continuous numerical features can be divided into bins or categories. For instance, age values can be grouped into bins like \"child,\" \"adult,\" and \"senior.\"\n",
    "\n",
    "4. **Domain-Specific Feature Engineering:** Depending on the domain and problem, engineers may create domain-specific features. For example, in fraud detection, features related to transaction history and user behavior may be engineered to identify anomalies.\n",
    "\n",
    "Feature engineering is both a creative and iterative process. It requires a deep understanding of the data, domain knowledge, and experimentation to determine which features will enhance the model's predictive power."
   ]
  },
  {
   "metadata": {},
   "cell_type": "code",
   "source": [
    "reset_import()\n",
    "\n",
    "from src.preprocessing.encoder import FeatureEncoder, OneHotFeatureEncoderStrategy\n",
    "\n",
    "feature_encoder = FeatureEncoder(strategy=OneHotFeatureEncoderStrategy())\n",
    "\n",
    "X_train_encoded = feature_encoder.fit_transform(X_train_duplicates_removed)\n",
    "X_val_encoded = feature_encoder.transform(X_val_duplicates_removed)\n",
    "\n",
    "check_for_completeness(X_train_encoded)\n",
    "check_for_completeness(X_val_encoded)"
   ],
   "outputs": [],
   "execution_count": null
  },
  {
   "metadata": {},
   "cell_type": "code",
   "source": [
    "reset_import()\n",
    "\n",
    "from src.preprocessing.selection import FeatureSelectionHandler\n",
    "from src.preprocessing.selection.strategy import RandomForestFeatureSelectionHandlerStrategy\n",
    "from src.compose import PipelineProperty\n",
    "\n",
    "pl_property = PipelineProperty({'numerical_features': numerical_features, 'categorical_features': categorical_features})\n",
    "\n",
    "feature_selection_handler = FeatureSelectionHandler(\n",
    "    strategy=RandomForestFeatureSelectionHandlerStrategy(),\n",
    ")\n",
    "\n",
    "X_train_selected = feature_selection_handler.fit_transform(X_train_encoded, y_train_duplicates_removed['attack_cat'])\n",
    "X_val_selected = feature_selection_handler.transform(X_val_encoded)\n",
    "\n",
    "check_for_completeness(X_train_selected)\n",
    "check_for_completeness(X_val_selected)\n",
    "\n",
    "selected_numerical_features = [feature for feature in X_train_selected.columns if feature in numerical_features]\n",
    "selected_categorical_features = [feature for feature in X_train_selected.columns if\n",
    "                                 feature not in selected_numerical_features]"
   ],
   "outputs": [],
   "execution_count": null
  },
  {
   "metadata": {},
   "cell_type": "markdown",
   "source": [
    "## B. Data Preprocessing\n",
    "\n",
    "**Data preprocessing** is a broader step that encompasses both data cleaning and additional transformations to make the data suitable for machine learning algorithms. Its primary goals are:\n",
    "\n",
    "1. **Feature Scaling:** Ensure that numerical features have similar scales. Common techniques include Min-Max scaling (scaling to a specific range) or standardization (mean-centered, unit variance).\n",
    "\n",
    "2. **Encoding Categorical Variables:** Machine learning models typically work with numerical data, so categorical variables need to be encoded. This can be done using one-hot encoding, label encoding, or more advanced methods like target encoding.\n",
    "\n",
    "3. **Handling Imbalanced Classes:** If dealing with imbalanced classes in a binary classification task, apply techniques such as oversampling, undersampling, or using different evaluation metrics to address class imbalance.\n",
    "\n",
    "4. **Dimensionality Reduction:** Reduce the number of features using techniques like Principal Component Analysis (PCA) or feature selection to simplify the model and potentially improve its performance.\n",
    "\n",
    "5. **Normalization:** Normalize data to achieve a standard distribution. This is particularly important for algorithms that assume normally distributed data."
   ]
  },
  {
   "metadata": {},
   "cell_type": "markdown",
   "source": [
    "### Notes on Preprocessing processes\n",
    "\n",
    "It is advised to create functions or classes that have the same/similar type of inputs and outputs, so you can add, remove, or swap the order of the processes easily. You can implement the functions or classes by yourself\n",
    "\n",
    "or\n",
    "\n",
    "use `sklearn` library. To create a new preprocessing component in `sklearn`, implement a corresponding class that includes:\n",
    "1. Inheritance to `BaseEstimator` and `TransformerMixin`\n",
    "2. The method `fit`\n",
    "3. The method `transform`"
   ]
  },
  {
   "metadata": {},
   "cell_type": "code",
   "source": [
    "# Example\n",
    "\n",
    "# from sklearn.base import BaseEstimator, TransformerMixin\n",
    "\n",
    "# class FeatureEncoder(BaseEstimator, TransformerMixin):\n",
    "\n",
    "#     def fit(self, X, y=None):\n",
    "\n",
    "#         # Fit the encoder here\n",
    "\n",
    "#         return self\n",
    "\n",
    "#     def transform(self, X):\n",
    "#         X_encoded = X.copy()\n",
    "\n",
    "#         # Encode the categorical variables here\n",
    "\n",
    "#         return X_encoded"
   ],
   "outputs": [],
   "execution_count": null
  },
  {
   "metadata": {},
   "cell_type": "markdown",
   "source": [
    "### I. Feature Scaling\n",
    "\n",
    "**Feature scaling** is a preprocessing technique used in machine learning to standardize the range of independent variables or features of data. The primary goal of feature scaling is to ensure that all features contribute equally to the training process and that machine learning algorithms can work effectively with the data.\n",
    "\n",
    "Here are the main reasons why feature scaling is important:\n",
    "\n",
    "1. **Algorithm Sensitivity:** Many machine learning algorithms are sensitive to the scale of input features. If the scales of features are significantly different, some algorithms may perform poorly or take much longer to converge.\n",
    "\n",
    "2. **Distance-Based Algorithms:** Algorithms that rely on distances or similarities between data points, such as k-nearest neighbors (KNN) and support vector machines (SVM), can be influenced by feature scales. Features with larger scales may dominate the distance calculations.\n",
    "\n",
    "3. **Regularization:** Regularization techniques, like L1 (Lasso) and L2 (Ridge) regularization, add penalty terms based on feature coefficients. Scaling ensures that all features are treated equally in the regularization process.\n",
    "\n",
    "Common methods for feature scaling include:\n",
    "\n",
    "1. **Min-Max Scaling (Normalization):** This method scales features to a specific range, typically [0, 1]. It's done using the following formula:\n",
    "\n",
    "   $$X' = \\frac{X - X_{min}}{X_{max} - X_{min}}$$\n",
    "\n",
    "   - Here, $X$ is the original feature value, $X_{min}$ is the minimum value of the feature, and $X_{max}$ is the maximum value of the feature.\n",
    "<br />\n",
    "<br />\n",
    "2. **Standardization (Z-score Scaling):** This method scales features to have a mean (average) of 0 and a standard deviation of 1. It's done using the following formula:\n",
    "\n",
    "   $$X' = \\frac{X - \\mu}{\\sigma}$$\n",
    "\n",
    "   - $X$ is the original feature value, $\\mu$ is the mean of the feature, and $\\sigma$ is the standard deviation of the feature.\n",
    "<br />\n",
    "<br />\n",
    "3. **Robust Scaling:** Robust scaling is a method that scales features to the interquartile range (IQR) and is less affected by outliers. It's calculated as:\n",
    "\n",
    "   $$X' = \\frac{X - Q1}{Q3 - Q1}$$\n",
    "\n",
    "   - $X$ is the original feature value, $Q1$ is the first quartile (25th percentile), and $Q3$ is the third quartile (75th percentile) of the feature.\n",
    "<br />\n",
    "<br />\n",
    "4. **Log Transformation:** In cases where data is highly skewed or has a heavy-tailed distribution, taking the logarithm of the feature values can help stabilize the variance and improve scaling.\n",
    "\n",
    "The choice of scaling method depends on the characteristics of your data and the requirements of your machine learning algorithm. **Min-max scaling and standardization are the most commonly used techniques and work well for many datasets.**\n",
    "\n",
    "Scaling should be applied separately to each training and test set to prevent data leakage from the test set into the training set. Additionally, **some algorithms may not require feature scaling, particularly tree-based models.**"
   ]
  },
  {
   "metadata": {},
   "cell_type": "code",
   "source": [
    "reset_import()\n",
    "\n",
    "from src.compose import CustomTransformer\n",
    "from src.preprocessing.scale import ZScoreScaleHandlerStrategy\n",
    "\n",
    "preprocessing = CustomTransformer(\n",
    "    transformers=[\n",
    "        (ZScoreScaleHandlerStrategy(), selected_numerical_features),\n",
    "    ]\n",
    ")\n",
    "\n",
    "X_train_scaled = preprocessing.fit_transform(X_train_selected)\n",
    "X_val_scaled = preprocessing.transform(X_val_selected)\n",
    "\n",
    "check_for_completeness(X_train_scaled)\n",
    "check_for_completeness(X_val_scaled)"
   ],
   "outputs": [],
   "execution_count": null
  },
  {
   "metadata": {},
   "cell_type": "markdown",
   "source": [
    "### II. Feature Encoding\n",
    "\n",
    "**Feature encoding**, also known as **categorical encoding**, is the process of converting categorical data (non-numeric data) into a numerical format so that it can be used as input for machine learning algorithms. Most machine learning models require numerical data for training and prediction, so feature encoding is a critical step in data preprocessing.\n",
    "\n",
    "Categorical data can take various forms, including:\n",
    "\n",
    "1. **Nominal Data:** Categories with no intrinsic order, like colors or country names.\n",
    "\n",
    "2. **Ordinal Data:** Categories with a meaningful order but not necessarily equidistant, like education levels (e.g., \"high school,\" \"bachelor's,\" \"master's\").\n",
    "\n",
    "There are several common methods for encoding categorical data:\n",
    "\n",
    "1. **Label Encoding:**\n",
    "\n",
    "   - Label encoding assigns a unique integer to each category in a feature.\n",
    "   - It's suitable for ordinal data where there's a clear order among categories.\n",
    "   - For example, if you have an \"education\" feature with values \"high school,\" \"bachelor's,\" and \"master's,\" you can encode them as 0, 1, and 2, respectively.\n",
    "<br />\n",
    "<br />\n",
    "2. **One-Hot Encoding:**\n",
    "\n",
    "   - One-hot encoding creates a binary (0 or 1) column for each category in a nominal feature.\n",
    "   - It's suitable for nominal data where there's no inherent order among categories.\n",
    "   - Each category becomes a new feature, and the presence (1) or absence (0) of a category is indicated for each row.\n",
    "<br />\n",
    "<br />\n",
    "3. **Target Encoding (Mean Encoding):**\n",
    "\n",
    "   - Target encoding replaces each category with the mean of the target variable for that category.\n",
    "   - It's often used for classification problems."
   ]
  },
  {
   "metadata": {},
   "cell_type": "code",
   "source": "# already encoded before feature selection (random forest)",
   "outputs": [],
   "execution_count": null
  },
  {
   "metadata": {},
   "cell_type": "markdown",
   "source": [
    "### III. Handling Imbalanced Dataset\n",
    "\n",
    "**Handling imbalanced datasets** is important because imbalanced data can lead to several issues that negatively impact the performance and reliability of machine learning models. Here are some key reasons:\n",
    "\n",
    "1. **Biased Model Performance**:\n",
    "\n",
    " - Models trained on imbalanced data tend to be biased towards the majority class, leading to poor performance on the minority class. This can result in misleading accuracy metrics.\n",
    "\n",
    "2. **Misleading Accuracy**:\n",
    "\n",
    " - High overall accuracy can be misleading in imbalanced datasets. For example, if 95% of the data belongs to one class, a model that always predicts the majority class will have 95% accuracy but will fail to identify the minority class.\n",
    "\n",
    "3. **Poor Generalization**:\n",
    "\n",
    " - Models trained on imbalanced data may not generalize well to new, unseen data, especially if the minority class is underrepresented.\n",
    "\n",
    "\n",
    "Some methods to handle imbalanced datasets:\n",
    "1. **Resampling Methods**:\n",
    "\n",
    " - Oversampling: Increase the number of instances in the minority class by duplicating or generating synthetic samples (e.g., SMOTE).\n",
    " - Undersampling: Reduce the number of instances in the majority class to balance the dataset.\n",
    "\n",
    "2. **Evaluation Metrics**:\n",
    "\n",
    " - Use appropriate evaluation metrics such as precision, recall, F1-score, ROC-AUC, and confusion matrix instead of accuracy to better assess model performance on imbalanced data.\n",
    "\n",
    "3. **Algorithmic Approaches**:\n",
    "\n",
    " - Use algorithms that are designed to handle imbalanced data, such as decision trees, random forests, or ensemble methods.\n",
    " - Adjust class weights in algorithms to give more importance to the minority class."
   ]
  },
  {
   "metadata": {},
   "cell_type": "code",
   "source": "# Write your code here",
   "outputs": [],
   "execution_count": null
  },
  {
   "metadata": {},
   "cell_type": "markdown",
   "source": [
    "### IV. Data Normalization\n",
    "\n",
    "Data normalization is used to achieve a standard distribution. Without normalization, models or processes that rely on the assumption of normality may not work correctly. Normalization helps reduce the magnitude effect and ensures numerical stability during optimization."
   ]
  },
  {
   "metadata": {},
   "cell_type": "code",
   "source": "",
   "outputs": [],
   "execution_count": null
  },
  {
   "metadata": {},
   "cell_type": "markdown",
   "source": [
    "### V. Dimensionality Reduction\n",
    "\n",
    "Dimensionality reduction is a technique used in data preprocessing to reduce the number of input features (dimensions) in a dataset while retaining as much important information as possible. It is essential when dealing with high-dimensional data, where too many features can cause problems like increased computational costs, overfitting, and difficulty in visualization. Reducing dimensions simplifies the data, making it easier to analyze and improving the performance of machine learning models.\n",
    "\n",
    "One of the main approaches to dimensionality reduction is feature extraction. Feature extraction creates new, smaller sets of features that capture the essence of the original data. Common techniques include:\n",
    "\n",
    "1. **Principal Component Analysis (PCA)**: Converts correlated features into a smaller number of uncorrelated \"principal components.\"\n",
    "2. **t-SNE (t-Distributed Stochastic Neighbor Embedding)**: A visualization-focused method to project high-dimensional data into 2D or 3D spaces.\n",
    "3. **Autoencoders**: Neural networks that learn compressed representations of the data."
   ]
  },
  {
   "metadata": {},
   "cell_type": "code",
   "source": "",
   "outputs": [],
   "execution_count": null
  },
  {
   "metadata": {},
   "cell_type": "markdown",
   "source": [
    "# 3. Compile Preprocessing Pipeline\n",
    "\n",
    "All of the preprocessing classes or functions defined earlier will be compiled in this step."
   ]
  },
  {
   "metadata": {},
   "cell_type": "markdown",
   "source": "If you use sklearn to create preprocessing classes, you can list your preprocessing classes in the Pipeline object sequentially, and then fit and transform your data."
  },
  {
   "metadata": {},
   "cell_type": "code",
   "source": [
    "# from sklearn.pipeline import Pipeline\n",
    "\n",
    "# # Note: You can add or delete preprocessing components from this pipeline\n",
    "\n",
    "# pipe = Pipeline([(\"missing\", FeatureImputer()),\n",
    "#                  (\"featurecreator\", FeatureCreator()),\n",
    "#                  (\"scaler\", FeatureScaler()),\n",
    "#                  (\"encoder\", FeatureEncoder())])\n",
    "\n",
    "# train_set = pipe.fit_transform(train_set)\n",
    "# val_set = pipe.transform(val_set)"
   ],
   "outputs": [],
   "execution_count": null
  },
  {
   "metadata": {},
   "cell_type": "code",
   "source": [
    "# # Your code should work up until this point\n",
    "# train_set = pipe.fit_transform(train_set)\n",
    "# val_set = pipe.transform(val_set)"
   ],
   "outputs": [],
   "execution_count": null
  },
  {
   "metadata": {},
   "cell_type": "markdown",
   "source": "or create your own here"
  },
  {
   "metadata": {
    "ExecuteTime": {
     "end_time": "2024-12-05T15:24:22.477054Z",
     "start_time": "2024-12-05T15:24:22.445626Z"
    }
   },
   "cell_type": "code",
   "source": [
    "reset_import()\n",
    "\n",
    "from abc import ABC, abstractmethod\n",
    "from src.preprocessing import TransformerStrategy\n",
    "\n",
    "\n",
    "class Model(ABC):\n",
    "    @abstractmethod\n",
    "    def fit(self, X, y):\n",
    "        pass\n",
    "\n",
    "    @abstractmethod\n",
    "    def predict(self, X):\n",
    "        pass\n",
    "\n",
    "\n",
    "class Proxy(TransformerStrategy):\n",
    "    def __init__(self, model: Model):\n",
    "        self._model = model\n",
    "\n",
    "    def fit(self, X, y):\n",
    "        self._model.fit(X, y)\n",
    "\n",
    "    def transform(self, X):\n",
    "        return self._model.predict(X)\n",
    "\n",
    "    def fit_transform(self, X, y):\n",
    "        self.fit(X, y)\n",
    "\n",
    "        return self.transform(X)\n",
    "\n",
    "\n",
    "class SKLearnLabelEncoderProxy():\n",
    "    def __init__(self):\n",
    "        self._encoders = {}\n",
    "\n",
    "    @abstractmethod\n",
    "    def fit(self, X, y=None):\n",
    "        for feature in X.columns:\n",
    "            encoder = OrdinalEncoder(handle_unknown='use_encoded_value',\n",
    "                                     unknown_value=-1).fit(X[feature].values.reshape(-1, 1))\n",
    "            self._encoders[feature] = encoder\n",
    "\n",
    "    @abstractmethod\n",
    "    def transform(self, X):\n",
    "        X_transformed = X.copy()\n",
    "        for feature in X_transformed.columns:\n",
    "            X_transformed[feature] = self._encoders[feature].transform(X_transformed[feature].values.reshape(-1, 1))\n",
    "\n",
    "        return X_transformed\n",
    "\n",
    "    def fit_transform(self, X, y=None):\n",
    "        self.fit(X, y)\n",
    "\n",
    "        return self.transform(X)"
   ],
   "outputs": [],
   "execution_count": 12
  },
  {
   "metadata": {
    "ExecuteTime": {
     "end_time": "2024-12-05T13:58:26.930259Z",
     "start_time": "2024-12-05T13:57:01.053508Z"
    }
   },
   "cell_type": "code",
   "source": "",
   "outputs": [
    {
     "name": "stdout",
     "output_type": "stream",
     "text": [
      "component: missing\n",
      "component: outliers\n",
      "component: feature selection\n",
      "component: feature scaling\n",
      "component: encoder\n",
      "component: classifier\n",
      "component: missing\n",
      "component: outliers\n",
      "component: feature selection\n",
      "component: feature scaling\n",
      "component: encoder\n",
      "component: classifier\n",
      "(122738, 33)\n",
      "component: missing\n",
      "component: outliers\n",
      "component: feature selection\n",
      "component: feature scaling\n",
      "component: encoder\n",
      "component: classifier\n",
      "\n",
      "Model Accuracy: 0.7799365055224987\n",
      "F1 Score (Macro): 0.5527688651378088\n"
     ]
    }
   ],
   "execution_count": 177
  },
  {
   "metadata": {},
   "cell_type": "markdown",
   "source": [
    "# 4. Modeling and Validation\n",
    "\n",
    "Modelling is the process of building your own machine learning models to solve specific problems, or in this assignment context, predicting the target feature `attack_cat`. Validation is the process of evaluating your trained model using the validation set or cross-validation method and providing some metrics that can help you decide what to do in the next iteration of development."
   ]
  },
  {
   "metadata": {
    "ExecuteTime": {
     "end_time": "2024-12-05T15:24:10.302682Z",
     "start_time": "2024-12-05T15:24:10.273515Z"
    }
   },
   "cell_type": "code",
   "source": [
    "from src.compose import CustomPipeline, PipelineProperty, CustomTransformer, PipelineComponent\n",
    "from src.preprocessing.outlier import OutlierHandler, BoundOutlierHandlerStrategy\n",
    "from src.preprocessing.selection import FeatureSelectionHandler, RandomForestFeatureSelectionHandlerStrategy\n",
    "from src.preprocessing.missing import MissingValueHandler\n",
    "from src.preprocessing.duplicate import DuplicateHandler, DropDuplicateHandlerStrategy\n",
    "from src.preprocessing.scale import ScaleHandler, ZScoreScaleHandlerStrategy\n",
    "from src.compose.io import ClassifierTransformerStrategy, LabelEncoderIOTransformerStrategy"
   ],
   "outputs": [],
   "execution_count": 10
  },
  {
   "metadata": {},
   "cell_type": "markdown",
   "source": "## A. KNN"
  },
  {
   "metadata": {
    "ExecuteTime": {
     "end_time": "2024-12-05T16:36:24.335764Z",
     "start_time": "2024-12-05T16:34:10.116544Z"
    }
   },
   "cell_type": "code",
   "source": [
    "reset_import()\n",
    "\n",
    "from sklearn.neighbors import KNeighborsClassifier\n",
    "\n",
    "import warnings\n",
    "\n",
    "warnings.filterwarnings('ignore')\n",
    "\n",
    "reset_import()\n",
    "\n",
    "from src.compose import CustomPipeline\n",
    "\n",
    "pipeline = CustomPipeline(args=[\n",
    "    ('missing', MissingValueHandler(strategy=CustomTransformer(transformers=[\n",
    "        (SimpleImputer(strategy='mean'), numerical_features),\n",
    "        (SimpleImputer(strategy='most_frequent'), categorical_features)\n",
    "    ]))),\n",
    "    ('duplicate', DuplicateHandler(strategy=DropDuplicateHandlerStrategy())),\n",
    "    ('outliers', OutlierHandler(strategy=CustomTransformer(transformers=[\n",
    "        (BoundOutlierHandlerStrategy(), numerical_features)\n",
    "    ]))),\n",
    "    ('feature selection', FeatureSelectionHandler(strategy=CustomTransformer(transformers=[\n",
    "        (RandomForestFeatureSelectionHandlerStrategy(), numerical_features),\n",
    "    ]))),\n",
    "    ('feature scaling', ScaleHandler(strategy=ZScoreScaleHandlerStrategy()), 'numerical_features'),\n",
    "    ('encoder', PipelineComponent(strategy=None).set_io_strategy(\n",
    "        LabelEncoderIOTransformerStrategy(strategy=CustomTransformer(transformers=[\n",
    "            (SKLearnLabelEncoderProxy(), categorical_features),\n",
    "        ])),\n",
    "    )),\n",
    "    ('classifier', PipelineComponent(strategy=None).set_io_strategy(\n",
    "        ClassifierTransformerStrategy(strategy=Proxy(KNeighborsClassifier(n_neighbors=3))))),\n",
    "], pl_property=PipelineProperty(\n",
    "    {'numerical_features': numerical_features, 'categorical_features': categorical_features}), verbose=True,\n",
    "    only_once=['duplicate'])\n",
    "\n",
    "X_train_transformed, _ = pipeline.fit_transform(X_train, y_train)\n",
    "\n",
    "check_for_completeness(X_train_transformed)\n",
    "\n",
    "_, y_pred = pipeline.transform(X_val)\n",
    "\n",
    "accuracy = accuracy_score(y_val, y_pred)\n",
    "print(\"\\nModel Accuracy:\", accuracy)\n",
    "\n",
    "f1_macro = f1_score(y_val, y_pred, average='macro')\n",
    "print(f\"F1 Score (Macro): {f1_macro}\")"
   ],
   "outputs": [
    {
     "name": "stdout",
     "output_type": "stream",
     "text": [
      "fit: missing\n",
      "fit: duplicate\n",
      "fit: outliers\n",
      "fit: feature selection\n",
      "fit: feature scaling\n",
      "fit: encoder\n",
      "fit: classifier\n",
      "transform: missing\n",
      "transform: outliers\n",
      "transform: feature selection\n",
      "transform: feature scaling\n",
      "transform: encoder\n",
      "transform: classifier\n",
      "(122738, 33)\n",
      "transform: missing\n",
      "transform: outliers\n",
      "transform: feature selection\n",
      "transform: feature scaling\n",
      "transform: encoder\n",
      "transform: classifier\n",
      "\n",
      "Model Accuracy: 0.7499382164515331\n",
      "F1 Score (Macro): 0.45442920459334346\n"
     ]
    }
   ],
   "execution_count": 61
  },
  {
   "metadata": {},
   "cell_type": "markdown",
   "source": "## B. Naive Bayes"
  },
  {
   "metadata": {
    "ExecuteTime": {
     "end_time": "2024-12-05T16:03:40.460262Z",
     "start_time": "2024-12-05T16:02:17.264407Z"
    }
   },
   "cell_type": "code",
   "source": [
    "reset_import()\n",
    "\n",
    "from sklearn.naive_bayes import GaussianNB\n",
    "\n",
    "import warnings\n",
    "\n",
    "warnings.filterwarnings('ignore')\n",
    "\n",
    "reset_import()\n",
    "\n",
    "from src.compose import CustomPipeline\n",
    "\n",
    "pipeline = CustomPipeline(args=[\n",
    "    ('missing', MissingValueHandler(strategy=CustomTransformer(transformers=[\n",
    "        (SimpleImputer(strategy='mean'), numerical_features),\n",
    "        (SimpleImputer(strategy='most_frequent'), categorical_features)\n",
    "    ]))),\n",
    "    ('duplicate', DuplicateHandler(strategy=DropDuplicateHandlerStrategy())),\n",
    "    ('outliers', OutlierHandler(strategy=CustomTransformer(transformers=[\n",
    "        (BoundOutlierHandlerStrategy(), numerical_features)\n",
    "    ]))),\n",
    "    ('feature selection', FeatureSelectionHandler(strategy=CustomTransformer(transformers=[\n",
    "        (RandomForestFeatureSelectionHandlerStrategy(), numerical_features),\n",
    "    ]))),\n",
    "    ('feature scaling', ScaleHandler(strategy=ZScoreScaleHandlerStrategy()), 'numerical_features'),\n",
    "    ('encoder', PipelineComponent(strategy=None).set_io_strategy(\n",
    "        LabelEncoderIOTransformerStrategy(strategy=CustomTransformer(transformers=[\n",
    "            (SKLearnLabelEncoderProxy(), categorical_features),\n",
    "        ])),\n",
    "    )),\n",
    "    ('classifier', PipelineComponent(strategy=None).set_io_strategy(\n",
    "        ClassifierTransformerStrategy(strategy=Proxy(GaussianNB())))),\n",
    "], pl_property=PipelineProperty(\n",
    "    {'numerical_features': numerical_features, 'categorical_features': categorical_features}), verbose=True,\n",
    "    only_once=['duplicate'])\n",
    "\n",
    "X_train_transformed, _ = pipeline.fit_transform(X_train, y_train)\n",
    "\n",
    "check_for_completeness(X_train_transformed)\n",
    "\n",
    "_, y_pred = pipeline.transform(X_val)\n",
    "\n",
    "accuracy = accuracy_score(y_val, y_pred)\n",
    "print(\"\\nModel Accuracy:\", accuracy)\n",
    "\n",
    "f1_macro = f1_score(y_val, y_pred, average='macro')\n",
    "print(f\"F1 Score (Macro): {f1_macro}\")"
   ],
   "outputs": [
    {
     "name": "stdout",
     "output_type": "stream",
     "text": [
      "fit: missing\n",
      "fit: duplicate\n",
      "fit: outliers\n",
      "fit: feature selection\n",
      "fit: feature scaling\n",
      "fit: encoder\n",
      "fit: classifier\n",
      "transform: missing\n",
      "transform: outliers\n",
      "transform: feature selection\n",
      "transform: feature scaling\n",
      "transform: encoder\n",
      "transform: classifier\n",
      "(122738, 33)\n",
      "transform: missing\n",
      "transform: outliers\n",
      "transform: feature selection\n",
      "transform: feature scaling\n",
      "transform: encoder\n",
      "transform: classifier\n",
      "\n",
      "Model Accuracy: 0.5347603748835618\n",
      "F1 Score (Macro): 0.2710167382577316\n"
     ]
    }
   ],
   "execution_count": 48
  },
  {
   "metadata": {},
   "cell_type": "markdown",
   "source": "## C. ID3"
  },
  {
   "metadata": {
    "ExecuteTime": {
     "end_time": "2024-12-05T16:18:38.474699Z",
     "start_time": "2024-12-05T16:17:12.048138Z"
    }
   },
   "cell_type": "code",
   "source": [
    "reset_import()\n",
    "\n",
    "import warnings\n",
    "\n",
    "warnings.filterwarnings('ignore')\n",
    "\n",
    "reset_import()\n",
    "\n",
    "from src.compose import CustomPipeline\n",
    "\n",
    "pipeline = CustomPipeline(args=[\n",
    "    ('missing', MissingValueHandler(strategy=CustomTransformer(transformers=[\n",
    "        (SimpleImputer(strategy='mean'), numerical_features),\n",
    "        (SimpleImputer(strategy='most_frequent'), categorical_features)\n",
    "    ]))),\n",
    "    ('duplicate', DuplicateHandler(strategy=DropDuplicateHandlerStrategy())),\n",
    "    ('outliers', OutlierHandler(strategy=CustomTransformer(transformers=[\n",
    "        (BoundOutlierHandlerStrategy(), numerical_features)\n",
    "    ]))),\n",
    "    ('feature selection', FeatureSelectionHandler(strategy=CustomTransformer(transformers=[\n",
    "        (RandomForestFeatureSelectionHandlerStrategy(), numerical_features),\n",
    "    ]))),\n",
    "    ('feature scaling', ScaleHandler(strategy=ZScoreScaleHandlerStrategy()), 'numerical_features'),\n",
    "    ('encoder', PipelineComponent(strategy=None).set_io_strategy(\n",
    "        LabelEncoderIOTransformerStrategy(strategy=CustomTransformer(transformers=[\n",
    "            (SKLearnLabelEncoderProxy(), categorical_features),\n",
    "        ])),\n",
    "    )),\n",
    "    ('classifier', PipelineComponent(strategy=None).set_io_strategy(\n",
    "        ClassifierTransformerStrategy(strategy=Proxy(DecisionTreeClassifier(criterion='entropy', random_state=0))))),\n",
    "], pl_property=PipelineProperty(\n",
    "    {'numerical_features': numerical_features, 'categorical_features': categorical_features}), verbose=True,\n",
    "    only_once=['duplicate'])\n",
    "\n",
    "X_train_transformed, _ = pipeline.fit_transform(X_train, y_train)\n",
    "\n",
    "check_for_completeness(X_train_transformed)\n",
    "\n",
    "_, y_pred = pipeline.transform(X_val)\n",
    "\n",
    "accuracy = accuracy_score(y_val, y_pred)\n",
    "print(\"\\nModel Accuracy:\", accuracy)\n",
    "\n",
    "f1_macro = f1_score(y_val, y_pred, average='macro')\n",
    "print(f\"F1 Score (Macro): {f1_macro}\")"
   ],
   "outputs": [
    {
     "name": "stdout",
     "output_type": "stream",
     "text": [
      "fit: missing\n",
      "fit: duplicate\n",
      "fit: outliers\n",
      "fit: feature selection\n",
      "fit: feature scaling\n",
      "fit: encoder\n",
      "fit: classifier\n",
      "transform: missing\n",
      "transform: outliers\n",
      "transform: feature selection\n",
      "transform: feature scaling\n",
      "transform: encoder\n",
      "transform: classifier\n",
      "(122738, 33)\n",
      "transform: missing\n",
      "transform: outliers\n",
      "transform: feature selection\n",
      "transform: feature scaling\n",
      "transform: encoder\n",
      "transform: classifier\n",
      "\n",
      "Model Accuracy: 0.7767807919700397\n",
      "F1 Score (Macro): 0.5406304285963492\n"
     ]
    }
   ],
   "execution_count": 59
  },
  {
   "cell_type": "markdown",
   "metadata": {
    "id": "LoH2u6fOLfHh"
   },
   "source": [
    "## D. Improvements (Optional)\n",
    "\n",
    "- **Visualize the model evaluation result**\n",
    "\n",
    "This will help you to understand the details more clearly about your model's performance. From the visualization, you can see clearly if your model is leaning towards a class than the others. (Hint: confusion matrix, ROC-AUC curve, etc.)\n",
    "\n",
    "- **Explore the hyperparameters of your models**\n",
    "\n",
    "Each models have their own hyperparameters. And each of the hyperparameter have different effects on the model behaviour. You can optimize the model performance by finding the good set of hyperparameters through a process called **hyperparameter tuning**. (Hint: Grid search, random search, bayesian optimization)\n",
    "\n",
    "- **Cross-validation**\n",
    "\n",
    "Cross-validation is a critical technique in machine learning and data science for evaluating and validating the performance of predictive models. It provides a more **robust** and **reliable** evaluation method compared to a hold-out (single train-test set) validation. Though, it requires more time and computing power because of how cross-validation works. (Hint: k-fold cross-validation, stratified k-fold cross-validation, etc.)"
   ]
  },
  {
   "cell_type": "code",
   "metadata": {
    "id": "pg-A54yELfHh"
   },
   "source": "# Type your code here",
   "outputs": [],
   "execution_count": null
  },
  {
   "cell_type": "markdown",
   "metadata": {
    "id": "Li4l53DjLfHh"
   },
   "source": [
    "## E. Submission\n",
    "To predict the test set target feature and submit the results to the kaggle competition platform, do the following:\n",
    "1. Create a new pipeline instance identical to the first in Data Preprocessing\n",
    "2. With the pipeline, apply `fit_transform` to the original training set before splitting, then only apply `transform` to the test set.\n",
    "3. Retrain the model on the preprocessed training set\n",
    "4. Predict the test set\n",
    "5. Make sure the submission contains the `id` and `attack_cat` column."
   ]
  },
  {
   "cell_type": "code",
   "metadata": {
    "id": "LeqnfWc-LfHi"
   },
   "source": [
    "# Type your code here"
   ],
   "outputs": [],
   "execution_count": null
  },
  {
   "cell_type": "markdown",
   "metadata": {
    "id": "R-jXvKOpLfHi"
   },
   "source": [
    "# 6. Error Analysis\n",
    "\n",
    "Based on all the process you have done until the modeling and evaluation step, write an analysis to support each steps you have taken to solve this problem. Write the analysis using the markdown block. Some questions that may help you in writing the analysis:\n",
    "\n",
    "- Does my model perform better in predicting one class than the other? If so, why is that?\n",
    "- To each models I have tried, which performs the best and what could be the reason?\n",
    "- Is it better for me to impute or drop the missing data? Why?\n",
    "- Does feature scaling help improve my model performance?\n",
    "- etc..."
   ]
  },
  {
   "cell_type": "markdown",
   "metadata": {
    "id": "tWL3nEAELfHj"
   },
   "source": [
    "`Provide your analysis here`"
   ]
  }
 ],
 "metadata": {
  "colab": {
   "provenance": [],
   "toc_visible": true
  },
  "kernelspec": {
   "display_name": "tubes2ai",
   "language": "python",
   "name": "python3"
  },
  "language_info": {
   "codemirror_mode": {
    "name": "ipython",
    "version": 3
   },
   "file_extension": ".py",
   "mimetype": "text/x-python",
   "name": "python",
   "nbconvert_exporter": "python",
   "pygments_lexer": "ipython3",
   "version": "3.10.11"
  }
 },
 "nbformat": 4,
 "nbformat_minor": 0
}
