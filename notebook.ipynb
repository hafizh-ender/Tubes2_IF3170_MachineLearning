{
 "cells": [
  {
   "cell_type": "markdown",
   "metadata": {
    "id": "uR1JW69eLfG_"
   },
   "source": [
    "# IF3170 Artificial Intelligence | Tugas Besar 2"
   ]
  },
  {
   "cell_type": "markdown",
   "metadata": {
    "id": "ucbaI5rBLtjJ"
   },
   "source": [
    "Group Number: 31 - Kolmogorov-Arnold\n",
    "\n",
    "Group Members:\n",
    "- Roby Pratama Sitepu (13121142)\n",
    "- Muhammad Fadli Alfarizi (13121140)\n",
    "- Muhammad Arviano Yuono (13621034)\n",
    "- Hafizh Renanto Akhmad (13621060)"
   ]
  },
  {
   "cell_type": "markdown",
   "metadata": {
    "id": "GwzsfETHLfHA"
   },
   "source": [
    "## Import Libraries"
   ]
  },
  {
   "cell_type": "code",
   "execution_count": 3,
   "metadata": {
    "ExecuteTime": {
     "end_time": "2024-12-13T13:36:14.605219Z",
     "start_time": "2024-12-13T13:36:14.598254Z"
    }
   },
   "outputs": [],
   "source": [
    "from src import CustomTransformer\n",
    "\n",
    "\n",
    "def reset_import():\n",
    "    for module_name in list(sys.modules.keys()):\n",
    "        if 'src' in module_name:\n",
    "            del sys.modules[module_name]\n",
    "            # print(f\"removed module: {module_name}\")\n",
    "\n",
    "\n",
    "def check_for_completeness(data):\n",
    "    print(data.shape)\n",
    "    count = data.isna().sum().sum()\n",
    "\n",
    "    if count > 0:\n",
    "        raise Exception(f'\\n{count} missing values found')\n",
    "\n",
    "\n",
    "def inspect(df, features=None):\n",
    "    for feature in features if features is not None else df.columns:\n",
    "        print(f\"feature = '{feature}'\")\n",
    "        print(f\"count unique values = {df[feature].nunique()}\")\n",
    "        print(f\"unique values: {df[feature].unique()}\")\n",
    "        print(f\"missing values: {df[feature].isna().sum()}\\n\\n\")\n",
    "\n",
    "\n",
    "from sklearn.model_selection import train_test_split\n",
    "from sklearn.impute import SimpleImputer\n",
    "from sklearn.preprocessing import LabelEncoder, OrdinalEncoder\n",
    "from sklearn.tree import DecisionTreeClassifier\n",
    "from sklearn.metrics import accuracy_score, f1_score, classification_report\n",
    "from sklearn.model_selection import StratifiedKFold\n",
    "import pandas as pd\n",
    "import numpy as np\n",
    "import sys\n",
    "\n",
    "reset_import()"
   ]
  },
  {
   "cell_type": "markdown",
   "metadata": {},
   "source": [
    "## Import Dataset"
   ]
  },
  {
   "cell_type": "code",
   "execution_count": 2,
   "metadata": {
    "ExecuteTime": {
     "end_time": "2024-12-13T13:37:11.177042Z",
     "start_time": "2024-12-13T13:36:17.369966Z"
    }
   },
   "outputs": [],
   "source": [
    "train_file_id = ['1sLJLWnim9A34A8hpQwZ9PxVhMJPOrN9d', '1GzheGwc1mG6z_M_kYUOMMPkE2QQrj0eW',\n",
    "                 '1BunbVg1gBwI9v8h_6FxUMXJcuJDmnmMR', '1gkIqZAd5Aza8F8-2MzMO6t53gLEUYquj',\n",
    "                 '1p38XDB0XStCbYKYVBi-Pmi2BunD6FY6J']\n",
    "\n",
    "test_file_id = ['1TdeZx1bhHL8340emZhz8rW80016kdum3', '1Hg1_obL7mpwjN9gN0g1Me4jMlo8LGmVn',\n",
    "                '1G8spITfMGnVry6XJGz3ONg3N-CFXltrI', '1NFcFBcHVj3LguL9BRC39HuAZTif2ws_8',\n",
    "                '1tfmJu2HoeAePv7qKvIjAGETaqWkkhdbj']\n",
    "\n",
    "X = pd.read_csv(f\"https://drive.google.com/uc?id={train_file_id[0]}\")\n",
    "y = pd.read_csv('https://drive.google.com/uc?id=1Dt9cKiT1y1cysxyJGlcnnEkms8ibSjCq')[['attack_cat', 'id']]\n",
    "for file_id in train_file_id[1:]:\n",
    "    X = pd.merge(X, pd.read_csv(f\"https://drive.google.com/uc?id={file_id}\"), on='id')\n",
    "\n",
    "shuffled = pd.merge(X, y, on='id').sample(frac=1, random_state=42).reset_index(drop=True)\n",
    "\n",
    "X = shuffled.drop(columns=['attack_cat'])\n",
    "y = shuffled[['attack_cat', 'id']]\n",
    "\n",
    "X.set_index('id', inplace=True)\n",
    "y.set_index('id', inplace=True)\n",
    "\n",
    "categorical_features = ['proto', 'state', 'service', 'is_sm_ips_ports', 'is_ftp_login']\n",
    "numerical_features = [col for col in X.columns if\n",
    "                      col not in categorical_features and col != 'attack_cat' and col != 'id']"
   ]
  },
  {
   "cell_type": "markdown",
   "metadata": {},
   "source": [
    "# Exploratory Data Analysis (Optional)\n",
    "\n",
    "Exploratory Data Analysis (EDA) is a crucial step in the data analysis process that involves examining and visualizing data sets to uncover patterns, trends, anomalies, and insights. It is the first step before applying more advanced statistical and machine learning techniques. EDA helps you to gain a deep understanding of the data you are working with, allowing you to make informed decisions and formulate hypotheses for further analysis."
   ]
  },
  {
   "cell_type": "code",
   "execution_count": null,
   "metadata": {},
   "outputs": [],
   "source": [
    "# Write your code here"
   ]
  },
  {
   "cell_type": "markdown",
   "metadata": {},
   "source": [
    "# 1. Split Training Set and Validation Set\n",
    "\n",
    "Splitting the training and validation set works as an early diagnostic towards the performance of the model we train. This is done before the preprocessing steps to **avoid data leakage inbetween the sets**. If you want to use k-fold cross-validation, split the data later and do the cleaning and preprocessing separately for each split.\n",
    "\n",
    "Note: For training, you should use the data contained in the `train` folder given by the TA. The `test` data is only used for kaggle submission."
   ]
  },
  {
   "cell_type": "code",
   "execution_count": 6,
   "metadata": {
    "ExecuteTime": {
     "end_time": "2024-12-13T13:37:26.533610Z",
     "start_time": "2024-12-13T13:37:26.443881Z"
    }
   },
   "outputs": [],
   "source": [
    "X_train, X_val, y_train, y_val = train_test_split(X, y, test_size=0.3, random_state=42)"
   ]
  },
  {
   "cell_type": "code",
   "execution_count": 7,
   "metadata": {
    "ExecuteTime": {
     "end_time": "2024-12-13T13:37:27.601189Z",
     "start_time": "2024-12-13T13:37:27.497286Z"
    }
   },
   "outputs": [
    {
     "name": "stdout",
     "output_type": "stream",
     "text": [
      "Feature 'proto' has different unique values: 133 in X_train and 132 in X_val.\n",
      "rtp in column 'proto' 1 times\n",
      "corresponding y values for rtp in column 'proto': ['Normal']\n",
      "Feature 'state' has different unique values: 8 in X_train and 7 in X_val.\n",
      "URN in column 'state' 1 times\n",
      "corresponding y values for URN in column 'state': ['Normal']\n",
      "PAR in column 'state' 1 times\n",
      "corresponding y values for PAR in column 'state': ['Normal']\n"
     ]
    }
   ],
   "source": [
    "for feature in categorical_features:\n",
    "    unique_values_X_train = X_train[feature].dropna().nunique()\n",
    "    unique_values_X_val = X_val[feature].dropna().nunique()\n",
    "\n",
    "    if unique_values_X_train != unique_values_X_val:\n",
    "        print(f\"Feature '{feature}' has different unique values: \"\n",
    "              f\"{unique_values_X_train} in X_train and {unique_values_X_val} in X_val.\")\n",
    "        vals = list(set(X_train[feature].unique().tolist()) - set(X_val[feature].unique().tolist()))\n",
    "        for val in vals:\n",
    "            print(f\"{val} in column '{feature}' {(X_train[feature] == val).sum()} times\")\n",
    "\n",
    "            y_values = y_train[X_train[feature] == val]\n",
    "            print(f\"corresponding y values for {val} in column '{feature}': {y_values['attack_cat'].tolist()}\")\n"
   ]
  },
  {
   "cell_type": "code",
   "execution_count": 8,
   "metadata": {
    "ExecuteTime": {
     "end_time": "2024-12-13T13:37:28.881978Z",
     "start_time": "2024-12-13T13:37:28.790714Z"
    }
   },
   "outputs": [
    {
     "name": "stdout",
     "output_type": "stream",
     "text": [
      "36\n",
      "Unique values in 'ct_state_ttl': 5\n",
      "Unique values in 'ct_flw_http_mthd': 11\n",
      "Unique values in 'ct_ftp_cmd': 4\n",
      "Unique values in 'ct_srv_src': 52\n",
      "Unique values in 'ct_srv_dst': 52\n",
      "Unique values in 'ct_dst_ltm': 49\n",
      "Unique values in 'ct_src_ltm': 50\n",
      "Unique values in 'ct_src_dport_ltm': 47\n",
      "Unique values in 'ct_dst_sport_ltm': 32\n",
      "Unique values in 'ct_dst_src_ltm': 54\n",
      "Unique values in 'dur': 51381\n",
      "Unique values in 'sbytes': 5617\n",
      "Unique values in 'dbytes': 5187\n",
      "Unique values in 'sttl': 11\n",
      "Unique values in 'dttl': 5\n",
      "Unique values in 'sloss': 335\n",
      "Unique values in 'dloss': 299\n",
      "Unique values in 'sload': 55845\n",
      "Unique values in 'dload': 52894\n",
      "Unique values in 'spkts': 409\n",
      "Unique values in 'dpkts': 377\n",
      "Unique values in 'swin': 9\n",
      "Unique values in 'dwin': 6\n",
      "Unique values in 'stcpb': 50930\n",
      "Unique values in 'dtcpb': 50747\n",
      "Unique values in 'smean': 1328\n",
      "Unique values in 'dmean': 1280\n",
      "Unique values in 'trans_depth': 10\n",
      "Unique values in 'response_body_len': 1877\n",
      "Unique values in 'sjit': 52735\n",
      "Unique values in 'djit': 51933\n",
      "Unique values in 'sinpkt': 52309\n",
      "Unique values in 'dinpkt': 50673\n",
      "Unique values in 'tcprtt': 30718\n",
      "Unique values in 'synack': 29098\n",
      "Unique values in 'ackdat': 27637\n"
     ]
    }
   ],
   "source": [
    "print(len(numerical_features))\n",
    "\n",
    "for col in numerical_features:\n",
    "    print(f\"Unique values in '{col}': {X_train[col].nunique()}\")"
   ]
  },
  {
   "cell_type": "markdown",
   "metadata": {},
   "source": [
    "# 2. Data Cleaning and Preprocessing\n",
    "\n",
    "This step is the first thing to be done once a Data Scientist have grasped a general knowledge of the data. Raw data is **seldom ready for training**, therefore steps need to be taken to clean and format the data for the Machine Learning model to interpret.\n",
    "\n",
    "By performing data cleaning and preprocessing, you ensure that your dataset is ready for model training, leading to more accurate and reliable machine learning results. These steps are essential for transforming raw data into a format that machine learning algorithms can effectively learn from and make predictions.\n",
    "\n",
    "We will give some common methods for you to try, but you only have to **at least implement one method for each process**. For each step that you will do, **please explain the reason why did you do that process. Write it in a markdown cell under the code cell you wrote.**"
   ]
  },
  {
   "cell_type": "markdown",
   "metadata": {},
   "source": [
    "## A. Data Cleaning\n",
    "\n",
    "**Data cleaning** is the crucial first step in preparing your dataset for machine learning. Raw data collected from various sources is often messy and may contain errors, missing values, and inconsistencies. Data cleaning involves the following steps:\n",
    "\n",
    "1. **Handling Missing Data:** Identify and address missing values in the dataset. This can include imputing missing values, removing rows or columns with excessive missing data, or using more advanced techniques like interpolation.\n",
    "\n",
    "2. **Dealing with Outliers:** Identify and handle outliers, which are data points significantly different from the rest of the dataset. Outliers can be removed or transformed to improve model performance.\n",
    "\n",
    "3. **Data Validation:** Check for data integrity and consistency. Ensure that data types are correct, categorical variables have consistent labels, and numerical values fall within expected ranges.\n",
    "\n",
    "4. **Removing Duplicates:** Identify and remove duplicate rows, as they can skew the model's training process and evaluation metrics.\n",
    "\n",
    "5. **Feature Engineering**: Create new features or modify existing ones to extract relevant information. This step can involve scaling, normalizing, or encoding features for better model interpretability."
   ]
  },
  {
   "cell_type": "markdown",
   "metadata": {},
   "source": [
    "### I. Handling Missing Data\n",
    "\n",
    "Missing data can adversely affect the performance and accuracy of machine learning models. There are several strategies to handle missing data in machine learning:\n",
    "\n",
    "1. **Data Imputation:**\n",
    "\n",
    "    a. **Mean, Median, or Mode Imputation:** For numerical features, you can replace missing values with the mean, median, or mode of the non-missing values in the same feature. This method is simple and often effective when data is missing at random.\n",
    "\n",
    "    b. **Constant Value Imputation:** You can replace missing values with a predefined constant value (e.g., 0) if it makes sense for your dataset and problem.\n",
    "\n",
    "    c. **Imputation Using Predictive Models:** More advanced techniques involve using predictive models to estimate missing values. For example, you can train a regression model to predict missing numerical values or a classification model to predict missing categorical values.\n",
    "\n",
    "2. **Deletion of Missing Data:**\n",
    "\n",
    "    a. **Listwise Deletion:** In cases where the amount of missing data is relatively small, you can simply remove rows with missing values from your dataset. However, this approach can lead to a loss of valuable information.\n",
    "\n",
    "    b. **Column (Feature) Deletion:** If a feature has a large number of missing values and is not critical for your analysis, you can consider removing that feature altogether.\n",
    "\n",
    "3. **Domain-Specific Strategies:**\n",
    "\n",
    "    a. **Domain Knowledge:** In some cases, domain knowledge can guide the imputation process. For example, if you know that missing values are related to a specific condition, you can impute them accordingly.\n",
    "\n",
    "4. **Imputation Libraries:**\n",
    "\n",
    "    a. **Scikit-Learn:** Scikit-Learn provides a `SimpleImputer` class that can handle basic imputation strategies like mean, median, and mode imputation.\n",
    "\n",
    "    b. **Fancyimpute:** Fancyimpute is a Python library that offers more advanced imputation techniques, including matrix factorization, k-nearest neighbors, and deep learning-based methods.\n",
    "\n",
    "The choice of imputation method should be guided by the nature of your data, the amount of missing data, the problem you are trying to solve, and the assumptions you are willing to make."
   ]
  },
  {
   "cell_type": "code",
   "execution_count": null,
   "metadata": {},
   "outputs": [],
   "source": [
    "reset_import()\n",
    "\n",
    "from src.compose import CustomTransformer\n",
    "\n",
    "preprocessor = CustomTransformer(\n",
    "    transformers=[\n",
    "        (SimpleImputer(strategy='mean'), numerical_features),\n",
    "        (SimpleImputer(strategy='most_frequent'), categorical_features),\n",
    "    ]\n",
    ")\n",
    "\n",
    "X_train_completed = preprocessor.fit_transform(X_train)\n",
    "X_val_completed = preprocessor.transform(X_val)\n",
    "\n",
    "check_for_completeness(X_train_completed)\n",
    "check_for_completeness(X_val_completed)"
   ]
  },
  {
   "cell_type": "markdown",
   "metadata": {},
   "source": [
    "### II. Dealing with Outliers\n",
    "\n",
    "Outliers are data points that significantly differ from the majority of the data. They can be unusually high or low values that do not fit the pattern of the rest of the dataset. Outliers can significantly impact model performance, so it is important to handle them properly.\n",
    "\n",
    "Some methods to handle outliers:\n",
    "1. **Imputation**: Replace with mean, median, or a boundary value.\n",
    "2. **Clipping**: Cap values to upper and lower limits.\n",
    "3. **Transformation**: Use log, square root, or power transformations to reduce their influence.\n",
    "4. **Model-Based**: Use algorithms robust to outliers (e.g., tree-based models, Huber regression)."
   ]
  },
  {
   "cell_type": "code",
   "execution_count": null,
   "metadata": {},
   "outputs": [],
   "source": [
    "reset_import()\n",
    "\n",
    "from src.preprocessing.outlier.strategy import BoundOutlierHandlerStrategy\n",
    "\n",
    "preprocessor = CustomTransformer(\n",
    "    transformers=[\n",
    "        (BoundOutlierHandlerStrategy(), numerical_features)\n",
    "    ]\n",
    ")\n",
    "\n",
    "X_train_outliers_removed = preprocessor.fit_transform(X_train_completed)\n",
    "X_val_outliers_removed = preprocessor.transform(X_val_completed)\n",
    "\n",
    "check_for_completeness(X_train_outliers_removed)\n",
    "check_for_completeness(X_val_outliers_removed)"
   ]
  },
  {
   "cell_type": "markdown",
   "metadata": {},
   "source": [
    "### III. Remove Duplicates\n",
    "Handling duplicate values is crucial because they can compromise data integrity, leading to inaccurate analysis and insights. Duplicate entries can bias machine learning models, causing overfitting and reducing their ability to generalize to new data. They also inflate the dataset size unnecessarily, increasing computational costs and processing times. Additionally, duplicates can distort statistical measures and lead to inconsistencies, ultimately affecting the reliability of data-driven decisions and reporting. Ensuring data quality by removing duplicates is essential for accurate, efficient, and consistent analysis."
   ]
  },
  {
   "cell_type": "code",
   "execution_count": null,
   "metadata": {},
   "outputs": [],
   "source": [
    "reset_import()\n",
    "\n",
    "from src.preprocessing.duplicate import DuplicateHandler\n",
    "from src.preprocessing.duplicate import DropDuplicateHandlerStrategy\n",
    "\n",
    "duplicate_handler = DuplicateHandler(strategy=DropDuplicateHandlerStrategy())\n",
    "\n",
    "X_train_duplicates_removed = duplicate_handler.transform(X_train_outliers_removed)\n",
    "X_val_duplicates_removed = duplicate_handler.transform(X_val_outliers_removed)\n",
    "\n",
    "y_train_duplicates_removed = y_train.loc[y_train.index.isin(X_train_duplicates_removed.index)]\n",
    "y_val_duplicates_removed = y_val.loc[y_val.index.isin(X_val_duplicates_removed.index)]\n",
    "\n",
    "check_for_completeness(X_train_duplicates_removed)\n",
    "check_for_completeness(X_val_duplicates_removed)"
   ]
  },
  {
   "cell_type": "markdown",
   "metadata": {},
   "source": [
    "### IV. Feature Engineering\n",
    "\n",
    "**Feature engineering** involves creating new features (input variables) or transforming existing ones to improve the performance of machine learning models. Feature engineering aims to enhance the model's ability to learn patterns and make accurate predictions from the data. It's often said that \"good features make good models.\"\n",
    "\n",
    "1. **Feature Selection:** Feature engineering can involve selecting the most relevant and informative features from the dataset. Removing irrelevant or redundant features not only simplifies the model but also reduces the risk of overfitting.\n",
    "\n",
    "2. **Creating New Features:** Sometimes, the existing features may not capture the underlying patterns effectively. In such cases, engineers create new features that provide additional information. For example:\n",
    "\n",
    "   - **Polynomial Features:** Engineers may create new features by taking the square, cube, or other higher-order terms of existing numerical features. This can help capture nonlinear relationships.\n",
    "\n",
    "   - **Interaction Features:** Interaction features are created by combining two or more existing features. For example, if you have features \"length\" and \"width,\" you can create an \"area\" feature by multiplying them.\n",
    "\n",
    "3. **Binning or Discretization:** Continuous numerical features can be divided into bins or categories. For instance, age values can be grouped into bins like \"child,\" \"adult,\" and \"senior.\"\n",
    "\n",
    "4. **Domain-Specific Feature Engineering:** Depending on the domain and problem, engineers may create domain-specific features. For example, in fraud detection, features related to transaction history and user behavior may be engineered to identify anomalies.\n",
    "\n",
    "Feature engineering is both a creative and iterative process. It requires a deep understanding of the data, domain knowledge, and experimentation to determine which features will enhance the model's predictive power."
   ]
  },
  {
   "cell_type": "code",
   "execution_count": null,
   "metadata": {},
   "outputs": [],
   "source": [
    "reset_import()\n",
    "\n",
    "from src.preprocessing.encoder import FeatureEncoder, OneHotFeatureEncoderStrategy\n",
    "\n",
    "feature_encoder = FeatureEncoder(strategy=OneHotFeatureEncoderStrategy())\n",
    "\n",
    "X_train_encoded = feature_encoder.fit_transform(X_train_duplicates_removed)\n",
    "X_val_encoded = feature_encoder.transform(X_val_duplicates_removed)\n",
    "\n",
    "check_for_completeness(X_train_encoded)\n",
    "check_for_completeness(X_val_encoded)"
   ]
  },
  {
   "cell_type": "code",
   "execution_count": null,
   "metadata": {},
   "outputs": [],
   "source": [
    "reset_import()\n",
    "\n",
    "from src.preprocessing.selection import FeatureSelectionHandler\n",
    "from src.preprocessing.selection.strategy import RandomForestFeatureSelectionHandlerStrategy\n",
    "from src.compose import PipelineProperty\n",
    "\n",
    "pl_property = PipelineProperty({'numerical_features': numerical_features, 'categorical_features': categorical_features})\n",
    "\n",
    "feature_selection_handler = FeatureSelectionHandler(\n",
    "    strategy=RandomForestFeatureSelectionHandlerStrategy(),\n",
    ")\n",
    "\n",
    "X_train_selected = feature_selection_handler.fit_transform(X_train_encoded, y_train_duplicates_removed['attack_cat'])\n",
    "X_val_selected = feature_selection_handler.transform(X_val_encoded)\n",
    "\n",
    "check_for_completeness(X_train_selected)\n",
    "check_for_completeness(X_val_selected)\n",
    "\n",
    "selected_numerical_features = [feature for feature in X_train_selected.columns if feature in numerical_features]\n",
    "selected_categorical_features = [feature for feature in X_train_selected.columns if\n",
    "                                 feature not in selected_numerical_features]"
   ]
  },
  {
   "cell_type": "markdown",
   "metadata": {},
   "source": [
    "## B. Data Preprocessing\n",
    "\n",
    "**Data preprocessing** is a broader step that encompasses both data cleaning and additional transformations to make the data suitable for machine learning algorithms. Its primary goals are:\n",
    "\n",
    "1. **Feature Scaling:** Ensure that numerical features have similar scales. Common techniques include Min-Max scaling (scaling to a specific range) or standardization (mean-centered, unit variance).\n",
    "\n",
    "2. **Encoding Categorical Variables:** Machine learning models typically work with numerical data, so categorical variables need to be encoded. This can be done using one-hot encoding, label encoding, or more advanced methods like target encoding.\n",
    "\n",
    "3. **Handling Imbalanced Classes:** If dealing with imbalanced classes in a binary classification task, apply techniques such as oversampling, undersampling, or using different evaluation metrics to address class imbalance.\n",
    "\n",
    "4. **Dimensionality Reduction:** Reduce the number of features using techniques like Principal Component Analysis (PCA) or feature selection to simplify the model and potentially improve its performance.\n",
    "\n",
    "5. **Normalization:** Normalize data to achieve a standard distribution. This is particularly important for algorithms that assume normally distributed data."
   ]
  },
  {
   "cell_type": "markdown",
   "metadata": {},
   "source": [
    "### Notes on Preprocessing processes\n",
    "\n",
    "It is advised to create functions or classes that have the same/similar type of inputs and outputs, so you can add, remove, or swap the order of the processes easily. You can implement the functions or classes by yourself\n",
    "\n",
    "or\n",
    "\n",
    "use `sklearn` library. To create a new preprocessing component in `sklearn`, implement a corresponding class that includes:\n",
    "1. Inheritance to `BaseEstimator` and `TransformerMixin`\n",
    "2. The method `fit`\n",
    "3. The method `transform`"
   ]
  },
  {
   "cell_type": "code",
   "execution_count": null,
   "metadata": {},
   "outputs": [],
   "source": [
    "# Example\n",
    "\n",
    "# from sklearn.base import BaseEstimator, TransformerMixin\n",
    "\n",
    "# class FeatureEncoder(BaseEstimator, TransformerMixin):\n",
    "\n",
    "#     def fit(self, X, y=None):\n",
    "\n",
    "#         # Fit the encoder here\n",
    "\n",
    "#         return self\n",
    "\n",
    "#     def transform(self, X):\n",
    "#         X_encoded = X.copy()\n",
    "\n",
    "#         # Encode the categorical variables here\n",
    "\n",
    "#         return X_encoded"
   ]
  },
  {
   "cell_type": "markdown",
   "metadata": {},
   "source": [
    "### I. Feature Scaling\n",
    "\n",
    "**Feature scaling** is a preprocessing technique used in machine learning to standardize the range of independent variables or features of data. The primary goal of feature scaling is to ensure that all features contribute equally to the training process and that machine learning algorithms can work effectively with the data.\n",
    "\n",
    "Here are the main reasons why feature scaling is important:\n",
    "\n",
    "1. **Algorithm Sensitivity:** Many machine learning algorithms are sensitive to the scale of input features. If the scales of features are significantly different, some algorithms may perform poorly or take much longer to converge.\n",
    "\n",
    "2. **Distance-Based Algorithms:** Algorithms that rely on distances or similarities between data points, such as k-nearest neighbors (KNN) and support vector machines (SVM), can be influenced by feature scales. Features with larger scales may dominate the distance calculations.\n",
    "\n",
    "3. **Regularization:** Regularization techniques, like L1 (Lasso) and L2 (Ridge) regularization, add penalty terms based on feature coefficients. Scaling ensures that all features are treated equally in the regularization process.\n",
    "\n",
    "Common methods for feature scaling include:\n",
    "\n",
    "1. **Min-Max Scaling (Normalization):** This method scales features to a specific range, typically [0, 1]. It's done using the following formula:\n",
    "\n",
    "   $$X' = \\frac{X - X_{min}}{X_{max} - X_{min}}$$\n",
    "\n",
    "   - Here, $X$ is the original feature value, $X_{min}$ is the minimum value of the feature, and $X_{max}$ is the maximum value of the feature.\n",
    "<br />\n",
    "<br />\n",
    "2. **Standardization (Z-score Scaling):** This method scales features to have a mean (average) of 0 and a standard deviation of 1. It's done using the following formula:\n",
    "\n",
    "   $$X' = \\frac{X - \\mu}{\\sigma}$$\n",
    "\n",
    "   - $X$ is the original feature value, $\\mu$ is the mean of the feature, and $\\sigma$ is the standard deviation of the feature.\n",
    "<br />\n",
    "<br />\n",
    "3. **Robust Scaling:** Robust scaling is a method that scales features to the interquartile range (IQR) and is less affected by outliers. It's calculated as:\n",
    "\n",
    "   $$X' = \\frac{X - Q1}{Q3 - Q1}$$\n",
    "\n",
    "   - $X$ is the original feature value, $Q1$ is the first quartile (25th percentile), and $Q3$ is the third quartile (75th percentile) of the feature.\n",
    "<br />\n",
    "<br />\n",
    "4. **Log Transformation:** In cases where data is highly skewed or has a heavy-tailed distribution, taking the logarithm of the feature values can help stabilize the variance and improve scaling.\n",
    "\n",
    "The choice of scaling method depends on the characteristics of your data and the requirements of your machine learning algorithm. **Min-max scaling and standardization are the most commonly used techniques and work well for many datasets.**\n",
    "\n",
    "Scaling should be applied separately to each training and test set to prevent data leakage from the test set into the training set. Additionally, **some algorithms may not require feature scaling, particularly tree-based models.**"
   ]
  },
  {
   "cell_type": "code",
   "execution_count": null,
   "metadata": {},
   "outputs": [],
   "source": [
    "reset_import()\n",
    "\n",
    "from src.compose import CustomTransformer\n",
    "from src.preprocessing.scale import ZScoreScaleHandlerStrategy\n",
    "\n",
    "preprocessing = CustomTransformer(\n",
    "    transformers=[\n",
    "        (ZScoreScaleHandlerStrategy(), selected_numerical_features),\n",
    "    ]\n",
    ")\n",
    "\n",
    "X_train_scaled = preprocessing.fit_transform(X_train_selected)\n",
    "X_val_scaled = preprocessing.transform(X_val_selected)\n",
    "\n",
    "check_for_completeness(X_train_scaled)\n",
    "check_for_completeness(X_val_scaled)"
   ]
  },
  {
   "cell_type": "markdown",
   "metadata": {},
   "source": [
    "### II. Feature Encoding\n",
    "\n",
    "**Feature encoding**, also known as **categorical encoding**, is the process of converting categorical data (non-numeric data) into a numerical format so that it can be used as input for machine learning algorithms. Most machine learning models require numerical data for training and prediction, so feature encoding is a critical step in data preprocessing.\n",
    "\n",
    "Categorical data can take various forms, including:\n",
    "\n",
    "1. **Nominal Data:** Categories with no intrinsic order, like colors or country names.\n",
    "\n",
    "2. **Ordinal Data:** Categories with a meaningful order but not necessarily equidistant, like education levels (e.g., \"high school,\" \"bachelor's,\" \"master's\").\n",
    "\n",
    "There are several common methods for encoding categorical data:\n",
    "\n",
    "1. **Label Encoding:**\n",
    "\n",
    "   - Label encoding assigns a unique integer to each category in a feature.\n",
    "   - It's suitable for ordinal data where there's a clear order among categories.\n",
    "   - For example, if you have an \"education\" feature with values \"high school,\" \"bachelor's,\" and \"master's,\" you can encode them as 0, 1, and 2, respectively.\n",
    "<br />\n",
    "<br />\n",
    "2. **One-Hot Encoding:**\n",
    "\n",
    "   - One-hot encoding creates a binary (0 or 1) column for each category in a nominal feature.\n",
    "   - It's suitable for nominal data where there's no inherent order among categories.\n",
    "   - Each category becomes a new feature, and the presence (1) or absence (0) of a category is indicated for each row.\n",
    "<br />\n",
    "<br />\n",
    "3. **Target Encoding (Mean Encoding):**\n",
    "\n",
    "   - Target encoding replaces each category with the mean of the target variable for that category.\n",
    "   - It's often used for classification problems."
   ]
  },
  {
   "cell_type": "code",
   "execution_count": null,
   "metadata": {},
   "outputs": [],
   "source": [
    "# already encoded before feature selection (random forest)"
   ]
  },
  {
   "cell_type": "markdown",
   "metadata": {},
   "source": [
    "### III. Handling Imbalanced Dataset\n",
    "\n",
    "**Handling imbalanced datasets** is important because imbalanced data can lead to several issues that negatively impact the performance and reliability of machine learning models. Here are some key reasons:\n",
    "\n",
    "1. **Biased Model Performance**:\n",
    "\n",
    " - Models trained on imbalanced data tend to be biased towards the majority class, leading to poor performance on the minority class. This can result in misleading accuracy metrics.\n",
    "\n",
    "2. **Misleading Accuracy**:\n",
    "\n",
    " - High overall accuracy can be misleading in imbalanced datasets. For example, if 95% of the data belongs to one class, a model that always predicts the majority class will have 95% accuracy but will fail to identify the minority class.\n",
    "\n",
    "3. **Poor Generalization**:\n",
    "\n",
    " - Models trained on imbalanced data may not generalize well to new, unseen data, especially if the minority class is underrepresented.\n",
    "\n",
    "\n",
    "Some methods to handle imbalanced datasets:\n",
    "1. **Resampling Methods**:\n",
    "\n",
    " - Oversampling: Increase the number of instances in the minority class by duplicating or generating synthetic samples (e.g., SMOTE).\n",
    " - Undersampling: Reduce the number of instances in the majority class to balance the dataset.\n",
    "\n",
    "2. **Evaluation Metrics**:\n",
    "\n",
    " - Use appropriate evaluation metrics such as precision, recall, F1-score, ROC-AUC, and confusion matrix instead of accuracy to better assess model performance on imbalanced data.\n",
    "\n",
    "3. **Algorithmic Approaches**:\n",
    "\n",
    " - Use algorithms that are designed to handle imbalanced data, such as decision trees, random forests, or ensemble methods.\n",
    " - Adjust class weights in algorithms to give more importance to the minority class."
   ]
  },
  {
   "cell_type": "code",
   "execution_count": null,
   "metadata": {},
   "outputs": [],
   "source": [
    "# Write your code here"
   ]
  },
  {
   "cell_type": "markdown",
   "metadata": {},
   "source": [
    "### IV. Data Normalization\n",
    "\n",
    "Data normalization is used to achieve a standard distribution. Without normalization, models or processes that rely on the assumption of normality may not work correctly. Normalization helps reduce the magnitude effect and ensures numerical stability during optimization."
   ]
  },
  {
   "cell_type": "code",
   "execution_count": null,
   "metadata": {},
   "outputs": [],
   "source": []
  },
  {
   "cell_type": "markdown",
   "metadata": {},
   "source": [
    "### V. Dimensionality Reduction\n",
    "\n",
    "Dimensionality reduction is a technique used in data preprocessing to reduce the number of input features (dimensions) in a dataset while retaining as much important information as possible. It is essential when dealing with high-dimensional data, where too many features can cause problems like increased computational costs, overfitting, and difficulty in visualization. Reducing dimensions simplifies the data, making it easier to analyze and improving the performance of machine learning models.\n",
    "\n",
    "One of the main approaches to dimensionality reduction is feature extraction. Feature extraction creates new, smaller sets of features that capture the essence of the original data. Common techniques include:\n",
    "\n",
    "1. **Principal Component Analysis (PCA)**: Converts correlated features into a smaller number of uncorrelated \"principal components.\"\n",
    "2. **t-SNE (t-Distributed Stochastic Neighbor Embedding)**: A visualization-focused method to project high-dimensional data into 2D or 3D spaces.\n",
    "3. **Autoencoders**: Neural networks that learn compressed representations of the data."
   ]
  },
  {
   "cell_type": "code",
   "execution_count": null,
   "metadata": {},
   "outputs": [],
   "source": []
  },
  {
   "cell_type": "markdown",
   "metadata": {},
   "source": [
    "# 3. Compile Preprocessing Pipeline\n",
    "\n",
    "All of the preprocessing classes or functions defined earlier will be compiled in this step."
   ]
  },
  {
   "cell_type": "markdown",
   "metadata": {},
   "source": [
    "If you use sklearn to create preprocessing classes, you can list your preprocessing classes in the Pipeline object sequentially, and then fit and transform your data."
   ]
  },
  {
   "cell_type": "code",
   "execution_count": null,
   "metadata": {},
   "outputs": [],
   "source": [
    "# from sklearn.pipeline import Pipeline\n",
    "\n",
    "# # Note: You can add or delete preprocessing components from this pipeline\n",
    "\n",
    "# pipe = Pipeline([(\"missing\", FeatureImputer()),\n",
    "#                  (\"featurecreator\", FeatureCreator()),\n",
    "#                  (\"scaler\", FeatureScaler()),\n",
    "#                  (\"encoder\", FeatureEncoder())])\n",
    "\n",
    "# train_set = pipe.fit_transform(train_set)\n",
    "# val_set = pipe.transform(val_set)"
   ]
  },
  {
   "cell_type": "code",
   "execution_count": null,
   "metadata": {},
   "outputs": [],
   "source": [
    "# # Your code should work up until this point\n",
    "# train_set = pipe.fit_transform(train_set)\n",
    "# val_set = pipe.transform(val_set)"
   ]
  },
  {
   "cell_type": "markdown",
   "metadata": {},
   "source": [
    "or create your own here"
   ]
  },
  {
   "cell_type": "code",
   "execution_count": 4,
   "metadata": {
    "ExecuteTime": {
     "end_time": "2024-12-13T14:40:35.664254Z",
     "start_time": "2024-12-13T14:40:35.598719Z"
    }
   },
   "outputs": [],
   "source": [
    "reset_import()\n",
    "\n",
    "from abc import ABC, abstractmethod\n",
    "from src.preprocessing import TransformerStrategy\n",
    "\n",
    "\n",
    "class Model(ABC):\n",
    "    @abstractmethod\n",
    "    def fit(self, X, y):\n",
    "        pass\n",
    "\n",
    "    @abstractmethod\n",
    "    def predict(self, X):\n",
    "        pass\n",
    "\n",
    "\n",
    "class Proxy(TransformerStrategy):\n",
    "    def __init__(self, model: Model):\n",
    "        self._model = model\n",
    "\n",
    "    @property\n",
    "    def model(self):\n",
    "        return self._model\n",
    "\n",
    "    def fit(self, X, y):\n",
    "        self._model.fit(X, y)\n",
    "\n",
    "    def transform(self, X):\n",
    "        return self._model.predict(X)\n",
    "\n",
    "    def fit_transform(self, X, y):\n",
    "        self.fit(X, y)\n",
    "\n",
    "        return self.transform(X)\n",
    "\n",
    "\n",
    "\n",
    "class SKLearnLabelEncoderProxy():\n",
    "    def __init__(self):\n",
    "        self._encoders = {}\n",
    "\n",
    "    @abstractmethod\n",
    "    def fit(self, X, y=None):\n",
    "        for feature in X.columns:\n",
    "            encoder = OrdinalEncoder(handle_unknown='use_encoded_value',\n",
    "                                     unknown_value=-1).fit(X[feature].values.reshape(-1, 1))\n",
    "            self._encoders[feature] = encoder\n",
    "\n",
    "    @abstractmethod\n",
    "    def transform(self, X):\n",
    "        X_transformed = X.copy()\n",
    "        for feature in X_transformed.columns:\n",
    "            X_transformed[feature] = self._encoders[feature].transform(X_transformed[feature].values.reshape(-1, 1))\n",
    "\n",
    "        return X_transformed\n",
    "\n",
    "    def fit_transform(self, X, y=None):\n",
    "        self.fit(X, y)\n",
    "\n",
    "        return self.transform(X)"
   ]
  },
  {
   "cell_type": "markdown",
   "metadata": {},
   "source": [
    "# 4. Modeling and Validation\n",
    "\n",
    "Modelling is the process of building your own machine learning models to solve specific problems, or in this assignment context, predicting the target feature `attack_cat`. Validation is the process of evaluating your trained model using the validation set or cross-validation method and providing some metrics that can help you decide what to do in the next iteration of development."
   ]
  },
  {
   "cell_type": "code",
   "execution_count": 5,
   "metadata": {
    "ExecuteTime": {
     "end_time": "2024-12-13T13:37:44.849433Z",
     "start_time": "2024-12-13T13:37:44.845873Z"
    }
   },
   "outputs": [],
   "source": [
    "import pickle\n",
    "import os\n",
    "\n",
    "# Define the directory and filename\n",
    "directory_sklearn = './model/sklearn/'\n",
    "directory_scratch = './model/scratch/'"
   ]
  },
  {
   "cell_type": "code",
   "execution_count": 6,
   "metadata": {
    "ExecuteTime": {
     "end_time": "2024-12-13T13:37:45.530533Z",
     "start_time": "2024-12-13T13:37:45.525091Z"
    }
   },
   "outputs": [],
   "source": [
    "from src.compose import CustomPipeline, PipelineProperty, CustomTransformer, PipelineComponent\n",
    "from src.preprocessing.outlier import OutlierHandler, BoundOutlierHandlerStrategy\n",
    "from src.preprocessing.selection import FeatureSelectionHandler, RandomForestFeatureSelectionHandlerStrategy\n",
    "from src.preprocessing.missing import MissingValueHandler\n",
    "from src.preprocessing.duplicate import DuplicateHandler, DropDuplicateHandlerStrategy\n",
    "from src.preprocessing.scale import ScaleHandler, ZScoreScaleHandlerStrategy\n",
    "from src.compose.io import ClassifierTransformerStrategy, LabelEncoderIOTransformerStrategy"
   ]
  },
  {
   "cell_type": "code",
   "execution_count": 7,
   "metadata": {
    "ExecuteTime": {
     "end_time": "2024-12-13T13:37:47.086193Z",
     "start_time": "2024-12-13T13:37:47.079332Z"
    }
   },
   "outputs": [],
   "source": [
    "def compare_models(pipelines, X_data=X, y_data=y, fold=True, X_data_test = None, y_data_test = None):\n",
    "\n",
    "    if fold:\n",
    "        # Create StratifiedKFold object.\n",
    "        skf = StratifiedKFold(n_splits=5, shuffle=True, random_state=42)\n",
    "    \n",
    "        for pipeline in pipelines:\n",
    "            count = 0\n",
    "            f1_score_stratified = []\n",
    "            \n",
    "            for train_index, test_index in skf.split(X_data, y_data):\n",
    "                \n",
    "                #splitting\n",
    "                X_train_fold, X_test_fold = X_data.iloc[train_index], X_data.iloc[test_index]\n",
    "                y_train_fold, y_test_fold = y_data.iloc[train_index], y_data.iloc[test_index]\n",
    "    \n",
    "                #fit transform\n",
    "                X_train_transformed, _ = pipeline.fit_transform(X_train_fold, y_train_fold)\n",
    "                check_for_completeness(X_train_transformed)\n",
    "    \n",
    "                #predict\n",
    "                _, y_predict_fold = pipeline.transform(X_test_fold)\n",
    "    \n",
    "                #validations\n",
    "                f1_score_stratified.append(f1_score(y_true=y_test_fold, y_pred=y_predict_fold, average='macro'))\n",
    "    \n",
    "                count += 1\n",
    "                print(f\"\\nloop {count}: \\nF1: {f1_score_stratified[count-1]}\\n\")\n",
    "    \n",
    "            # model performance\n",
    "\n",
    "            # F1 score\n",
    "            print('\\nList of possible F1 score:', f1_score_stratified)\n",
    "            print('\\nMaximum F1 Score That can be obtained from this model is:',\n",
    "                max(f1_score_stratified)*100, '%')\n",
    "            print('\\nMinimum F1 Score:',\n",
    "                min(f1_score_stratified)*100, '%')\n",
    "            print('\\nOverall F1 Score:',\n",
    "                np.mean(f1_score_stratified)*100, '%')\n",
    "            print('\\nStandard Deviation is:', np.std(f1_score_stratified)*100, '%')\n",
    "            print('\\n')\n",
    "    else:\n",
    "        for pipeline in pipelines:\n",
    "\n",
    "            X_train_transformed, _ = pipeline.fit_transform(X_data, y_data)\n",
    "    \n",
    "            check_for_completeness(X_train_transformed)\n",
    "            \n",
    "            _, y_pred = pipeline.transform(X_data_test)\n",
    "            \n",
    "            if y_data_test is not None:\n",
    "            \n",
    "                f1_macro = f1_score(y_data_test, y_pred, average='macro')\n",
    "                print(f\"F1 Score (Macro): {f1_macro}\")\n",
    "\n",
    "            else:\n",
    "                return y_pred"
   ]
  },
  {
   "cell_type": "markdown",
   "metadata": {},
   "source": [
    "## A. KNN"
   ]
  },
  {
   "cell_type": "markdown",
   "metadata": {},
   "source": [
    "sklearn"
   ]
  },
  {
   "cell_type": "code",
   "execution_count": 13,
   "metadata": {
    "ExecuteTime": {
     "end_time": "2024-12-13T13:40:41.428911Z",
     "start_time": "2024-12-13T13:37:50.298787Z"
    }
   },
   "outputs": [
    {
     "name": "stdout",
     "output_type": "stream",
     "text": [
      "fit: missing\n",
      "fit: duplicate\n",
      "fit: outliers\n",
      "fit: feature selection\n",
      "fit: feature scaling\n",
      "fit: encoder\n",
      "fit: classifier\n",
      "transform: missing\n",
      "transform: outliers\n",
      "transform: feature selection\n",
      "transform: feature scaling\n",
      "transform: encoder\n",
      "transform: classifier\n",
      "(140272, 33)\n",
      "fit: missing\n"
     ]
    },
    {
     "ename": "KeyError",
     "evalue": "\"['ct_flw_http_mthd', 'ct_ftp_cmd', 'sloss', 'swin', 'dwin', 'stcpb', 'trans_depth', 'response_body_len'] not in index\"",
     "output_type": "error",
     "traceback": [
      "\u001b[1;31m---------------------------------------------------------------------------\u001b[0m",
      "\u001b[1;31mKeyError\u001b[0m                                  Traceback (most recent call last)",
      "Cell \u001b[1;32mIn[13], line 39\u001b[0m\n\u001b[0;32m     13\u001b[0m model \u001b[38;5;241m=\u001b[39m KNeighborsClassifier(n_neighbors\u001b[38;5;241m=\u001b[39m\u001b[38;5;241m3\u001b[39m)\n\u001b[0;32m     15\u001b[0m knn_sklearn \u001b[38;5;241m=\u001b[39m CustomPipeline(args\u001b[38;5;241m=\u001b[39m[\n\u001b[0;32m     16\u001b[0m     (\u001b[38;5;124m'\u001b[39m\u001b[38;5;124mmissing\u001b[39m\u001b[38;5;124m'\u001b[39m, MissingValueHandler(strategy\u001b[38;5;241m=\u001b[39mCustomTransformer(transformers\u001b[38;5;241m=\u001b[39m[\n\u001b[0;32m     17\u001b[0m         (SimpleImputer(strategy\u001b[38;5;241m=\u001b[39m\u001b[38;5;124m'\u001b[39m\u001b[38;5;124mmean\u001b[39m\u001b[38;5;124m'\u001b[39m), numerical_features),\n\u001b[1;32m   (...)\u001b[0m\n\u001b[0;32m     36\u001b[0m     {\u001b[38;5;124m'\u001b[39m\u001b[38;5;124mnumerical_features\u001b[39m\u001b[38;5;124m'\u001b[39m: numerical_features, \u001b[38;5;124m'\u001b[39m\u001b[38;5;124mcategorical_features\u001b[39m\u001b[38;5;124m'\u001b[39m: categorical_features}), verbose\u001b[38;5;241m=\u001b[39m\u001b[38;5;28;01mTrue\u001b[39;00m,\n\u001b[0;32m     37\u001b[0m     only_once\u001b[38;5;241m=\u001b[39m[\u001b[38;5;124m'\u001b[39m\u001b[38;5;124mduplicate\u001b[39m\u001b[38;5;124m'\u001b[39m])\n\u001b[1;32m---> 39\u001b[0m \u001b[43mcompare_models\u001b[49m\u001b[43m(\u001b[49m\u001b[43m[\u001b[49m\u001b[43mknn_sklearn\u001b[49m\u001b[43m]\u001b[49m\u001b[43m)\u001b[49m\n",
      "Cell \u001b[1;32mIn[12], line 23\u001b[0m, in \u001b[0;36mcompare_models\u001b[1;34m(pipelines, X, y, training)\u001b[0m\n\u001b[0;32m     19\u001b[0m check_for_completeness(X_train_transformed)\n\u001b[0;32m     21\u001b[0m \u001b[38;5;28;01mif\u001b[39;00m training:\n\u001b[0;32m     22\u001b[0m     \u001b[38;5;66;03m#training\u001b[39;00m\n\u001b[1;32m---> 23\u001b[0m     \u001b[43mpipeline\u001b[49m\u001b[38;5;241;43m.\u001b[39;49m\u001b[43mfit\u001b[49m\u001b[43m(\u001b[49m\u001b[43mX_train_transformed\u001b[49m\u001b[43m,\u001b[49m\u001b[43m \u001b[49m\u001b[43my_train_fold\u001b[49m\u001b[43m)\u001b[49m\n\u001b[0;32m     25\u001b[0m \u001b[38;5;66;03m#predict\u001b[39;00m\n\u001b[0;32m     26\u001b[0m _, y_predict_fold \u001b[38;5;241m=\u001b[39m pipeline\u001b[38;5;241m.\u001b[39mtransform(X_test_fold)\n",
      "File \u001b[1;32m~\\Desktop\\workspace\\Tubes2_ML\\src\\compose\\CustomPipeline.py:46\u001b[0m, in \u001b[0;36mCustomPipeline.fit\u001b[1;34m(self, X, y)\u001b[0m\n\u001b[0;32m     41\u001b[0m     \u001b[38;5;28mself\u001b[39m\u001b[38;5;241m.\u001b[39m_args[idx][\u001b[38;5;241m1\u001b[39m]\u001b[38;5;241m.\u001b[39mset_strategy(\n\u001b[0;32m     42\u001b[0m         CustomTransformer(transformers\u001b[38;5;241m=\u001b[39m[(component\u001b[38;5;241m.\u001b[39mstrategy, \u001b[38;5;28mself\u001b[39m\u001b[38;5;241m.\u001b[39m_pl_property\u001b[38;5;241m.\u001b[39mfeatures[key])]))\n\u001b[0;32m     44\u001b[0m     component \u001b[38;5;241m=\u001b[39m \u001b[38;5;28mself\u001b[39m\u001b[38;5;241m.\u001b[39m_args[idx][\u001b[38;5;241m1\u001b[39m]\n\u001b[1;32m---> 46\u001b[0m \u001b[43mcomponent\u001b[49m\u001b[38;5;241;43m.\u001b[39;49m\u001b[43mfit_transform\u001b[49m\u001b[43m(\u001b[49m\u001b[38;5;28;43mself\u001b[39;49m\u001b[38;5;241;43m.\u001b[39;49m\u001b[43m_pl_property\u001b[49m\u001b[43m)\u001b[49m\n\u001b[0;32m     48\u001b[0m component\u001b[38;5;241m.\u001b[39mpost_handler(\u001b[38;5;28mself\u001b[39m\u001b[38;5;241m.\u001b[39m_pl_property)\n\u001b[0;32m     50\u001b[0m \u001b[38;5;28;01mif\u001b[39;00m arg[\u001b[38;5;241m0\u001b[39m] \u001b[38;5;129;01min\u001b[39;00m \u001b[38;5;28mself\u001b[39m\u001b[38;5;241m.\u001b[39m_config[\u001b[38;5;124m'\u001b[39m\u001b[38;5;124mcounter\u001b[39m\u001b[38;5;124m'\u001b[39m]:\n",
      "File \u001b[1;32m~\\Desktop\\workspace\\Tubes2_ML\\src\\compose\\PipelineComponent.py:55\u001b[0m, in \u001b[0;36mPipelineComponent.fit_transform\u001b[1;34m(self, pl_property)\u001b[0m\n\u001b[0;32m     54\u001b[0m \u001b[38;5;28;01mdef\u001b[39;00m \u001b[38;5;21mfit_transform\u001b[39m(\u001b[38;5;28mself\u001b[39m, pl_property: PipelineProperty):\n\u001b[1;32m---> 55\u001b[0m     \u001b[38;5;28;43mself\u001b[39;49m\u001b[38;5;241;43m.\u001b[39;49m\u001b[43m_io_strategy\u001b[49m\u001b[38;5;241;43m.\u001b[39;49m\u001b[43mfit\u001b[49m\u001b[43m(\u001b[49m\u001b[43mpl_property\u001b[49m\u001b[43m)\u001b[49m\n\u001b[0;32m     57\u001b[0m     \u001b[38;5;28;01mreturn\u001b[39;00m \u001b[38;5;28mself\u001b[39m\u001b[38;5;241m.\u001b[39m_io_strategy\u001b[38;5;241m.\u001b[39mtransform(pl_property)\n",
      "File \u001b[1;32m~\\Desktop\\workspace\\Tubes2_ML\\src\\compose\\io\\strategy\\CommonIOTransformerStrategy.py:11\u001b[0m, in \u001b[0;36mCommonIOTransformerStrategy.fit\u001b[1;34m(self, pl_property)\u001b[0m\n\u001b[0;32m     10\u001b[0m \u001b[38;5;28;01mdef\u001b[39;00m \u001b[38;5;21mfit\u001b[39m(\u001b[38;5;28mself\u001b[39m, pl_property: PipelineProperty):\n\u001b[1;32m---> 11\u001b[0m     \u001b[38;5;28;43mself\u001b[39;49m\u001b[38;5;241;43m.\u001b[39;49m\u001b[43m_strategy\u001b[49m\u001b[38;5;241;43m.\u001b[39;49m\u001b[43mfit\u001b[49m\u001b[43m(\u001b[49m\u001b[43mpl_property\u001b[49m\u001b[38;5;241;43m.\u001b[39;49m\u001b[43mX_transformed\u001b[49m\u001b[43m,\u001b[49m\u001b[43m \u001b[49m\u001b[43mpl_property\u001b[49m\u001b[38;5;241;43m.\u001b[39;49m\u001b[43my_transformed\u001b[49m\u001b[43m)\u001b[49m\n",
      "File \u001b[1;32m~\\Desktop\\workspace\\Tubes2_ML\\src\\compose\\CustomTransformer.py:14\u001b[0m, in \u001b[0;36mCustomTransformer.fit\u001b[1;34m(self, X, y)\u001b[0m\n\u001b[0;32m     12\u001b[0m \u001b[38;5;28;01mdef\u001b[39;00m \u001b[38;5;21mfit\u001b[39m(\u001b[38;5;28mself\u001b[39m, X, y\u001b[38;5;241m=\u001b[39m\u001b[38;5;28;01mNone\u001b[39;00m):\n\u001b[0;32m     13\u001b[0m     \u001b[38;5;28;01mfor\u001b[39;00m transformer \u001b[38;5;129;01min\u001b[39;00m \u001b[38;5;28mself\u001b[39m\u001b[38;5;241m.\u001b[39m_transformers:\n\u001b[1;32m---> 14\u001b[0m         transformer[\u001b[38;5;241m0\u001b[39m]\u001b[38;5;241m.\u001b[39mfit(\u001b[43mX\u001b[49m\u001b[43m[\u001b[49m\u001b[43mtransformer\u001b[49m\u001b[43m[\u001b[49m\u001b[38;5;241;43m1\u001b[39;49m\u001b[43m]\u001b[49m\u001b[43m]\u001b[49m, y)\n",
      "File \u001b[1;32m~\\Desktop\\workspace\\Tubes2_ML\\venv\\Lib\\site-packages\\pandas\\core\\frame.py:4108\u001b[0m, in \u001b[0;36mDataFrame.__getitem__\u001b[1;34m(self, key)\u001b[0m\n\u001b[0;32m   4106\u001b[0m     \u001b[38;5;28;01mif\u001b[39;00m is_iterator(key):\n\u001b[0;32m   4107\u001b[0m         key \u001b[38;5;241m=\u001b[39m \u001b[38;5;28mlist\u001b[39m(key)\n\u001b[1;32m-> 4108\u001b[0m     indexer \u001b[38;5;241m=\u001b[39m \u001b[38;5;28;43mself\u001b[39;49m\u001b[38;5;241;43m.\u001b[39;49m\u001b[43mcolumns\u001b[49m\u001b[38;5;241;43m.\u001b[39;49m\u001b[43m_get_indexer_strict\u001b[49m\u001b[43m(\u001b[49m\u001b[43mkey\u001b[49m\u001b[43m,\u001b[49m\u001b[43m \u001b[49m\u001b[38;5;124;43m\"\u001b[39;49m\u001b[38;5;124;43mcolumns\u001b[39;49m\u001b[38;5;124;43m\"\u001b[39;49m\u001b[43m)\u001b[49m[\u001b[38;5;241m1\u001b[39m]\n\u001b[0;32m   4110\u001b[0m \u001b[38;5;66;03m# take() does not accept boolean indexers\u001b[39;00m\n\u001b[0;32m   4111\u001b[0m \u001b[38;5;28;01mif\u001b[39;00m \u001b[38;5;28mgetattr\u001b[39m(indexer, \u001b[38;5;124m\"\u001b[39m\u001b[38;5;124mdtype\u001b[39m\u001b[38;5;124m\"\u001b[39m, \u001b[38;5;28;01mNone\u001b[39;00m) \u001b[38;5;241m==\u001b[39m \u001b[38;5;28mbool\u001b[39m:\n",
      "File \u001b[1;32m~\\Desktop\\workspace\\Tubes2_ML\\venv\\Lib\\site-packages\\pandas\\core\\indexes\\base.py:6200\u001b[0m, in \u001b[0;36mIndex._get_indexer_strict\u001b[1;34m(self, key, axis_name)\u001b[0m\n\u001b[0;32m   6197\u001b[0m \u001b[38;5;28;01melse\u001b[39;00m:\n\u001b[0;32m   6198\u001b[0m     keyarr, indexer, new_indexer \u001b[38;5;241m=\u001b[39m \u001b[38;5;28mself\u001b[39m\u001b[38;5;241m.\u001b[39m_reindex_non_unique(keyarr)\n\u001b[1;32m-> 6200\u001b[0m \u001b[38;5;28;43mself\u001b[39;49m\u001b[38;5;241;43m.\u001b[39;49m\u001b[43m_raise_if_missing\u001b[49m\u001b[43m(\u001b[49m\u001b[43mkeyarr\u001b[49m\u001b[43m,\u001b[49m\u001b[43m \u001b[49m\u001b[43mindexer\u001b[49m\u001b[43m,\u001b[49m\u001b[43m \u001b[49m\u001b[43maxis_name\u001b[49m\u001b[43m)\u001b[49m\n\u001b[0;32m   6202\u001b[0m keyarr \u001b[38;5;241m=\u001b[39m \u001b[38;5;28mself\u001b[39m\u001b[38;5;241m.\u001b[39mtake(indexer)\n\u001b[0;32m   6203\u001b[0m \u001b[38;5;28;01mif\u001b[39;00m \u001b[38;5;28misinstance\u001b[39m(key, Index):\n\u001b[0;32m   6204\u001b[0m     \u001b[38;5;66;03m# GH 42790 - Preserve name from an Index\u001b[39;00m\n",
      "File \u001b[1;32m~\\Desktop\\workspace\\Tubes2_ML\\venv\\Lib\\site-packages\\pandas\\core\\indexes\\base.py:6252\u001b[0m, in \u001b[0;36mIndex._raise_if_missing\u001b[1;34m(self, key, indexer, axis_name)\u001b[0m\n\u001b[0;32m   6249\u001b[0m     \u001b[38;5;28;01mraise\u001b[39;00m \u001b[38;5;167;01mKeyError\u001b[39;00m(\u001b[38;5;124mf\u001b[39m\u001b[38;5;124m\"\u001b[39m\u001b[38;5;124mNone of [\u001b[39m\u001b[38;5;132;01m{\u001b[39;00mkey\u001b[38;5;132;01m}\u001b[39;00m\u001b[38;5;124m] are in the [\u001b[39m\u001b[38;5;132;01m{\u001b[39;00maxis_name\u001b[38;5;132;01m}\u001b[39;00m\u001b[38;5;124m]\u001b[39m\u001b[38;5;124m\"\u001b[39m)\n\u001b[0;32m   6251\u001b[0m not_found \u001b[38;5;241m=\u001b[39m \u001b[38;5;28mlist\u001b[39m(ensure_index(key)[missing_mask\u001b[38;5;241m.\u001b[39mnonzero()[\u001b[38;5;241m0\u001b[39m]]\u001b[38;5;241m.\u001b[39munique())\n\u001b[1;32m-> 6252\u001b[0m \u001b[38;5;28;01mraise\u001b[39;00m \u001b[38;5;167;01mKeyError\u001b[39;00m(\u001b[38;5;124mf\u001b[39m\u001b[38;5;124m\"\u001b[39m\u001b[38;5;132;01m{\u001b[39;00mnot_found\u001b[38;5;132;01m}\u001b[39;00m\u001b[38;5;124m not in index\u001b[39m\u001b[38;5;124m\"\u001b[39m)\n",
      "\u001b[1;31mKeyError\u001b[0m: \"['ct_flw_http_mthd', 'ct_ftp_cmd', 'sloss', 'swin', 'dwin', 'stcpb', 'trans_depth', 'response_body_len'] not in index\""
     ]
    }
   ],
   "source": [
    "reset_import()\n",
    "\n",
    "from sklearn.neighbors import KNeighborsClassifier\n",
    "\n",
    "import warnings\n",
    "\n",
    "warnings.filterwarnings('ignore')\n",
    "\n",
    "reset_import()\n",
    "\n",
    "from src.compose import CustomPipeline\n",
    "\n",
    "model = KNeighborsClassifier(n_neighbors=3)\n",
    "\n",
    "knn_sklearn = CustomPipeline(args=[\n",
    "    ('missing', MissingValueHandler(strategy=CustomTransformer(transformers=[\n",
    "        (SimpleImputer(strategy='mean'), numerical_features),\n",
    "        (SimpleImputer(strategy='most_frequent'), categorical_features)\n",
    "    ]))),\n",
    "    ('duplicate', DuplicateHandler(strategy=DropDuplicateHandlerStrategy())),\n",
    "    ('outliers', OutlierHandler(strategy=CustomTransformer(transformers=[\n",
    "        (BoundOutlierHandlerStrategy(), numerical_features)\n",
    "    ]))),\n",
    "    ('feature selection', FeatureSelectionHandler(strategy=CustomTransformer(transformers=[\n",
    "        (RandomForestFeatureSelectionHandlerStrategy(0.25), numerical_features),\n",
    "    ]))),\n",
    "    ('feature scaling', ScaleHandler(strategy=ZScoreScaleHandlerStrategy()), 'numerical_features'),\n",
    "    ('encoder', PipelineComponent(strategy=None).set_io_strategy(\n",
    "        LabelEncoderIOTransformerStrategy(strategy=CustomTransformer(transformers=[\n",
    "            (SKLearnLabelEncoderProxy(), categorical_features),\n",
    "        ])),\n",
    "    )),\n",
    "    ('classifier', PipelineComponent(strategy=None).set_io_strategy(\n",
    "        ClassifierTransformerStrategy(strategy=Proxy(model = model)))),\n",
    "], pl_property=PipelineProperty(\n",
    "    {'numerical_features': numerical_features, 'categorical_features': categorical_features}), verbose=True,\n",
    "    only_once=['duplicate'])\n",
    "\n",
    "compare_models([knn_sklearn])"
   ]
  },
  {
   "cell_type": "markdown",
   "metadata": {},
   "source": []
  },
  {
   "cell_type": "code",
   "execution_count": 22,
   "metadata": {},
   "outputs": [
    {
     "name": "stdout",
     "output_type": "stream",
     "text": [
      "fit: missing\n",
      "fit: outliers\n",
      "fit: feature selection\n",
      "fit: feature scaling\n",
      "fit: encoder\n",
      "fit: classifier\n"
     ]
    },
    {
     "ename": "AttributeError",
     "evalue": "'NoneType' object has no attribute 'split'",
     "output_type": "error",
     "traceback": [
      "\u001b[1;31m---------------------------------------------------------------------------\u001b[0m",
      "\u001b[1;31mAttributeError\u001b[0m                            Traceback (most recent call last)",
      "Cell \u001b[1;32mIn[22], line 34\u001b[0m\n\u001b[0;32m      9\u001b[0m reset_import()\n\u001b[0;32m     11\u001b[0m pipeline \u001b[38;5;241m=\u001b[39m CustomPipeline(args\u001b[38;5;241m=\u001b[39m[\n\u001b[0;32m     12\u001b[0m     (\u001b[38;5;124m'\u001b[39m\u001b[38;5;124mmissing\u001b[39m\u001b[38;5;124m'\u001b[39m, MissingValueHandler(strategy\u001b[38;5;241m=\u001b[39mCustomTransformer(transformers\u001b[38;5;241m=\u001b[39m[\n\u001b[0;32m     13\u001b[0m         (SimpleImputer(strategy\u001b[38;5;241m=\u001b[39m\u001b[38;5;124m'\u001b[39m\u001b[38;5;124mmean\u001b[39m\u001b[38;5;124m'\u001b[39m), numerical_features),\n\u001b[1;32m   (...)\u001b[0m\n\u001b[0;32m     31\u001b[0m ], pl_property\u001b[38;5;241m=\u001b[39mPipelineProperty(\n\u001b[0;32m     32\u001b[0m     {\u001b[38;5;124m'\u001b[39m\u001b[38;5;124mnumerical_features\u001b[39m\u001b[38;5;124m'\u001b[39m: numerical_features, \u001b[38;5;124m'\u001b[39m\u001b[38;5;124mcategorical_features\u001b[39m\u001b[38;5;124m'\u001b[39m: categorical_features}), verbose\u001b[38;5;241m=\u001b[39m\u001b[38;5;28;01mTrue\u001b[39;00m)\n\u001b[1;32m---> 34\u001b[0m X_train_transformed, _ \u001b[38;5;241m=\u001b[39m \u001b[43mpipeline\u001b[49m\u001b[38;5;241;43m.\u001b[39;49m\u001b[43mfit_transform\u001b[49m\u001b[43m(\u001b[49m\u001b[43mX_train\u001b[49m\u001b[43m,\u001b[49m\u001b[43m \u001b[49m\u001b[43my_train\u001b[49m\u001b[43m)\u001b[49m\n\u001b[0;32m     36\u001b[0m check_for_completeness(X_train_transformed)\n\u001b[0;32m     38\u001b[0m _, y_pred \u001b[38;5;241m=\u001b[39m pipeline\u001b[38;5;241m.\u001b[39mtransform(X_val)\n",
      "File \u001b[1;32md:\\Tubes2_IF3170_MachineLearning\\src\\compose\\CustomPipeline.py:76\u001b[0m, in \u001b[0;36mCustomPipeline.fit_transform\u001b[1;34m(self, X, y)\u001b[0m\n\u001b[0;32m     75\u001b[0m \u001b[38;5;28;01mdef\u001b[39;00m \u001b[38;5;21mfit_transform\u001b[39m(\u001b[38;5;28mself\u001b[39m, X, y\u001b[38;5;241m=\u001b[39m\u001b[38;5;28;01mNone\u001b[39;00m):\n\u001b[1;32m---> 76\u001b[0m     \u001b[38;5;28;43mself\u001b[39;49m\u001b[38;5;241;43m.\u001b[39;49m\u001b[43mfit\u001b[49m\u001b[43m(\u001b[49m\u001b[43mX\u001b[49m\u001b[43m,\u001b[49m\u001b[43m \u001b[49m\u001b[43my\u001b[49m\u001b[43m)\u001b[49m\n\u001b[0;32m     78\u001b[0m     X_transformed \u001b[38;5;241m=\u001b[39m X\u001b[38;5;241m.\u001b[39mcopy()\n\u001b[0;32m     79\u001b[0m     X_transformed \u001b[38;5;241m=\u001b[39m \u001b[38;5;28mself\u001b[39m\u001b[38;5;241m.\u001b[39mtransform(X_transformed)\n",
      "File \u001b[1;32md:\\Tubes2_IF3170_MachineLearning\\src\\compose\\CustomPipeline.py:46\u001b[0m, in \u001b[0;36mCustomPipeline.fit\u001b[1;34m(self, X, y)\u001b[0m\n\u001b[0;32m     41\u001b[0m     \u001b[38;5;28mself\u001b[39m\u001b[38;5;241m.\u001b[39m_args[idx][\u001b[38;5;241m1\u001b[39m]\u001b[38;5;241m.\u001b[39mset_strategy(\n\u001b[0;32m     42\u001b[0m         CustomTransformer(transformers\u001b[38;5;241m=\u001b[39m[(component\u001b[38;5;241m.\u001b[39mstrategy, \u001b[38;5;28mself\u001b[39m\u001b[38;5;241m.\u001b[39m_pl_property\u001b[38;5;241m.\u001b[39mfeatures[key])]))\n\u001b[0;32m     44\u001b[0m     component \u001b[38;5;241m=\u001b[39m \u001b[38;5;28mself\u001b[39m\u001b[38;5;241m.\u001b[39m_args[idx][\u001b[38;5;241m1\u001b[39m]\n\u001b[1;32m---> 46\u001b[0m \u001b[43mcomponent\u001b[49m\u001b[38;5;241;43m.\u001b[39;49m\u001b[43mfit_transform\u001b[49m\u001b[43m(\u001b[49m\u001b[38;5;28;43mself\u001b[39;49m\u001b[38;5;241;43m.\u001b[39;49m\u001b[43m_pl_property\u001b[49m\u001b[43m)\u001b[49m\n\u001b[0;32m     48\u001b[0m component\u001b[38;5;241m.\u001b[39mpost_handler(\u001b[38;5;28mself\u001b[39m\u001b[38;5;241m.\u001b[39m_pl_property)\n\u001b[0;32m     50\u001b[0m \u001b[38;5;28;01mif\u001b[39;00m arg[\u001b[38;5;241m0\u001b[39m] \u001b[38;5;129;01min\u001b[39;00m \u001b[38;5;28mself\u001b[39m\u001b[38;5;241m.\u001b[39m_config[\u001b[38;5;124m'\u001b[39m\u001b[38;5;124mcounter\u001b[39m\u001b[38;5;124m'\u001b[39m]:\n",
      "File \u001b[1;32md:\\Tubes2_IF3170_MachineLearning\\src\\compose\\PipelineComponent.py:57\u001b[0m, in \u001b[0;36mPipelineComponent.fit_transform\u001b[1;34m(self, pl_property)\u001b[0m\n\u001b[0;32m     54\u001b[0m \u001b[38;5;28;01mdef\u001b[39;00m \u001b[38;5;21mfit_transform\u001b[39m(\u001b[38;5;28mself\u001b[39m, pl_property: PipelineProperty):\n\u001b[0;32m     55\u001b[0m     \u001b[38;5;28mself\u001b[39m\u001b[38;5;241m.\u001b[39m_io_strategy\u001b[38;5;241m.\u001b[39mfit(pl_property)\n\u001b[1;32m---> 57\u001b[0m     \u001b[38;5;28;01mreturn\u001b[39;00m \u001b[38;5;28;43mself\u001b[39;49m\u001b[38;5;241;43m.\u001b[39;49m\u001b[43m_io_strategy\u001b[49m\u001b[38;5;241;43m.\u001b[39;49m\u001b[43mtransform\u001b[49m\u001b[43m(\u001b[49m\u001b[43mpl_property\u001b[49m\u001b[43m)\u001b[49m\n",
      "File \u001b[1;32md:\\Tubes2_IF3170_MachineLearning\\src\\compose\\io\\strategy\\ClassifierTransformerStrategy.py:14\u001b[0m, in \u001b[0;36mClassifierTransformerStrategy.transform\u001b[1;34m(self, pl_property)\u001b[0m\n\u001b[0;32m     13\u001b[0m \u001b[38;5;28;01mdef\u001b[39;00m \u001b[38;5;21mtransform\u001b[39m(\u001b[38;5;28mself\u001b[39m, pl_property: PipelineProperty):\n\u001b[1;32m---> 14\u001b[0m     pl_property\u001b[38;5;241m.\u001b[39my_transformed \u001b[38;5;241m=\u001b[39m \u001b[38;5;28;43mself\u001b[39;49m\u001b[38;5;241;43m.\u001b[39;49m\u001b[43m_strategy\u001b[49m\u001b[38;5;241;43m.\u001b[39;49m\u001b[43mtransform\u001b[49m\u001b[43m(\u001b[49m\u001b[43mpl_property\u001b[49m\u001b[38;5;241;43m.\u001b[39;49m\u001b[43mX_transformed\u001b[49m\u001b[43m)\u001b[49m\n",
      "File \u001b[1;32mc:\\Users\\Yuno\\anaconda3\\Lib\\site-packages\\sklearn\\utils\\_set_output.py:140\u001b[0m, in \u001b[0;36m_wrap_method_output.<locals>.wrapped\u001b[1;34m(self, X, *args, **kwargs)\u001b[0m\n\u001b[0;32m    138\u001b[0m \u001b[38;5;129m@wraps\u001b[39m(f)\n\u001b[0;32m    139\u001b[0m \u001b[38;5;28;01mdef\u001b[39;00m \u001b[38;5;21mwrapped\u001b[39m(\u001b[38;5;28mself\u001b[39m, X, \u001b[38;5;241m*\u001b[39margs, \u001b[38;5;241m*\u001b[39m\u001b[38;5;241m*\u001b[39mkwargs):\n\u001b[1;32m--> 140\u001b[0m     data_to_wrap \u001b[38;5;241m=\u001b[39m \u001b[43mf\u001b[49m\u001b[43m(\u001b[49m\u001b[38;5;28;43mself\u001b[39;49m\u001b[43m,\u001b[49m\u001b[43m \u001b[49m\u001b[43mX\u001b[49m\u001b[43m,\u001b[49m\u001b[43m \u001b[49m\u001b[38;5;241;43m*\u001b[39;49m\u001b[43margs\u001b[49m\u001b[43m,\u001b[49m\u001b[43m \u001b[49m\u001b[38;5;241;43m*\u001b[39;49m\u001b[38;5;241;43m*\u001b[39;49m\u001b[43mkwargs\u001b[49m\u001b[43m)\u001b[49m\n\u001b[0;32m    141\u001b[0m     \u001b[38;5;28;01mif\u001b[39;00m \u001b[38;5;28misinstance\u001b[39m(data_to_wrap, \u001b[38;5;28mtuple\u001b[39m):\n\u001b[0;32m    142\u001b[0m         \u001b[38;5;66;03m# only wrap the first output for cross decomposition\u001b[39;00m\n\u001b[0;32m    143\u001b[0m         \u001b[38;5;28;01mreturn\u001b[39;00m (\n\u001b[0;32m    144\u001b[0m             _wrap_data_with_container(method, data_to_wrap[\u001b[38;5;241m0\u001b[39m], X, \u001b[38;5;28mself\u001b[39m),\n\u001b[0;32m    145\u001b[0m             \u001b[38;5;241m*\u001b[39mdata_to_wrap[\u001b[38;5;241m1\u001b[39m:],\n\u001b[0;32m    146\u001b[0m         )\n",
      "Cell \u001b[1;32mIn[15], line 25\u001b[0m, in \u001b[0;36mProxy.transform\u001b[1;34m(self, X)\u001b[0m\n\u001b[0;32m     24\u001b[0m \u001b[38;5;28;01mdef\u001b[39;00m \u001b[38;5;21mtransform\u001b[39m(\u001b[38;5;28mself\u001b[39m, X):\n\u001b[1;32m---> 25\u001b[0m     \u001b[38;5;28;01mreturn\u001b[39;00m \u001b[38;5;28;43mself\u001b[39;49m\u001b[38;5;241;43m.\u001b[39;49m\u001b[43m_model\u001b[49m\u001b[38;5;241;43m.\u001b[39;49m\u001b[43mpredict\u001b[49m\u001b[43m(\u001b[49m\u001b[43mX\u001b[49m\u001b[43m)\u001b[49m\n",
      "File \u001b[1;32mc:\\Users\\Yuno\\anaconda3\\Lib\\site-packages\\sklearn\\neighbors\\_classification.py:234\u001b[0m, in \u001b[0;36mKNeighborsClassifier.predict\u001b[1;34m(self, X)\u001b[0m\n\u001b[0;32m    218\u001b[0m \u001b[38;5;250m\u001b[39m\u001b[38;5;124;03m\"\"\"Predict the class labels for the provided data.\u001b[39;00m\n\u001b[0;32m    219\u001b[0m \n\u001b[0;32m    220\u001b[0m \u001b[38;5;124;03mParameters\u001b[39;00m\n\u001b[1;32m   (...)\u001b[0m\n\u001b[0;32m    229\u001b[0m \u001b[38;5;124;03m    Class labels for each data sample.\u001b[39;00m\n\u001b[0;32m    230\u001b[0m \u001b[38;5;124;03m\"\"\"\u001b[39;00m\n\u001b[0;32m    231\u001b[0m \u001b[38;5;28;01mif\u001b[39;00m \u001b[38;5;28mself\u001b[39m\u001b[38;5;241m.\u001b[39mweights \u001b[38;5;241m==\u001b[39m \u001b[38;5;124m\"\u001b[39m\u001b[38;5;124muniform\u001b[39m\u001b[38;5;124m\"\u001b[39m:\n\u001b[0;32m    232\u001b[0m     \u001b[38;5;66;03m# In that case, we do not need the distances to perform\u001b[39;00m\n\u001b[0;32m    233\u001b[0m     \u001b[38;5;66;03m# the weighting so we do not compute them.\u001b[39;00m\n\u001b[1;32m--> 234\u001b[0m     neigh_ind \u001b[38;5;241m=\u001b[39m \u001b[38;5;28;43mself\u001b[39;49m\u001b[38;5;241;43m.\u001b[39;49m\u001b[43mkneighbors\u001b[49m\u001b[43m(\u001b[49m\u001b[43mX\u001b[49m\u001b[43m,\u001b[49m\u001b[43m \u001b[49m\u001b[43mreturn_distance\u001b[49m\u001b[38;5;241;43m=\u001b[39;49m\u001b[38;5;28;43;01mFalse\u001b[39;49;00m\u001b[43m)\u001b[49m\n\u001b[0;32m    235\u001b[0m     neigh_dist \u001b[38;5;241m=\u001b[39m \u001b[38;5;28;01mNone\u001b[39;00m\n\u001b[0;32m    236\u001b[0m \u001b[38;5;28;01melse\u001b[39;00m:\n",
      "File \u001b[1;32mc:\\Users\\Yuno\\anaconda3\\Lib\\site-packages\\sklearn\\neighbors\\_base.py:824\u001b[0m, in \u001b[0;36mKNeighborsMixin.kneighbors\u001b[1;34m(self, X, n_neighbors, return_distance)\u001b[0m\n\u001b[0;32m    817\u001b[0m use_pairwise_distances_reductions \u001b[38;5;241m=\u001b[39m (\n\u001b[0;32m    818\u001b[0m     \u001b[38;5;28mself\u001b[39m\u001b[38;5;241m.\u001b[39m_fit_method \u001b[38;5;241m==\u001b[39m \u001b[38;5;124m\"\u001b[39m\u001b[38;5;124mbrute\u001b[39m\u001b[38;5;124m\"\u001b[39m\n\u001b[0;32m    819\u001b[0m     \u001b[38;5;129;01mand\u001b[39;00m ArgKmin\u001b[38;5;241m.\u001b[39mis_usable_for(\n\u001b[0;32m    820\u001b[0m         X \u001b[38;5;28;01mif\u001b[39;00m X \u001b[38;5;129;01mis\u001b[39;00m \u001b[38;5;129;01mnot\u001b[39;00m \u001b[38;5;28;01mNone\u001b[39;00m \u001b[38;5;28;01melse\u001b[39;00m \u001b[38;5;28mself\u001b[39m\u001b[38;5;241m.\u001b[39m_fit_X, \u001b[38;5;28mself\u001b[39m\u001b[38;5;241m.\u001b[39m_fit_X, \u001b[38;5;28mself\u001b[39m\u001b[38;5;241m.\u001b[39meffective_metric_\n\u001b[0;32m    821\u001b[0m     )\n\u001b[0;32m    822\u001b[0m )\n\u001b[0;32m    823\u001b[0m \u001b[38;5;28;01mif\u001b[39;00m use_pairwise_distances_reductions:\n\u001b[1;32m--> 824\u001b[0m     results \u001b[38;5;241m=\u001b[39m \u001b[43mArgKmin\u001b[49m\u001b[38;5;241;43m.\u001b[39;49m\u001b[43mcompute\u001b[49m\u001b[43m(\u001b[49m\n\u001b[0;32m    825\u001b[0m \u001b[43m        \u001b[49m\u001b[43mX\u001b[49m\u001b[38;5;241;43m=\u001b[39;49m\u001b[43mX\u001b[49m\u001b[43m,\u001b[49m\n\u001b[0;32m    826\u001b[0m \u001b[43m        \u001b[49m\u001b[43mY\u001b[49m\u001b[38;5;241;43m=\u001b[39;49m\u001b[38;5;28;43mself\u001b[39;49m\u001b[38;5;241;43m.\u001b[39;49m\u001b[43m_fit_X\u001b[49m\u001b[43m,\u001b[49m\n\u001b[0;32m    827\u001b[0m \u001b[43m        \u001b[49m\u001b[43mk\u001b[49m\u001b[38;5;241;43m=\u001b[39;49m\u001b[43mn_neighbors\u001b[49m\u001b[43m,\u001b[49m\n\u001b[0;32m    828\u001b[0m \u001b[43m        \u001b[49m\u001b[43mmetric\u001b[49m\u001b[38;5;241;43m=\u001b[39;49m\u001b[38;5;28;43mself\u001b[39;49m\u001b[38;5;241;43m.\u001b[39;49m\u001b[43meffective_metric_\u001b[49m\u001b[43m,\u001b[49m\n\u001b[0;32m    829\u001b[0m \u001b[43m        \u001b[49m\u001b[43mmetric_kwargs\u001b[49m\u001b[38;5;241;43m=\u001b[39;49m\u001b[38;5;28;43mself\u001b[39;49m\u001b[38;5;241;43m.\u001b[39;49m\u001b[43meffective_metric_params_\u001b[49m\u001b[43m,\u001b[49m\n\u001b[0;32m    830\u001b[0m \u001b[43m        \u001b[49m\u001b[43mstrategy\u001b[49m\u001b[38;5;241;43m=\u001b[39;49m\u001b[38;5;124;43m\"\u001b[39;49m\u001b[38;5;124;43mauto\u001b[39;49m\u001b[38;5;124;43m\"\u001b[39;49m\u001b[43m,\u001b[49m\n\u001b[0;32m    831\u001b[0m \u001b[43m        \u001b[49m\u001b[43mreturn_distance\u001b[49m\u001b[38;5;241;43m=\u001b[39;49m\u001b[43mreturn_distance\u001b[49m\u001b[43m,\u001b[49m\n\u001b[0;32m    832\u001b[0m \u001b[43m    \u001b[49m\u001b[43m)\u001b[49m\n\u001b[0;32m    834\u001b[0m \u001b[38;5;28;01melif\u001b[39;00m (\n\u001b[0;32m    835\u001b[0m     \u001b[38;5;28mself\u001b[39m\u001b[38;5;241m.\u001b[39m_fit_method \u001b[38;5;241m==\u001b[39m \u001b[38;5;124m\"\u001b[39m\u001b[38;5;124mbrute\u001b[39m\u001b[38;5;124m\"\u001b[39m \u001b[38;5;129;01mand\u001b[39;00m \u001b[38;5;28mself\u001b[39m\u001b[38;5;241m.\u001b[39mmetric \u001b[38;5;241m==\u001b[39m \u001b[38;5;124m\"\u001b[39m\u001b[38;5;124mprecomputed\u001b[39m\u001b[38;5;124m\"\u001b[39m \u001b[38;5;129;01mand\u001b[39;00m issparse(X)\n\u001b[0;32m    836\u001b[0m ):\n\u001b[0;32m    837\u001b[0m     results \u001b[38;5;241m=\u001b[39m _kneighbors_from_graph(\n\u001b[0;32m    838\u001b[0m         X, n_neighbors\u001b[38;5;241m=\u001b[39mn_neighbors, return_distance\u001b[38;5;241m=\u001b[39mreturn_distance\n\u001b[0;32m    839\u001b[0m     )\n",
      "File \u001b[1;32mc:\\Users\\Yuno\\anaconda3\\Lib\\site-packages\\sklearn\\metrics\\_pairwise_distances_reduction\\_dispatcher.py:277\u001b[0m, in \u001b[0;36mArgKmin.compute\u001b[1;34m(cls, X, Y, k, metric, chunk_size, metric_kwargs, strategy, return_distance)\u001b[0m\n\u001b[0;32m    196\u001b[0m \u001b[38;5;250m\u001b[39m\u001b[38;5;124;03m\"\"\"Compute the argkmin reduction.\u001b[39;00m\n\u001b[0;32m    197\u001b[0m \n\u001b[0;32m    198\u001b[0m \u001b[38;5;124;03mParameters\u001b[39;00m\n\u001b[1;32m   (...)\u001b[0m\n\u001b[0;32m    274\u001b[0m \u001b[38;5;124;03mreturns.\u001b[39;00m\n\u001b[0;32m    275\u001b[0m \u001b[38;5;124;03m\"\"\"\u001b[39;00m\n\u001b[0;32m    276\u001b[0m \u001b[38;5;28;01mif\u001b[39;00m X\u001b[38;5;241m.\u001b[39mdtype \u001b[38;5;241m==\u001b[39m Y\u001b[38;5;241m.\u001b[39mdtype \u001b[38;5;241m==\u001b[39m np\u001b[38;5;241m.\u001b[39mfloat64:\n\u001b[1;32m--> 277\u001b[0m     \u001b[38;5;28;01mreturn\u001b[39;00m \u001b[43mArgKmin64\u001b[49m\u001b[38;5;241;43m.\u001b[39;49m\u001b[43mcompute\u001b[49m\u001b[43m(\u001b[49m\n\u001b[0;32m    278\u001b[0m \u001b[43m        \u001b[49m\u001b[43mX\u001b[49m\u001b[38;5;241;43m=\u001b[39;49m\u001b[43mX\u001b[49m\u001b[43m,\u001b[49m\n\u001b[0;32m    279\u001b[0m \u001b[43m        \u001b[49m\u001b[43mY\u001b[49m\u001b[38;5;241;43m=\u001b[39;49m\u001b[43mY\u001b[49m\u001b[43m,\u001b[49m\n\u001b[0;32m    280\u001b[0m \u001b[43m        \u001b[49m\u001b[43mk\u001b[49m\u001b[38;5;241;43m=\u001b[39;49m\u001b[43mk\u001b[49m\u001b[43m,\u001b[49m\n\u001b[0;32m    281\u001b[0m \u001b[43m        \u001b[49m\u001b[43mmetric\u001b[49m\u001b[38;5;241;43m=\u001b[39;49m\u001b[43mmetric\u001b[49m\u001b[43m,\u001b[49m\n\u001b[0;32m    282\u001b[0m \u001b[43m        \u001b[49m\u001b[43mchunk_size\u001b[49m\u001b[38;5;241;43m=\u001b[39;49m\u001b[43mchunk_size\u001b[49m\u001b[43m,\u001b[49m\n\u001b[0;32m    283\u001b[0m \u001b[43m        \u001b[49m\u001b[43mmetric_kwargs\u001b[49m\u001b[38;5;241;43m=\u001b[39;49m\u001b[43mmetric_kwargs\u001b[49m\u001b[43m,\u001b[49m\n\u001b[0;32m    284\u001b[0m \u001b[43m        \u001b[49m\u001b[43mstrategy\u001b[49m\u001b[38;5;241;43m=\u001b[39;49m\u001b[43mstrategy\u001b[49m\u001b[43m,\u001b[49m\n\u001b[0;32m    285\u001b[0m \u001b[43m        \u001b[49m\u001b[43mreturn_distance\u001b[49m\u001b[38;5;241;43m=\u001b[39;49m\u001b[43mreturn_distance\u001b[49m\u001b[43m,\u001b[49m\n\u001b[0;32m    286\u001b[0m \u001b[43m    \u001b[49m\u001b[43m)\u001b[49m\n\u001b[0;32m    288\u001b[0m \u001b[38;5;28;01mif\u001b[39;00m X\u001b[38;5;241m.\u001b[39mdtype \u001b[38;5;241m==\u001b[39m Y\u001b[38;5;241m.\u001b[39mdtype \u001b[38;5;241m==\u001b[39m np\u001b[38;5;241m.\u001b[39mfloat32:\n\u001b[0;32m    289\u001b[0m     \u001b[38;5;28;01mreturn\u001b[39;00m ArgKmin32\u001b[38;5;241m.\u001b[39mcompute(\n\u001b[0;32m    290\u001b[0m         X\u001b[38;5;241m=\u001b[39mX,\n\u001b[0;32m    291\u001b[0m         Y\u001b[38;5;241m=\u001b[39mY,\n\u001b[1;32m   (...)\u001b[0m\n\u001b[0;32m    297\u001b[0m         return_distance\u001b[38;5;241m=\u001b[39mreturn_distance,\n\u001b[0;32m    298\u001b[0m     )\n",
      "File \u001b[1;32msklearn\\metrics\\_pairwise_distances_reduction\\_argkmin.pyx:95\u001b[0m, in \u001b[0;36msklearn.metrics._pairwise_distances_reduction._argkmin.ArgKmin64.compute\u001b[1;34m()\u001b[0m\n",
      "File \u001b[1;32mc:\\Users\\Yuno\\anaconda3\\Lib\\site-packages\\sklearn\\utils\\fixes.py:139\u001b[0m, in \u001b[0;36mthreadpool_limits\u001b[1;34m(limits, user_api)\u001b[0m\n\u001b[0;32m    137\u001b[0m     \u001b[38;5;28;01mreturn\u001b[39;00m controller\u001b[38;5;241m.\u001b[39mlimit(limits\u001b[38;5;241m=\u001b[39mlimits, user_api\u001b[38;5;241m=\u001b[39muser_api)\n\u001b[0;32m    138\u001b[0m \u001b[38;5;28;01melse\u001b[39;00m:\n\u001b[1;32m--> 139\u001b[0m     \u001b[38;5;28;01mreturn\u001b[39;00m \u001b[43mthreadpoolctl\u001b[49m\u001b[38;5;241;43m.\u001b[39;49m\u001b[43mthreadpool_limits\u001b[49m\u001b[43m(\u001b[49m\u001b[43mlimits\u001b[49m\u001b[38;5;241;43m=\u001b[39;49m\u001b[43mlimits\u001b[49m\u001b[43m,\u001b[49m\u001b[43m \u001b[49m\u001b[43muser_api\u001b[49m\u001b[38;5;241;43m=\u001b[39;49m\u001b[43muser_api\u001b[49m\u001b[43m)\u001b[49m\n",
      "File \u001b[1;32mc:\\Users\\Yuno\\anaconda3\\Lib\\site-packages\\threadpoolctl.py:171\u001b[0m, in \u001b[0;36mthreadpool_limits.__init__\u001b[1;34m(self, limits, user_api)\u001b[0m\n\u001b[0;32m    167\u001b[0m \u001b[38;5;28;01mdef\u001b[39;00m \u001b[38;5;21m__init__\u001b[39m(\u001b[38;5;28mself\u001b[39m, limits\u001b[38;5;241m=\u001b[39m\u001b[38;5;28;01mNone\u001b[39;00m, user_api\u001b[38;5;241m=\u001b[39m\u001b[38;5;28;01mNone\u001b[39;00m):\n\u001b[0;32m    168\u001b[0m     \u001b[38;5;28mself\u001b[39m\u001b[38;5;241m.\u001b[39m_limits, \u001b[38;5;28mself\u001b[39m\u001b[38;5;241m.\u001b[39m_user_api, \u001b[38;5;28mself\u001b[39m\u001b[38;5;241m.\u001b[39m_prefixes \u001b[38;5;241m=\u001b[39m \\\n\u001b[0;32m    169\u001b[0m         \u001b[38;5;28mself\u001b[39m\u001b[38;5;241m.\u001b[39m_check_params(limits, user_api)\n\u001b[1;32m--> 171\u001b[0m     \u001b[38;5;28mself\u001b[39m\u001b[38;5;241m.\u001b[39m_original_info \u001b[38;5;241m=\u001b[39m \u001b[38;5;28;43mself\u001b[39;49m\u001b[38;5;241;43m.\u001b[39;49m\u001b[43m_set_threadpool_limits\u001b[49m\u001b[43m(\u001b[49m\u001b[43m)\u001b[49m\n",
      "File \u001b[1;32mc:\\Users\\Yuno\\anaconda3\\Lib\\site-packages\\threadpoolctl.py:268\u001b[0m, in \u001b[0;36mthreadpool_limits._set_threadpool_limits\u001b[1;34m(self)\u001b[0m\n\u001b[0;32m    265\u001b[0m \u001b[38;5;28;01mif\u001b[39;00m \u001b[38;5;28mself\u001b[39m\u001b[38;5;241m.\u001b[39m_limits \u001b[38;5;129;01mis\u001b[39;00m \u001b[38;5;28;01mNone\u001b[39;00m:\n\u001b[0;32m    266\u001b[0m     \u001b[38;5;28;01mreturn\u001b[39;00m \u001b[38;5;28;01mNone\u001b[39;00m\n\u001b[1;32m--> 268\u001b[0m modules \u001b[38;5;241m=\u001b[39m \u001b[43m_ThreadpoolInfo\u001b[49m\u001b[43m(\u001b[49m\u001b[43mprefixes\u001b[49m\u001b[38;5;241;43m=\u001b[39;49m\u001b[38;5;28;43mself\u001b[39;49m\u001b[38;5;241;43m.\u001b[39;49m\u001b[43m_prefixes\u001b[49m\u001b[43m,\u001b[49m\n\u001b[0;32m    269\u001b[0m \u001b[43m                          \u001b[49m\u001b[43muser_api\u001b[49m\u001b[38;5;241;43m=\u001b[39;49m\u001b[38;5;28;43mself\u001b[39;49m\u001b[38;5;241;43m.\u001b[39;49m\u001b[43m_user_api\u001b[49m\u001b[43m)\u001b[49m\n\u001b[0;32m    270\u001b[0m \u001b[38;5;28;01mfor\u001b[39;00m module \u001b[38;5;129;01min\u001b[39;00m modules:\n\u001b[0;32m    271\u001b[0m     \u001b[38;5;66;03m# self._limits is a dict {key: num_threads} where key is either\u001b[39;00m\n\u001b[0;32m    272\u001b[0m     \u001b[38;5;66;03m# a prefix or a user_api. If a module matches both, the limit\u001b[39;00m\n\u001b[0;32m    273\u001b[0m     \u001b[38;5;66;03m# corresponding to the prefix is chosed.\u001b[39;00m\n\u001b[0;32m    274\u001b[0m     \u001b[38;5;28;01mif\u001b[39;00m module\u001b[38;5;241m.\u001b[39mprefix \u001b[38;5;129;01min\u001b[39;00m \u001b[38;5;28mself\u001b[39m\u001b[38;5;241m.\u001b[39m_limits:\n",
      "File \u001b[1;32mc:\\Users\\Yuno\\anaconda3\\Lib\\site-packages\\threadpoolctl.py:340\u001b[0m, in \u001b[0;36m_ThreadpoolInfo.__init__\u001b[1;34m(self, user_api, prefixes, modules)\u001b[0m\n\u001b[0;32m    337\u001b[0m     \u001b[38;5;28mself\u001b[39m\u001b[38;5;241m.\u001b[39muser_api \u001b[38;5;241m=\u001b[39m [] \u001b[38;5;28;01mif\u001b[39;00m user_api \u001b[38;5;129;01mis\u001b[39;00m \u001b[38;5;28;01mNone\u001b[39;00m \u001b[38;5;28;01melse\u001b[39;00m user_api\n\u001b[0;32m    339\u001b[0m     \u001b[38;5;28mself\u001b[39m\u001b[38;5;241m.\u001b[39mmodules \u001b[38;5;241m=\u001b[39m []\n\u001b[1;32m--> 340\u001b[0m     \u001b[38;5;28;43mself\u001b[39;49m\u001b[38;5;241;43m.\u001b[39;49m\u001b[43m_load_modules\u001b[49m\u001b[43m(\u001b[49m\u001b[43m)\u001b[49m\n\u001b[0;32m    341\u001b[0m     \u001b[38;5;28mself\u001b[39m\u001b[38;5;241m.\u001b[39m_warn_if_incompatible_openmp()\n\u001b[0;32m    342\u001b[0m \u001b[38;5;28;01melse\u001b[39;00m:\n",
      "File \u001b[1;32mc:\\Users\\Yuno\\anaconda3\\Lib\\site-packages\\threadpoolctl.py:373\u001b[0m, in \u001b[0;36m_ThreadpoolInfo._load_modules\u001b[1;34m(self)\u001b[0m\n\u001b[0;32m    371\u001b[0m     \u001b[38;5;28mself\u001b[39m\u001b[38;5;241m.\u001b[39m_find_modules_with_dyld()\n\u001b[0;32m    372\u001b[0m \u001b[38;5;28;01melif\u001b[39;00m sys\u001b[38;5;241m.\u001b[39mplatform \u001b[38;5;241m==\u001b[39m \u001b[38;5;124m\"\u001b[39m\u001b[38;5;124mwin32\u001b[39m\u001b[38;5;124m\"\u001b[39m:\n\u001b[1;32m--> 373\u001b[0m     \u001b[38;5;28;43mself\u001b[39;49m\u001b[38;5;241;43m.\u001b[39;49m\u001b[43m_find_modules_with_enum_process_module_ex\u001b[49m\u001b[43m(\u001b[49m\u001b[43m)\u001b[49m\n\u001b[0;32m    374\u001b[0m \u001b[38;5;28;01melse\u001b[39;00m:\n\u001b[0;32m    375\u001b[0m     \u001b[38;5;28mself\u001b[39m\u001b[38;5;241m.\u001b[39m_find_modules_with_dl_iterate_phdr()\n",
      "File \u001b[1;32mc:\\Users\\Yuno\\anaconda3\\Lib\\site-packages\\threadpoolctl.py:485\u001b[0m, in \u001b[0;36m_ThreadpoolInfo._find_modules_with_enum_process_module_ex\u001b[1;34m(self)\u001b[0m\n\u001b[0;32m    482\u001b[0m         filepath \u001b[38;5;241m=\u001b[39m buf\u001b[38;5;241m.\u001b[39mvalue\n\u001b[0;32m    484\u001b[0m         \u001b[38;5;66;03m# Store the module if it is supported and selected\u001b[39;00m\n\u001b[1;32m--> 485\u001b[0m         \u001b[38;5;28;43mself\u001b[39;49m\u001b[38;5;241;43m.\u001b[39;49m\u001b[43m_make_module_from_path\u001b[49m\u001b[43m(\u001b[49m\u001b[43mfilepath\u001b[49m\u001b[43m)\u001b[49m\n\u001b[0;32m    486\u001b[0m \u001b[38;5;28;01mfinally\u001b[39;00m:\n\u001b[0;32m    487\u001b[0m     kernel_32\u001b[38;5;241m.\u001b[39mCloseHandle(h_process)\n",
      "File \u001b[1;32mc:\\Users\\Yuno\\anaconda3\\Lib\\site-packages\\threadpoolctl.py:515\u001b[0m, in \u001b[0;36m_ThreadpoolInfo._make_module_from_path\u001b[1;34m(self, filepath)\u001b[0m\n\u001b[0;32m    513\u001b[0m \u001b[38;5;28;01mif\u001b[39;00m prefix \u001b[38;5;129;01min\u001b[39;00m \u001b[38;5;28mself\u001b[39m\u001b[38;5;241m.\u001b[39mprefixes \u001b[38;5;129;01mor\u001b[39;00m user_api \u001b[38;5;129;01min\u001b[39;00m \u001b[38;5;28mself\u001b[39m\u001b[38;5;241m.\u001b[39muser_api:\n\u001b[0;32m    514\u001b[0m     module_class \u001b[38;5;241m=\u001b[39m \u001b[38;5;28mglobals\u001b[39m()[module_class]\n\u001b[1;32m--> 515\u001b[0m     module \u001b[38;5;241m=\u001b[39m \u001b[43mmodule_class\u001b[49m\u001b[43m(\u001b[49m\u001b[43mfilepath\u001b[49m\u001b[43m,\u001b[49m\u001b[43m \u001b[49m\u001b[43mprefix\u001b[49m\u001b[43m,\u001b[49m\u001b[43m \u001b[49m\u001b[43muser_api\u001b[49m\u001b[43m,\u001b[49m\u001b[43m \u001b[49m\u001b[43minternal_api\u001b[49m\u001b[43m)\u001b[49m\n\u001b[0;32m    516\u001b[0m     \u001b[38;5;28mself\u001b[39m\u001b[38;5;241m.\u001b[39mmodules\u001b[38;5;241m.\u001b[39mappend(module)\n",
      "File \u001b[1;32mc:\\Users\\Yuno\\anaconda3\\Lib\\site-packages\\threadpoolctl.py:606\u001b[0m, in \u001b[0;36m_Module.__init__\u001b[1;34m(self, filepath, prefix, user_api, internal_api)\u001b[0m\n\u001b[0;32m    604\u001b[0m \u001b[38;5;28mself\u001b[39m\u001b[38;5;241m.\u001b[39minternal_api \u001b[38;5;241m=\u001b[39m internal_api\n\u001b[0;32m    605\u001b[0m \u001b[38;5;28mself\u001b[39m\u001b[38;5;241m.\u001b[39m_dynlib \u001b[38;5;241m=\u001b[39m ctypes\u001b[38;5;241m.\u001b[39mCDLL(filepath, mode\u001b[38;5;241m=\u001b[39m_RTLD_NOLOAD)\n\u001b[1;32m--> 606\u001b[0m \u001b[38;5;28mself\u001b[39m\u001b[38;5;241m.\u001b[39mversion \u001b[38;5;241m=\u001b[39m \u001b[38;5;28;43mself\u001b[39;49m\u001b[38;5;241;43m.\u001b[39;49m\u001b[43mget_version\u001b[49m\u001b[43m(\u001b[49m\u001b[43m)\u001b[49m\n\u001b[0;32m    607\u001b[0m \u001b[38;5;28mself\u001b[39m\u001b[38;5;241m.\u001b[39mnum_threads \u001b[38;5;241m=\u001b[39m \u001b[38;5;28mself\u001b[39m\u001b[38;5;241m.\u001b[39mget_num_threads()\n\u001b[0;32m    608\u001b[0m \u001b[38;5;28mself\u001b[39m\u001b[38;5;241m.\u001b[39m_get_extra_info()\n",
      "File \u001b[1;32mc:\\Users\\Yuno\\anaconda3\\Lib\\site-packages\\threadpoolctl.py:646\u001b[0m, in \u001b[0;36m_OpenBLASModule.get_version\u001b[1;34m(self)\u001b[0m\n\u001b[0;32m    643\u001b[0m get_config \u001b[38;5;241m=\u001b[39m \u001b[38;5;28mgetattr\u001b[39m(\u001b[38;5;28mself\u001b[39m\u001b[38;5;241m.\u001b[39m_dynlib, \u001b[38;5;124m\"\u001b[39m\u001b[38;5;124mopenblas_get_config\u001b[39m\u001b[38;5;124m\"\u001b[39m,\n\u001b[0;32m    644\u001b[0m                      \u001b[38;5;28;01mlambda\u001b[39;00m: \u001b[38;5;28;01mNone\u001b[39;00m)\n\u001b[0;32m    645\u001b[0m get_config\u001b[38;5;241m.\u001b[39mrestype \u001b[38;5;241m=\u001b[39m ctypes\u001b[38;5;241m.\u001b[39mc_char_p\n\u001b[1;32m--> 646\u001b[0m config \u001b[38;5;241m=\u001b[39m \u001b[43mget_config\u001b[49m\u001b[43m(\u001b[49m\u001b[43m)\u001b[49m\u001b[38;5;241;43m.\u001b[39;49m\u001b[43msplit\u001b[49m()\n\u001b[0;32m    647\u001b[0m \u001b[38;5;28;01mif\u001b[39;00m config[\u001b[38;5;241m0\u001b[39m] \u001b[38;5;241m==\u001b[39m \u001b[38;5;124mb\u001b[39m\u001b[38;5;124m\"\u001b[39m\u001b[38;5;124mOpenBLAS\u001b[39m\u001b[38;5;124m\"\u001b[39m:\n\u001b[0;32m    648\u001b[0m     \u001b[38;5;28;01mreturn\u001b[39;00m config[\u001b[38;5;241m1\u001b[39m]\u001b[38;5;241m.\u001b[39mdecode(\u001b[38;5;124m\"\u001b[39m\u001b[38;5;124mutf-8\u001b[39m\u001b[38;5;124m\"\u001b[39m)\n",
      "\u001b[1;31mAttributeError\u001b[0m: 'NoneType' object has no attribute 'split'"
     ]
    }
   ],
   "source": [
    "reset_import()\n",
    "\n",
    "from sklearn.neighbors import KNeighborsClassifier\n",
    "\n",
    "import warnings\n",
    "\n",
    "warnings.filterwarnings('ignore')\n",
    "\n",
    "reset_import()\n",
    "\n",
    "pipeline = CustomPipeline(args=[\n",
    "    ('missing', MissingValueHandler(strategy=CustomTransformer(transformers=[\n",
    "        (SimpleImputer(strategy='mean'), numerical_features),\n",
    "        (SimpleImputer(strategy='most_frequent'), categorical_features)\n",
    "    ]))),\n",
    "    # ('duplicate', DuplicateHandler(strategy=DropDuplicateHandlerStrategy())),\n",
    "    ('outliers', OutlierHandler(strategy=CustomTransformer(transformers=[\n",
    "        (BoundOutlierHandlerStrategy(), numerical_features)\n",
    "    ]))),\n",
    "    ('feature selection', FeatureSelectionHandler(strategy=CustomTransformer(transformers=[\n",
    "        (RandomForestFeatureSelectionHandlerStrategy(0.25), numerical_features),\n",
    "    ]))),\n",
    "    ('feature scaling', ScaleHandler(strategy=ZScoreScaleHandlerStrategy()), 'numerical_features'),\n",
    "    ('encoder', PipelineComponent(strategy=None).set_io_strategy(\n",
    "        LabelEncoderIOTransformerStrategy(strategy=CustomTransformer(transformers=[\n",
    "            (SKLearnLabelEncoderProxy(), categorical_features),\n",
    "        ])),\n",
    "    )),\n",
    "    ('classifier', PipelineComponent(strategy=None).set_io_strategy(\n",
    "        ClassifierTransformerStrategy(strategy=Proxy(KNeighborsClassifier(n_neighbors=3))))),\n",
    "], pl_property=PipelineProperty(\n",
    "    {'numerical_features': numerical_features, 'categorical_features': categorical_features}), verbose=True)\n",
    "\n",
    "X_train_transformed, _ = pipeline.fit_transform(X_train, y_train)\n",
    "\n",
    "check_for_completeness(X_train_transformed)\n",
    "\n",
    "_, y_pred = pipeline.transform(X_val)\n",
    "\n",
    "accuracy = accuracy_score(y_val, y_pred)\n",
    "print(\"\\nModel Accuracy:\", accuracy)\n",
    "\n",
    "f1_macro = f1_score(y_val, y_pred, average='macro')\n",
    "print(f\"F1 Score (Macro): {f1_macro}\")"
   ]
  },
  {
   "cell_type": "code",
   "execution_count": 24,
   "metadata": {},
   "outputs": [
    {
     "name": "stdout",
     "output_type": "stream",
     "text": [
      "fit: missing\n",
      "fit: outliers\n",
      "fit: feature selection\n",
      "fit: feature scaling\n",
      "fit: encoder\n",
      "transform: missing\n",
      "transform: outliers\n",
      "transform: feature selection\n",
      "transform: feature scaling\n",
      "transform: encoder\n",
      "(175341, 33)\n"
     ]
    },
    {
     "ename": "TypeError",
     "evalue": "'NoneType' object is not subscriptable",
     "output_type": "error",
     "traceback": [
      "\u001b[1;31m---------------------------------------------------------------------------\u001b[0m",
      "\u001b[1;31mTypeError\u001b[0m                                 Traceback (most recent call last)",
      "Cell \u001b[1;32mIn[24], line 37\u001b[0m\n\u001b[0;32m     34\u001b[0m X_train_transformed, y_train_transformed \u001b[38;5;241m=\u001b[39m pipeline\u001b[38;5;241m.\u001b[39mfit_transform(X, y)\n\u001b[0;32m     35\u001b[0m check_for_completeness(X_train_transformed)\n\u001b[1;32m---> 37\u001b[0m X_train, X_val, y_train, y_val \u001b[38;5;241m=\u001b[39m \u001b[43mtrain_test_split\u001b[49m\u001b[43m(\u001b[49m\u001b[43mX_train_transformed\u001b[49m\u001b[43m,\u001b[49m\u001b[43m \u001b[49m\u001b[43my_train_transformed\u001b[49m\u001b[43m,\u001b[49m\u001b[43m \u001b[49m\u001b[43mtest_size\u001b[49m\u001b[38;5;241;43m=\u001b[39;49m\u001b[38;5;241;43m0.3\u001b[39;49m\u001b[43m,\u001b[49m\u001b[43m \u001b[49m\u001b[43mrandom_state\u001b[49m\u001b[38;5;241;43m=\u001b[39;49m\u001b[38;5;241;43m42\u001b[39;49m\u001b[43m)\u001b[49m\n\u001b[0;32m     39\u001b[0m kn \u001b[38;5;241m=\u001b[39m KNeighborsClassifier(\u001b[38;5;241m3\u001b[39m)\n\u001b[0;32m     41\u001b[0m display(X_train)\n",
      "File \u001b[1;32mc:\\Users\\Yuno\\anaconda3\\Lib\\site-packages\\sklearn\\model_selection\\_split.py:2585\u001b[0m, in \u001b[0;36mtrain_test_split\u001b[1;34m(test_size, train_size, random_state, shuffle, stratify, *arrays)\u001b[0m\n\u001b[0;32m   2581\u001b[0m     cv \u001b[38;5;241m=\u001b[39m CVClass(test_size\u001b[38;5;241m=\u001b[39mn_test, train_size\u001b[38;5;241m=\u001b[39mn_train, random_state\u001b[38;5;241m=\u001b[39mrandom_state)\n\u001b[0;32m   2583\u001b[0m     train, test \u001b[38;5;241m=\u001b[39m \u001b[38;5;28mnext\u001b[39m(cv\u001b[38;5;241m.\u001b[39msplit(X\u001b[38;5;241m=\u001b[39marrays[\u001b[38;5;241m0\u001b[39m], y\u001b[38;5;241m=\u001b[39mstratify))\n\u001b[1;32m-> 2585\u001b[0m \u001b[38;5;28;01mreturn\u001b[39;00m \u001b[38;5;28;43mlist\u001b[39;49m\u001b[43m(\u001b[49m\n\u001b[0;32m   2586\u001b[0m \u001b[43m    \u001b[49m\u001b[43mchain\u001b[49m\u001b[38;5;241;43m.\u001b[39;49m\u001b[43mfrom_iterable\u001b[49m\u001b[43m(\u001b[49m\n\u001b[0;32m   2587\u001b[0m \u001b[43m        \u001b[49m\u001b[43m(\u001b[49m\u001b[43m_safe_indexing\u001b[49m\u001b[43m(\u001b[49m\u001b[43ma\u001b[49m\u001b[43m,\u001b[49m\u001b[43m \u001b[49m\u001b[43mtrain\u001b[49m\u001b[43m)\u001b[49m\u001b[43m,\u001b[49m\u001b[43m \u001b[49m\u001b[43m_safe_indexing\u001b[49m\u001b[43m(\u001b[49m\u001b[43ma\u001b[49m\u001b[43m,\u001b[49m\u001b[43m \u001b[49m\u001b[43mtest\u001b[49m\u001b[43m)\u001b[49m\u001b[43m)\u001b[49m\u001b[43m \u001b[49m\u001b[38;5;28;43;01mfor\u001b[39;49;00m\u001b[43m \u001b[49m\u001b[43ma\u001b[49m\u001b[43m \u001b[49m\u001b[38;5;129;43;01min\u001b[39;49;00m\u001b[43m \u001b[49m\u001b[43marrays\u001b[49m\n\u001b[0;32m   2588\u001b[0m \u001b[43m    \u001b[49m\u001b[43m)\u001b[49m\n\u001b[0;32m   2589\u001b[0m \u001b[43m\u001b[49m\u001b[43m)\u001b[49m\n",
      "File \u001b[1;32mc:\\Users\\Yuno\\anaconda3\\Lib\\site-packages\\sklearn\\model_selection\\_split.py:2587\u001b[0m, in \u001b[0;36m<genexpr>\u001b[1;34m(.0)\u001b[0m\n\u001b[0;32m   2581\u001b[0m     cv \u001b[38;5;241m=\u001b[39m CVClass(test_size\u001b[38;5;241m=\u001b[39mn_test, train_size\u001b[38;5;241m=\u001b[39mn_train, random_state\u001b[38;5;241m=\u001b[39mrandom_state)\n\u001b[0;32m   2583\u001b[0m     train, test \u001b[38;5;241m=\u001b[39m \u001b[38;5;28mnext\u001b[39m(cv\u001b[38;5;241m.\u001b[39msplit(X\u001b[38;5;241m=\u001b[39marrays[\u001b[38;5;241m0\u001b[39m], y\u001b[38;5;241m=\u001b[39mstratify))\n\u001b[0;32m   2585\u001b[0m \u001b[38;5;28;01mreturn\u001b[39;00m \u001b[38;5;28mlist\u001b[39m(\n\u001b[0;32m   2586\u001b[0m     chain\u001b[38;5;241m.\u001b[39mfrom_iterable(\n\u001b[1;32m-> 2587\u001b[0m         (\u001b[43m_safe_indexing\u001b[49m\u001b[43m(\u001b[49m\u001b[43ma\u001b[49m\u001b[43m,\u001b[49m\u001b[43m \u001b[49m\u001b[43mtrain\u001b[49m\u001b[43m)\u001b[49m, _safe_indexing(a, test)) \u001b[38;5;28;01mfor\u001b[39;00m a \u001b[38;5;129;01min\u001b[39;00m arrays\n\u001b[0;32m   2588\u001b[0m     )\n\u001b[0;32m   2589\u001b[0m )\n",
      "File \u001b[1;32mc:\\Users\\Yuno\\anaconda3\\Lib\\site-packages\\sklearn\\utils\\__init__.py:358\u001b[0m, in \u001b[0;36m_safe_indexing\u001b[1;34m(X, indices, axis)\u001b[0m\n\u001b[0;32m    356\u001b[0m     \u001b[38;5;28;01mreturn\u001b[39;00m _array_indexing(X, indices, indices_dtype, axis\u001b[38;5;241m=\u001b[39maxis)\n\u001b[0;32m    357\u001b[0m \u001b[38;5;28;01melse\u001b[39;00m:\n\u001b[1;32m--> 358\u001b[0m     \u001b[38;5;28;01mreturn\u001b[39;00m \u001b[43m_list_indexing\u001b[49m\u001b[43m(\u001b[49m\u001b[43mX\u001b[49m\u001b[43m,\u001b[49m\u001b[43m \u001b[49m\u001b[43mindices\u001b[49m\u001b[43m,\u001b[49m\u001b[43m \u001b[49m\u001b[43mindices_dtype\u001b[49m\u001b[43m)\u001b[49m\n",
      "File \u001b[1;32mc:\\Users\\Yuno\\anaconda3\\Lib\\site-packages\\sklearn\\utils\\__init__.py:212\u001b[0m, in \u001b[0;36m_list_indexing\u001b[1;34m(X, key, key_dtype)\u001b[0m\n\u001b[0;32m    210\u001b[0m     \u001b[38;5;28;01mreturn\u001b[39;00m \u001b[38;5;28mlist\u001b[39m(compress(X, key))\n\u001b[0;32m    211\u001b[0m \u001b[38;5;66;03m# key is a integer array-like of key\u001b[39;00m\n\u001b[1;32m--> 212\u001b[0m \u001b[38;5;28;01mreturn\u001b[39;00m \u001b[43m[\u001b[49m\u001b[43mX\u001b[49m\u001b[43m[\u001b[49m\u001b[43midx\u001b[49m\u001b[43m]\u001b[49m\u001b[43m \u001b[49m\u001b[38;5;28;43;01mfor\u001b[39;49;00m\u001b[43m \u001b[49m\u001b[43midx\u001b[49m\u001b[43m \u001b[49m\u001b[38;5;129;43;01min\u001b[39;49;00m\u001b[43m \u001b[49m\u001b[43mkey\u001b[49m\u001b[43m]\u001b[49m\n",
      "File \u001b[1;32mc:\\Users\\Yuno\\anaconda3\\Lib\\site-packages\\sklearn\\utils\\__init__.py:212\u001b[0m, in \u001b[0;36m<listcomp>\u001b[1;34m(.0)\u001b[0m\n\u001b[0;32m    210\u001b[0m     \u001b[38;5;28;01mreturn\u001b[39;00m \u001b[38;5;28mlist\u001b[39m(compress(X, key))\n\u001b[0;32m    211\u001b[0m \u001b[38;5;66;03m# key is a integer array-like of key\u001b[39;00m\n\u001b[1;32m--> 212\u001b[0m \u001b[38;5;28;01mreturn\u001b[39;00m [\u001b[43mX\u001b[49m\u001b[43m[\u001b[49m\u001b[43midx\u001b[49m\u001b[43m]\u001b[49m \u001b[38;5;28;01mfor\u001b[39;00m idx \u001b[38;5;129;01min\u001b[39;00m key]\n",
      "\u001b[1;31mTypeError\u001b[0m: 'NoneType' object is not subscriptable"
     ]
    }
   ],
   "source": [
    "reset_import()\n",
    "\n",
    "from sklearn.neighbors import KNeighborsClassifier\n",
    "\n",
    "import warnings\n",
    "\n",
    "warnings.filterwarnings('ignore')\n",
    "\n",
    "reset_import()\n",
    "\n",
    "pipeline = CustomPipeline(args=[\n",
    "    ('missing', MissingValueHandler(strategy=CustomTransformer(transformers=[\n",
    "        (SimpleImputer(strategy='mean'), numerical_features),\n",
    "        (SimpleImputer(strategy='most_frequent'), categorical_features)\n",
    "    ]))),\n",
    "    # ('duplicate', DuplicateHandler(strategy=DropDuplicateHandlerStrategy())),\n",
    "    ('outliers', OutlierHandler(strategy=CustomTransformer(transformers=[\n",
    "        (BoundOutlierHandlerStrategy(), numerical_features)\n",
    "    ]))),\n",
    "    ('feature selection', FeatureSelectionHandler(strategy=CustomTransformer(transformers=[\n",
    "        (RandomForestFeatureSelectionHandlerStrategy(0.25), numerical_features),\n",
    "    ]))),\n",
    "    ('feature scaling', ScaleHandler(strategy=ZScoreScaleHandlerStrategy()), 'numerical_features'),\n",
    "    ('encoder', PipelineComponent(strategy=None).set_io_strategy(\n",
    "        LabelEncoderIOTransformerStrategy(strategy=CustomTransformer(transformers=[\n",
    "            (SKLearnLabelEncoderProxy(), categorical_features),\n",
    "        ])),\n",
    "    )),\n",
    "    # ('classifier', PipelineComponent(strategy=None).set_io_strategy(\n",
    "    #     ClassifierTransformerStrategy(strategy=Proxy(KNeighborsClassifier(n_neighbors=3))))),\n",
    "], pl_property=PipelineProperty(\n",
    "    {'numerical_features': numerical_features, 'categorical_features': categorical_features}), verbose=True)\n",
    "\n",
    "X_train_transformed, y_train_transformed = pipeline.fit_transform(X, y)\n",
    "check_for_completeness(X_train_transformed)\n",
    "\n",
    "X_train, X_val, y_train, y_val = train_test_split(X_train_transformed, y_train_transformed, test_size=0.3, random_state=42)\n",
    "\n",
    "display(X_train)\n",
    "\n",
    "kn = KNeighborsClassifier(3)\n",
    "\n",
    "kn.fit(X_train, y_train)\n",
    "    \n",
    "y_pred = kn.predict(X_val)\n",
    "\n",
    "accuracy = accuracy_score(y_val, y_pred)\n",
    "print(\"\\nModel Accuracy:\", accuracy)\n",
    "\n",
    "f1_macro = f1_score(y_val, y_pred, average='macro')\n",
    "print(f\"F1 Score (Macro): {f1_macro}\")"
   ]
  },
  {
   "cell_type": "code",
   "execution_count": null,
   "metadata": {},
   "outputs": [
    {
     "name": "stdout",
     "output_type": "stream",
     "text": [
      "fit: missing\n",
      "fit: duplicate\n",
      "fit: outliers\n",
      "fit: feature selection\n",
      "fit: feature scaling\n",
      "fit: encoder\n",
      "fit: classifier\n"
     ]
    },
    {
     "ename": "TypeError",
     "evalue": "Argument `a` is not recognized as numeric. Support for input that cannot be coerced to a numeric array was deprecated in SciPy 1.9.0 and removed in SciPy 1.11.0. Please consider `np.unique`.",
     "output_type": "error",
     "traceback": [
      "\u001b[1;31m---------------------------------------------------------------------------\u001b[0m",
      "\u001b[1;31mTypeError\u001b[0m                                 Traceback (most recent call last)",
      "\u001b[1;32m~\\AppData\\Local\\Temp\\ipykernel_25360\\3069821982.py\u001b[0m in \u001b[0;36m?\u001b[1;34m()\u001b[0m\n\u001b[0;32m     37\u001b[0m     {'numerical_features': numerical_features, 'categorical_features': categorical_features}), verbose=True,\n\u001b[0;32m     38\u001b[0m     only_once=['duplicate'])\n\u001b[0;32m     39\u001b[0m \u001b[1;33m\u001b[0m\u001b[0m\n\u001b[0;32m     40\u001b[0m \u001b[1;31m#fit transform\u001b[0m\u001b[1;33m\u001b[0m\u001b[1;33m\u001b[0m\u001b[0m\n\u001b[1;32m---> 41\u001b[1;33m \u001b[0mX_train_transformed\u001b[0m\u001b[1;33m,\u001b[0m \u001b[0m_\u001b[0m \u001b[1;33m=\u001b[0m \u001b[0mpipeline\u001b[0m\u001b[1;33m.\u001b[0m\u001b[0mfit_transform\u001b[0m\u001b[1;33m(\u001b[0m\u001b[0mX_train\u001b[0m\u001b[1;33m,\u001b[0m \u001b[0my_train\u001b[0m\u001b[1;33m)\u001b[0m\u001b[1;33m\u001b[0m\u001b[1;33m\u001b[0m\u001b[0m\n\u001b[0m\u001b[0;32m     42\u001b[0m \u001b[0mcheck_for_completeness\u001b[0m\u001b[1;33m(\u001b[0m\u001b[0mX_train_transformed\u001b[0m\u001b[1;33m)\u001b[0m\u001b[1;33m\u001b[0m\u001b[1;33m\u001b[0m\u001b[0m\n\u001b[0;32m     43\u001b[0m \u001b[1;33m\u001b[0m\u001b[0m\n\u001b[0;32m     44\u001b[0m \u001b[1;31m#training\u001b[0m\u001b[1;33m\u001b[0m\u001b[1;33m\u001b[0m\u001b[0m\n",
      "\u001b[1;32md:\\Tubes2_IF3170_MachineLearning\\src\\compose\\CustomPipeline.py\u001b[0m in \u001b[0;36m?\u001b[1;34m(self, X, y)\u001b[0m\n\u001b[0;32m     75\u001b[0m     \u001b[1;32mdef\u001b[0m \u001b[0mfit_transform\u001b[0m\u001b[1;33m(\u001b[0m\u001b[0mself\u001b[0m\u001b[1;33m,\u001b[0m \u001b[0mX\u001b[0m\u001b[1;33m,\u001b[0m \u001b[0my\u001b[0m\u001b[1;33m=\u001b[0m\u001b[1;32mNone\u001b[0m\u001b[1;33m)\u001b[0m\u001b[1;33m:\u001b[0m\u001b[1;33m\u001b[0m\u001b[1;33m\u001b[0m\u001b[0m\n\u001b[1;32m---> 76\u001b[1;33m         \u001b[0mself\u001b[0m\u001b[1;33m.\u001b[0m\u001b[0mfit\u001b[0m\u001b[1;33m(\u001b[0m\u001b[0mX\u001b[0m\u001b[1;33m,\u001b[0m \u001b[0my\u001b[0m\u001b[1;33m)\u001b[0m\u001b[1;33m\u001b[0m\u001b[1;33m\u001b[0m\u001b[0m\n\u001b[0m\u001b[0;32m     77\u001b[0m \u001b[1;33m\u001b[0m\u001b[0m\n\u001b[0;32m     78\u001b[0m         \u001b[0mX_transformed\u001b[0m \u001b[1;33m=\u001b[0m \u001b[0mX\u001b[0m\u001b[1;33m.\u001b[0m\u001b[0mcopy\u001b[0m\u001b[1;33m(\u001b[0m\u001b[1;33m)\u001b[0m\u001b[1;33m\u001b[0m\u001b[1;33m\u001b[0m\u001b[0m\n\u001b[0;32m     79\u001b[0m         \u001b[0mX_transformed\u001b[0m \u001b[1;33m=\u001b[0m \u001b[0mself\u001b[0m\u001b[1;33m.\u001b[0m\u001b[0mtransform\u001b[0m\u001b[1;33m(\u001b[0m\u001b[0mX_transformed\u001b[0m\u001b[1;33m)\u001b[0m\u001b[1;33m\u001b[0m\u001b[1;33m\u001b[0m\u001b[0m\n",
      "\u001b[1;32md:\\Tubes2_IF3170_MachineLearning\\src\\compose\\CustomPipeline.py\u001b[0m in \u001b[0;36m?\u001b[1;34m(self, X, y)\u001b[0m\n\u001b[0;32m     42\u001b[0m                     CustomTransformer(transformers=[(component.strategy, self._pl_property.features[key])]))\n\u001b[0;32m     43\u001b[0m \u001b[1;33m\u001b[0m\u001b[0m\n\u001b[0;32m     44\u001b[0m                 \u001b[0mcomponent\u001b[0m \u001b[1;33m=\u001b[0m \u001b[0mself\u001b[0m\u001b[1;33m.\u001b[0m\u001b[0m_args\u001b[0m\u001b[1;33m[\u001b[0m\u001b[0midx\u001b[0m\u001b[1;33m]\u001b[0m\u001b[1;33m[\u001b[0m\u001b[1;36m1\u001b[0m\u001b[1;33m]\u001b[0m\u001b[1;33m\u001b[0m\u001b[1;33m\u001b[0m\u001b[0m\n\u001b[0;32m     45\u001b[0m \u001b[1;33m\u001b[0m\u001b[0m\n\u001b[1;32m---> 46\u001b[1;33m             \u001b[0mcomponent\u001b[0m\u001b[1;33m.\u001b[0m\u001b[0mfit_transform\u001b[0m\u001b[1;33m(\u001b[0m\u001b[0mself\u001b[0m\u001b[1;33m.\u001b[0m\u001b[0m_pl_property\u001b[0m\u001b[1;33m)\u001b[0m\u001b[1;33m\u001b[0m\u001b[1;33m\u001b[0m\u001b[0m\n\u001b[0m\u001b[0;32m     47\u001b[0m \u001b[1;33m\u001b[0m\u001b[0m\n\u001b[0;32m     48\u001b[0m             \u001b[0mcomponent\u001b[0m\u001b[1;33m.\u001b[0m\u001b[0mpost_handler\u001b[0m\u001b[1;33m(\u001b[0m\u001b[0mself\u001b[0m\u001b[1;33m.\u001b[0m\u001b[0m_pl_property\u001b[0m\u001b[1;33m)\u001b[0m\u001b[1;33m\u001b[0m\u001b[1;33m\u001b[0m\u001b[0m\n\u001b[0;32m     49\u001b[0m \u001b[1;33m\u001b[0m\u001b[0m\n",
      "\u001b[1;32md:\\Tubes2_IF3170_MachineLearning\\src\\compose\\PipelineComponent.py\u001b[0m in \u001b[0;36m?\u001b[1;34m(self, pl_property)\u001b[0m\n\u001b[0;32m     54\u001b[0m     \u001b[1;32mdef\u001b[0m \u001b[0mfit_transform\u001b[0m\u001b[1;33m(\u001b[0m\u001b[0mself\u001b[0m\u001b[1;33m,\u001b[0m \u001b[0mpl_property\u001b[0m\u001b[1;33m:\u001b[0m \u001b[0mPipelineProperty\u001b[0m\u001b[1;33m)\u001b[0m\u001b[1;33m:\u001b[0m\u001b[1;33m\u001b[0m\u001b[1;33m\u001b[0m\u001b[0m\n\u001b[0;32m     55\u001b[0m         \u001b[0mself\u001b[0m\u001b[1;33m.\u001b[0m\u001b[0m_io_strategy\u001b[0m\u001b[1;33m.\u001b[0m\u001b[0mfit\u001b[0m\u001b[1;33m(\u001b[0m\u001b[0mpl_property\u001b[0m\u001b[1;33m)\u001b[0m\u001b[1;33m\u001b[0m\u001b[1;33m\u001b[0m\u001b[0m\n\u001b[0;32m     56\u001b[0m \u001b[1;33m\u001b[0m\u001b[0m\n\u001b[1;32m---> 57\u001b[1;33m         \u001b[1;32mreturn\u001b[0m \u001b[0mself\u001b[0m\u001b[1;33m.\u001b[0m\u001b[0m_io_strategy\u001b[0m\u001b[1;33m.\u001b[0m\u001b[0mtransform\u001b[0m\u001b[1;33m(\u001b[0m\u001b[0mpl_property\u001b[0m\u001b[1;33m)\u001b[0m\u001b[1;33m\u001b[0m\u001b[1;33m\u001b[0m\u001b[0m\n\u001b[0m",
      "\u001b[1;32md:\\Tubes2_IF3170_MachineLearning\\src\\compose\\io\\strategy\\ClassifierTransformerStrategy.py\u001b[0m in \u001b[0;36m?\u001b[1;34m(self, pl_property)\u001b[0m\n\u001b[0;32m     13\u001b[0m     \u001b[1;32mdef\u001b[0m \u001b[0mtransform\u001b[0m\u001b[1;33m(\u001b[0m\u001b[0mself\u001b[0m\u001b[1;33m,\u001b[0m \u001b[0mpl_property\u001b[0m\u001b[1;33m:\u001b[0m \u001b[0mPipelineProperty\u001b[0m\u001b[1;33m)\u001b[0m\u001b[1;33m:\u001b[0m\u001b[1;33m\u001b[0m\u001b[1;33m\u001b[0m\u001b[0m\n\u001b[1;32m---> 14\u001b[1;33m         \u001b[0mpl_property\u001b[0m\u001b[1;33m.\u001b[0m\u001b[0my_transformed\u001b[0m \u001b[1;33m=\u001b[0m \u001b[0mself\u001b[0m\u001b[1;33m.\u001b[0m\u001b[0m_strategy\u001b[0m\u001b[1;33m.\u001b[0m\u001b[0mtransform\u001b[0m\u001b[1;33m(\u001b[0m\u001b[0mpl_property\u001b[0m\u001b[1;33m.\u001b[0m\u001b[0mX_transformed\u001b[0m\u001b[1;33m)\u001b[0m\u001b[1;33m\u001b[0m\u001b[1;33m\u001b[0m\u001b[0m\n\u001b[0m",
      "\u001b[1;32mc:\\Users\\Yuno\\anaconda3\\Lib\\site-packages\\sklearn\\utils\\_set_output.py\u001b[0m in \u001b[0;36m?\u001b[1;34m(self, X, *args, **kwargs)\u001b[0m\n\u001b[0;32m    138\u001b[0m     \u001b[1;33m@\u001b[0m\u001b[0mwraps\u001b[0m\u001b[1;33m(\u001b[0m\u001b[0mf\u001b[0m\u001b[1;33m)\u001b[0m\u001b[1;33m\u001b[0m\u001b[1;33m\u001b[0m\u001b[0m\n\u001b[0;32m    139\u001b[0m     \u001b[1;32mdef\u001b[0m \u001b[0mwrapped\u001b[0m\u001b[1;33m(\u001b[0m\u001b[0mself\u001b[0m\u001b[1;33m,\u001b[0m \u001b[0mX\u001b[0m\u001b[1;33m,\u001b[0m \u001b[1;33m*\u001b[0m\u001b[0margs\u001b[0m\u001b[1;33m,\u001b[0m \u001b[1;33m**\u001b[0m\u001b[0mkwargs\u001b[0m\u001b[1;33m)\u001b[0m\u001b[1;33m:\u001b[0m\u001b[1;33m\u001b[0m\u001b[1;33m\u001b[0m\u001b[0m\n\u001b[1;32m--> 140\u001b[1;33m         \u001b[0mdata_to_wrap\u001b[0m \u001b[1;33m=\u001b[0m \u001b[0mf\u001b[0m\u001b[1;33m(\u001b[0m\u001b[0mself\u001b[0m\u001b[1;33m,\u001b[0m \u001b[0mX\u001b[0m\u001b[1;33m,\u001b[0m \u001b[1;33m*\u001b[0m\u001b[0margs\u001b[0m\u001b[1;33m,\u001b[0m \u001b[1;33m**\u001b[0m\u001b[0mkwargs\u001b[0m\u001b[1;33m)\u001b[0m\u001b[1;33m\u001b[0m\u001b[1;33m\u001b[0m\u001b[0m\n\u001b[0m\u001b[0;32m    141\u001b[0m         \u001b[1;32mif\u001b[0m \u001b[0misinstance\u001b[0m\u001b[1;33m(\u001b[0m\u001b[0mdata_to_wrap\u001b[0m\u001b[1;33m,\u001b[0m \u001b[0mtuple\u001b[0m\u001b[1;33m)\u001b[0m\u001b[1;33m:\u001b[0m\u001b[1;33m\u001b[0m\u001b[1;33m\u001b[0m\u001b[0m\n\u001b[0;32m    142\u001b[0m             \u001b[1;31m# only wrap the first output for cross decomposition\u001b[0m\u001b[1;33m\u001b[0m\u001b[1;33m\u001b[0m\u001b[0m\n\u001b[0;32m    143\u001b[0m             return (\n",
      "\u001b[1;32m~\\AppData\\Local\\Temp\\ipykernel_25360\\2863909713.py\u001b[0m in \u001b[0;36m?\u001b[1;34m(self, X)\u001b[0m\n\u001b[0;32m     24\u001b[0m     \u001b[1;32mdef\u001b[0m \u001b[0mtransform\u001b[0m\u001b[1;33m(\u001b[0m\u001b[0mself\u001b[0m\u001b[1;33m,\u001b[0m \u001b[0mX\u001b[0m\u001b[1;33m)\u001b[0m\u001b[1;33m:\u001b[0m\u001b[1;33m\u001b[0m\u001b[1;33m\u001b[0m\u001b[0m\n\u001b[1;32m---> 25\u001b[1;33m         \u001b[1;32mreturn\u001b[0m \u001b[0mself\u001b[0m\u001b[1;33m.\u001b[0m\u001b[0m_model\u001b[0m\u001b[1;33m.\u001b[0m\u001b[0mpredict\u001b[0m\u001b[1;33m(\u001b[0m\u001b[0mX\u001b[0m\u001b[1;33m)\u001b[0m\u001b[1;33m\u001b[0m\u001b[1;33m\u001b[0m\u001b[0m\n\u001b[0m",
      "\u001b[1;32md:\\Tubes2_IF3170_MachineLearning\\src\\algorithm\\neighbors\\KNearestNeighborsClassifier.py\u001b[0m in \u001b[0;36m?\u001b[1;34m(self, X_test)\u001b[0m\n\u001b[0;32m     73\u001b[0m \u001b[1;33m\u001b[0m\u001b[0m\n\u001b[0;32m     74\u001b[0m         \u001b[1;32mfor\u001b[0m \u001b[0mi\u001b[0m \u001b[1;32min\u001b[0m \u001b[0mrange\u001b[0m\u001b[1;33m(\u001b[0m\u001b[0mself\u001b[0m\u001b[1;33m.\u001b[0m\u001b[0m_n_instances_test\u001b[0m\u001b[1;33m)\u001b[0m\u001b[1;33m:\u001b[0m\u001b[1;33m\u001b[0m\u001b[1;33m\u001b[0m\u001b[0m\n\u001b[0;32m     75\u001b[0m             \u001b[0mk_neighbors\u001b[0m\u001b[1;33m,\u001b[0m \u001b[0mdistances\u001b[0m \u001b[1;33m=\u001b[0m \u001b[0mself\u001b[0m\u001b[1;33m.\u001b[0m\u001b[0m_find_k_neighbors\u001b[0m\u001b[1;33m(\u001b[0m\u001b[0mself\u001b[0m\u001b[1;33m.\u001b[0m\u001b[0m_X_test\u001b[0m\u001b[1;33m[\u001b[0m\u001b[0mi\u001b[0m\u001b[1;33m]\u001b[0m\u001b[1;33m)\u001b[0m\u001b[1;33m\u001b[0m\u001b[1;33m\u001b[0m\u001b[0m\n\u001b[0;32m     76\u001b[0m \u001b[1;33m\u001b[0m\u001b[0m\n\u001b[1;32m---> 77\u001b[1;33m             \u001b[0mself\u001b[0m\u001b[1;33m.\u001b[0m\u001b[0m_k_neighbors_distances\u001b[0m\u001b[1;33m[\u001b[0m\u001b[0mi\u001b[0m\u001b[1;33m]\u001b[0m\u001b[1;33m,\u001b[0m \u001b[0mY_predicted\u001b[0m\u001b[1;33m[\u001b[0m\u001b[0mi\u001b[0m\u001b[1;33m]\u001b[0m \u001b[1;33m=\u001b[0m \u001b[0mdistances\u001b[0m\u001b[1;33m,\u001b[0m \u001b[0mmode\u001b[0m\u001b[1;33m(\u001b[0m\u001b[0mk_neighbors\u001b[0m\u001b[1;33m)\u001b[0m\u001b[1;33m.\u001b[0m\u001b[0mmode\u001b[0m\u001b[1;33m\u001b[0m\u001b[1;33m\u001b[0m\u001b[0m\n\u001b[0m\u001b[0;32m     78\u001b[0m \u001b[1;33m\u001b[0m\u001b[0m\n\u001b[0;32m     79\u001b[0m         \u001b[1;32mreturn\u001b[0m \u001b[0mY_predicted\u001b[0m\u001b[1;33m\u001b[0m\u001b[1;33m\u001b[0m\u001b[0m\n",
      "\u001b[1;32mc:\\Users\\Yuno\\anaconda3\\Lib\\site-packages\\scipy\\stats\\_axis_nan_policy.py\u001b[0m in \u001b[0;36m?\u001b[1;34m(***failed resolving arguments***)\u001b[0m\n\u001b[0;32m    587\u001b[0m                         \u001b[1;32mreturn\u001b[0m \u001b[0mnp\u001b[0m\u001b[1;33m.\u001b[0m\u001b[0mfull\u001b[0m\u001b[1;33m(\u001b[0m\u001b[0mn_out\u001b[0m\u001b[1;33m,\u001b[0m \u001b[0mnp\u001b[0m\u001b[1;33m.\u001b[0m\u001b[0mnan\u001b[0m\u001b[1;33m)\u001b[0m\u001b[1;33m\u001b[0m\u001b[1;33m\u001b[0m\u001b[0m\n\u001b[0;32m    588\u001b[0m                     \u001b[1;32mreturn\u001b[0m \u001b[0mresult_to_tuple\u001b[0m\u001b[1;33m(\u001b[0m\u001b[0mhypotest_fun_out\u001b[0m\u001b[1;33m(\u001b[0m\u001b[1;33m*\u001b[0m\u001b[0msamples\u001b[0m\u001b[1;33m,\u001b[0m \u001b[1;33m**\u001b[0m\u001b[0mkwds\u001b[0m\u001b[1;33m)\u001b[0m\u001b[1;33m)\u001b[0m\u001b[1;33m\u001b[0m\u001b[1;33m\u001b[0m\u001b[0m\n\u001b[0;32m    589\u001b[0m \u001b[1;33m\u001b[0m\u001b[0m\n\u001b[0;32m    590\u001b[0m             \u001b[0mx\u001b[0m \u001b[1;33m=\u001b[0m \u001b[0mnp\u001b[0m\u001b[1;33m.\u001b[0m\u001b[0mmoveaxis\u001b[0m\u001b[1;33m(\u001b[0m\u001b[0mx\u001b[0m\u001b[1;33m,\u001b[0m \u001b[0maxis\u001b[0m\u001b[1;33m,\u001b[0m \u001b[1;36m0\u001b[0m\u001b[1;33m)\u001b[0m\u001b[1;33m\u001b[0m\u001b[1;33m\u001b[0m\u001b[0m\n\u001b[1;32m--> 591\u001b[1;33m             \u001b[0mres\u001b[0m \u001b[1;33m=\u001b[0m \u001b[0mnp\u001b[0m\u001b[1;33m.\u001b[0m\u001b[0mapply_along_axis\u001b[0m\u001b[1;33m(\u001b[0m\u001b[0mhypotest_fun\u001b[0m\u001b[1;33m,\u001b[0m \u001b[0maxis\u001b[0m\u001b[1;33m=\u001b[0m\u001b[1;36m0\u001b[0m\u001b[1;33m,\u001b[0m \u001b[0marr\u001b[0m\u001b[1;33m=\u001b[0m\u001b[0mx\u001b[0m\u001b[1;33m)\u001b[0m\u001b[1;33m\u001b[0m\u001b[1;33m\u001b[0m\u001b[0m\n\u001b[0m\u001b[0;32m    592\u001b[0m             \u001b[0mres\u001b[0m \u001b[1;33m=\u001b[0m \u001b[0m_add_reduced_axes\u001b[0m\u001b[1;33m(\u001b[0m\u001b[0mres\u001b[0m\u001b[1;33m,\u001b[0m \u001b[0mreduced_axes\u001b[0m\u001b[1;33m,\u001b[0m \u001b[0mkeepdims\u001b[0m\u001b[1;33m)\u001b[0m\u001b[1;33m\u001b[0m\u001b[1;33m\u001b[0m\u001b[0m\n\u001b[0;32m    593\u001b[0m             \u001b[1;32mreturn\u001b[0m \u001b[0mtuple_to_result\u001b[0m\u001b[1;33m(\u001b[0m\u001b[1;33m*\u001b[0m\u001b[0mres\u001b[0m\u001b[1;33m)\u001b[0m\u001b[1;33m\u001b[0m\u001b[1;33m\u001b[0m\u001b[0m\n",
      "\u001b[1;32mc:\\Users\\Yuno\\anaconda3\\Lib\\site-packages\\numpy\\lib\\shape_base.py\u001b[0m in \u001b[0;36m?\u001b[1;34m(func1d, axis, arr, *args, **kwargs)\u001b[0m\n\u001b[0;32m    375\u001b[0m     \u001b[1;32mexcept\u001b[0m \u001b[0mStopIteration\u001b[0m\u001b[1;33m:\u001b[0m\u001b[1;33m\u001b[0m\u001b[1;33m\u001b[0m\u001b[0m\n\u001b[0;32m    376\u001b[0m         raise ValueError(\n\u001b[0;32m    377\u001b[0m             \u001b[1;34m'Cannot apply_along_axis when any iteration dimensions are 0'\u001b[0m\u001b[1;33m\u001b[0m\u001b[1;33m\u001b[0m\u001b[0m\n\u001b[0;32m    378\u001b[0m         ) from None\n\u001b[1;32m--> 379\u001b[1;33m     \u001b[0mres\u001b[0m \u001b[1;33m=\u001b[0m \u001b[0masanyarray\u001b[0m\u001b[1;33m(\u001b[0m\u001b[0mfunc1d\u001b[0m\u001b[1;33m(\u001b[0m\u001b[0minarr_view\u001b[0m\u001b[1;33m[\u001b[0m\u001b[0mind0\u001b[0m\u001b[1;33m]\u001b[0m\u001b[1;33m,\u001b[0m \u001b[1;33m*\u001b[0m\u001b[0margs\u001b[0m\u001b[1;33m,\u001b[0m \u001b[1;33m**\u001b[0m\u001b[0mkwargs\u001b[0m\u001b[1;33m)\u001b[0m\u001b[1;33m)\u001b[0m\u001b[1;33m\u001b[0m\u001b[1;33m\u001b[0m\u001b[0m\n\u001b[0m\u001b[0;32m    380\u001b[0m \u001b[1;33m\u001b[0m\u001b[0m\n\u001b[0;32m    381\u001b[0m     \u001b[1;31m# build a buffer for storing evaluations of func1d.\u001b[0m\u001b[1;33m\u001b[0m\u001b[1;33m\u001b[0m\u001b[0m\n\u001b[0;32m    382\u001b[0m     \u001b[1;31m# remove the requested axis, and add the new ones on the end.\u001b[0m\u001b[1;33m\u001b[0m\u001b[1;33m\u001b[0m\u001b[0m\n",
      "\u001b[1;32mc:\\Users\\Yuno\\anaconda3\\Lib\\site-packages\\scipy\\stats\\_axis_nan_policy.py\u001b[0m in \u001b[0;36m?\u001b[1;34m(x)\u001b[0m\n\u001b[0;32m    584\u001b[0m                     \u001b[1;32mif\u001b[0m \u001b[0msentinel\u001b[0m\u001b[1;33m:\u001b[0m\u001b[1;33m\u001b[0m\u001b[1;33m\u001b[0m\u001b[0m\n\u001b[0;32m    585\u001b[0m                         \u001b[0msamples\u001b[0m \u001b[1;33m=\u001b[0m \u001b[0m_remove_sentinel\u001b[0m\u001b[1;33m(\u001b[0m\u001b[0msamples\u001b[0m\u001b[1;33m,\u001b[0m \u001b[0mpaired\u001b[0m\u001b[1;33m,\u001b[0m \u001b[0msentinel\u001b[0m\u001b[1;33m)\u001b[0m\u001b[1;33m\u001b[0m\u001b[1;33m\u001b[0m\u001b[0m\n\u001b[0;32m    586\u001b[0m                     \u001b[1;32mif\u001b[0m \u001b[0mis_too_small\u001b[0m\u001b[1;33m(\u001b[0m\u001b[0msamples\u001b[0m\u001b[1;33m)\u001b[0m\u001b[1;33m:\u001b[0m\u001b[1;33m\u001b[0m\u001b[1;33m\u001b[0m\u001b[0m\n\u001b[0;32m    587\u001b[0m                         \u001b[1;32mreturn\u001b[0m \u001b[0mnp\u001b[0m\u001b[1;33m.\u001b[0m\u001b[0mfull\u001b[0m\u001b[1;33m(\u001b[0m\u001b[0mn_out\u001b[0m\u001b[1;33m,\u001b[0m \u001b[0mnp\u001b[0m\u001b[1;33m.\u001b[0m\u001b[0mnan\u001b[0m\u001b[1;33m)\u001b[0m\u001b[1;33m\u001b[0m\u001b[1;33m\u001b[0m\u001b[0m\n\u001b[1;32m--> 588\u001b[1;33m                     \u001b[1;32mreturn\u001b[0m \u001b[0mresult_to_tuple\u001b[0m\u001b[1;33m(\u001b[0m\u001b[0mhypotest_fun_out\u001b[0m\u001b[1;33m(\u001b[0m\u001b[1;33m*\u001b[0m\u001b[0msamples\u001b[0m\u001b[1;33m,\u001b[0m \u001b[1;33m**\u001b[0m\u001b[0mkwds\u001b[0m\u001b[1;33m)\u001b[0m\u001b[1;33m)\u001b[0m\u001b[1;33m\u001b[0m\u001b[1;33m\u001b[0m\u001b[0m\n\u001b[0m",
      "\u001b[1;32mc:\\Users\\Yuno\\anaconda3\\Lib\\site-packages\\scipy\\stats\\_stats_py.py\u001b[0m in \u001b[0;36m?\u001b[1;34m(a, axis, nan_policy, keepdims)\u001b[0m\n\u001b[0;32m    507\u001b[0m         message = (\"Argument `a` is not recognized as numeric. \"\n\u001b[0;32m    508\u001b[0m                    \u001b[1;34m\"Support for input that cannot be coerced to a numeric \"\u001b[0m\u001b[1;33m\u001b[0m\u001b[1;33m\u001b[0m\u001b[0m\n\u001b[0;32m    509\u001b[0m                    \u001b[1;34m\"array was deprecated in SciPy 1.9.0 and removed in SciPy \"\u001b[0m\u001b[1;33m\u001b[0m\u001b[1;33m\u001b[0m\u001b[0m\n\u001b[0;32m    510\u001b[0m                    \"1.11.0. Please consider `np.unique`.\")\n\u001b[1;32m--> 511\u001b[1;33m         \u001b[1;32mraise\u001b[0m \u001b[0mTypeError\u001b[0m\u001b[1;33m(\u001b[0m\u001b[0mmessage\u001b[0m\u001b[1;33m)\u001b[0m\u001b[1;33m\u001b[0m\u001b[1;33m\u001b[0m\u001b[0m\n\u001b[0m\u001b[0;32m    512\u001b[0m \u001b[1;33m\u001b[0m\u001b[0m\n\u001b[0;32m    513\u001b[0m     \u001b[1;32mif\u001b[0m \u001b[0ma\u001b[0m\u001b[1;33m.\u001b[0m\u001b[0msize\u001b[0m \u001b[1;33m==\u001b[0m \u001b[1;36m0\u001b[0m\u001b[1;33m:\u001b[0m\u001b[1;33m\u001b[0m\u001b[1;33m\u001b[0m\u001b[0m\n\u001b[0;32m    514\u001b[0m         \u001b[0mNaN\u001b[0m \u001b[1;33m=\u001b[0m \u001b[0m_get_nan\u001b[0m\u001b[1;33m(\u001b[0m\u001b[0ma\u001b[0m\u001b[1;33m)\u001b[0m\u001b[1;33m\u001b[0m\u001b[1;33m\u001b[0m\u001b[0m\n",
      "\u001b[1;31mTypeError\u001b[0m: Argument `a` is not recognized as numeric. Support for input that cannot be coerced to a numeric array was deprecated in SciPy 1.9.0 and removed in SciPy 1.11.0. Please consider `np.unique`."
     ]
    }
   ],
   "source": [
    "reset_import()\n",
    "\n",
    "from sklearn.neighbors import KNeighborsClassifier\n",
    "from src.algorithm.neighbors import KNearestNeighborsClassifier\n",
    "\n",
    "import warnings\n",
    "\n",
    "warnings.filterwarnings('ignore')\n",
    "\n",
    "reset_import()\n",
    "\n",
    "from src.compose import CustomPipeline\n",
    "\n",
    "model = KNearestNeighborsClassifier(n_neighbors=3)\n",
    "\n",
    "pipeline = CustomPipeline(args=[\n",
    "    ('missing', MissingValueHandler(strategy=CustomTransformer(transformers=[\n",
    "        (SimpleImputer(strategy='mean'), numerical_features),\n",
    "        (SimpleImputer(strategy='most_frequent'), categorical_features)\n",
    "    ]))),\n",
    "    ('duplicate', DuplicateHandler(strategy=DropDuplicateHandlerStrategy())),\n",
    "    ('outliers', OutlierHandler(strategy=CustomTransformer(transformers=[\n",
    "        (BoundOutlierHandlerStrategy(), numerical_features)\n",
    "    ]))),\n",
    "    ('feature selection', FeatureSelectionHandler(strategy=CustomTransformer(transformers=[\n",
    "        (RandomForestFeatureSelectionHandlerStrategy(0.25), numerical_features),\n",
    "    ]))),\n",
    "    ('feature scaling', ScaleHandler(strategy=ZScoreScaleHandlerStrategy()), 'numerical_features'),\n",
    "    ('encoder', PipelineComponent(strategy=None).set_io_strategy(\n",
    "        LabelEncoderIOTransformerStrategy(strategy=CustomTransformer(transformers=[\n",
    "            (SKLearnLabelEncoderProxy(), categorical_features),\n",
    "        ])),\n",
    "    )),\n",
    "    ('classifier', PipelineComponent(strategy=None).set_io_strategy(\n",
    "        ClassifierTransformerStrategy(strategy=Proxy(model = model)))),\n",
    "], pl_property=PipelineProperty(\n",
    "    {'numerical_features': numerical_features, 'categorical_features': categorical_features}), verbose=True,\n",
    "    only_once=['duplicate'])\n",
    "\n",
    "#fit transform\n",
    "X_train_transformed, _ = pipeline.fit_transform(X_train, y_train)\n",
    "check_for_completeness(X_train_transformed)\n",
    "\n",
    "#predict\n",
    "_, y_predict_fold = pipeline.transform(X_val)\n",
    "\n",
    "#validations\n",
    "acc= accuracy_score(y_true=y_val, y_pred=y_predict_fold)\n",
    "f1 = f1_score(y_true=y_val, y_pred=y_predict_fold, average='macro')"
   ]
  },
  {
   "cell_type": "markdown",
   "metadata": {},
   "source": [
    "Euclidean"
   ]
  },
  {
   "cell_type": "code",
   "execution_count": null,
   "metadata": {},
   "outputs": [],
   "source": [
    "# Create the directory if it does not exist\n",
    "os.makedirs(directory_sklearn, exist_ok=True)\n",
    "\n",
    "# Save the trained model to a .pkl file\n",
    "with open(os.path.join(directory_sklearn, 'knn.pkl'), 'wb') as file:\n",
    "    pickle.dump(model, file)"
   ]
  },
  {
   "cell_type": "code",
   "execution_count": null,
   "metadata": {},
   "outputs": [],
   "source": [
    "reset_import()\n",
    "\n",
    "from src.algorithm.neighbors import KNearestNeighborsClassifier\n",
    "from src.algorithm.neighbors.strategy import EuclideanDistanceStrategy\n",
    "\n",
    "import warnings\n",
    "\n",
    "warnings.filterwarnings('ignore')\n",
    "\n",
    "reset_import()\n",
    "\n",
    "from src.compose import CustomPipeline\n",
    "\n",
    "model = KNearestNeighborsClassifier(n_neighbors=3, distance_strategy=EuclideanDistanceStrategy())\n",
    "\n",
    "knn_scratch_euclidean = CustomPipeline(args=[\n",
    "    ('missing', MissingValueHandler(strategy=CustomTransformer(transformers=[\n",
    "        (SimpleImputer(strategy='mean'), numerical_features),\n",
    "        (SimpleImputer(strategy='most_frequent'), categorical_features)\n",
    "    ]))),\n",
    "    ('duplicate', DuplicateHandler(strategy=DropDuplicateHandlerStrategy())),\n",
    "    ('outliers', OutlierHandler(strategy=CustomTransformer(transformers=[\n",
    "        (BoundOutlierHandlerStrategy(), numerical_features)\n",
    "    ]))),\n",
    "    ('feature selection', FeatureSelectionHandler(strategy=CustomTransformer(transformers=[\n",
    "        (RandomForestFeatureSelectionHandlerStrategy(0.25), numerical_features),\n",
    "    ]))),\n",
    "    ('feature scaling', ScaleHandler(strategy=ZScoreScaleHandlerStrategy()), 'numerical_features'),\n",
    "    ('encoder', PipelineComponent(strategy=None).set_io_strategy(\n",
    "        LabelEncoderIOTransformerStrategy(strategy=CustomTransformer(transformers=[\n",
    "            (SKLearnLabelEncoderProxy(), categorical_features),\n",
    "        ])),\n",
    "    )),\n",
    "    ('classifier', PipelineComponent(strategy=None).set_io_strategy(\n",
    "        ClassifierTransformerStrategy(strategy=Proxy(model = model)))),\n",
    "], pl_property=PipelineProperty(\n",
    "    {'numerical_features': numerical_features, 'categorical_features': categorical_features}), verbose=True,\n",
    "    only_once=['duplicate'])\n",
    "\n",
    "\n",
    "\n",
    "compare_models([knn_scratch_euclidean])"
   ]
  },
  {
   "cell_type": "code",
   "execution_count": null,
   "metadata": {},
   "outputs": [],
   "source": [
    "# Create the directory if it does not exist\n",
    "os.makedirs(directory_scratch, exist_ok=True)\n",
    "\n",
    "model.save(f\"{directory_scratch}knn_euc.pkl\")"
   ]
  },
  {
   "cell_type": "markdown",
   "metadata": {},
   "source": [
    "Manhattan"
   ]
  },
  {
   "cell_type": "code",
   "execution_count": null,
   "metadata": {},
   "outputs": [],
   "source": [
    "reset_import()\n",
    "\n",
    "from src.algorithm.neighbors import KNearestNeighborsClassifier\n",
    "from src.algorithm.neighbors.strategy import ManhattanDistanceStrategy\n",
    "\n",
    "import warnings\n",
    "\n",
    "warnings.filterwarnings('ignore')\n",
    "\n",
    "reset_import()\n",
    "\n",
    "from src.compose import CustomPipeline\n",
    "\n",
    "model = KNearestNeighborsClassifier(n_neighbors=3, distance_strategy=ManhattanDistanceStrategy())\n",
    "\n",
    "knn_scratch_manhattan = CustomPipeline(args=[\n",
    "    ('missing', MissingValueHandler(strategy=CustomTransformer(transformers=[\n",
    "        (SimpleImputer(strategy='mean'), numerical_features),\n",
    "        (SimpleImputer(strategy='most_frequent'), categorical_features)\n",
    "    ]))),\n",
    "    ('duplicate', DuplicateHandler(strategy=DropDuplicateHandlerStrategy())),\n",
    "    ('outliers', OutlierHandler(strategy=CustomTransformer(transformers=[\n",
    "        (BoundOutlierHandlerStrategy(), numerical_features)\n",
    "    ]))),\n",
    "    ('feature selection', FeatureSelectionHandler(strategy=CustomTransformer(transformers=[\n",
    "        (RandomForestFeatureSelectionHandlerStrategy(0.25), numerical_features),\n",
    "    ]))),\n",
    "    ('feature scaling', ScaleHandler(strategy=ZScoreScaleHandlerStrategy()), 'numerical_features'),\n",
    "    ('encoder', PipelineComponent(strategy=None).set_io_strategy(\n",
    "        LabelEncoderIOTransformerStrategy(strategy=CustomTransformer(transformers=[\n",
    "            (SKLearnLabelEncoderProxy(), categorical_features),\n",
    "        ])),\n",
    "    )),\n",
    "    ('classifier', PipelineComponent(strategy=None).set_io_strategy(\n",
    "        ClassifierTransformerStrategy(strategy=Proxy(model = model)))),\n",
    "], pl_property=PipelineProperty(\n",
    "    {'numerical_features': numerical_features, 'categorical_features': categorical_features}), verbose=True,\n",
    "    only_once=['duplicate'])\n",
    "\n",
    "compare_models([knn_scratch_manhattan])"
   ]
  },
  {
   "cell_type": "code",
   "execution_count": null,
   "metadata": {},
   "outputs": [],
   "source": [
    "# Create the directory if it does not exist\n",
    "os.makedirs(directory_scratch, exist_ok=True)\n",
    "\n",
    "model.save(f\"{directory_scratch}knn_man.pkl\")"
   ]
  },
  {
   "cell_type": "markdown",
   "metadata": {},
   "source": [
    "Minkowski"
   ]
  },
  {
   "cell_type": "code",
   "execution_count": null,
   "metadata": {},
   "outputs": [],
   "source": [
    "reset_import()\n",
    "\n",
    "from src.algorithm.neighbors import KNearestNeighborsClassifier\n",
    "from src.algorithm.neighbors.strategy import MinkowskiDistance\n",
    "\n",
    "import warnings\n",
    "\n",
    "warnings.filterwarnings('ignore')\n",
    "\n",
    "reset_import()\n",
    "\n",
    "from src.compose import CustomPipeline\n",
    "\n",
    "model = KNearestNeighborsClassifier(n_neighbors=3, distance_strategy=MinkowskiDistance())\n",
    "\n",
    "knn_scratch_minkowski = CustomPipeline(args=[\n",
    "    ('missing', MissingValueHandler(strategy=CustomTransformer(transformers=[\n",
    "        (SimpleImputer(strategy='mean'), numerical_features),\n",
    "        (SimpleImputer(strategy='most_frequent'), categorical_features)\n",
    "    ]))),\n",
    "    ('duplicate', DuplicateHandler(strategy=DropDuplicateHandlerStrategy())),\n",
    "    ('outliers', OutlierHandler(strategy=CustomTransformer(transformers=[\n",
    "        (BoundOutlierHandlerStrategy(), numerical_features)\n",
    "    ]))),\n",
    "    ('feature selection', FeatureSelectionHandler(strategy=CustomTransformer(transformers=[\n",
    "        (RandomForestFeatureSelectionHandlerStrategy(0.25), numerical_features),\n",
    "    ]))),\n",
    "    ('feature scaling', ScaleHandler(strategy=ZScoreScaleHandlerStrategy()), 'numerical_features'),\n",
    "    ('encoder', PipelineComponent(strategy=None).set_io_strategy(\n",
    "        LabelEncoderIOTransformerStrategy(strategy=CustomTransformer(transformers=[\n",
    "            (SKLearnLabelEncoderProxy(), categorical_features),\n",
    "        ])),\n",
    "    )),\n",
    "    ('classifier', PipelineComponent(strategy=None).set_io_strategy(\n",
    "        ClassifierTransformerStrategy(strategy=Proxy(model=model)))),\n",
    "], pl_property=PipelineProperty(\n",
    "    {'numerical_features': numerical_features, 'categorical_features': categorical_features}), verbose=True,\n",
    "    only_once=['duplicate'])\n",
    "\n",
    "\n",
    "compare_models([knn_scratch_minkowski])"
   ]
  },
  {
   "cell_type": "code",
   "execution_count": null,
   "metadata": {},
   "outputs": [],
   "source": [
    "# Create the directory if it does not exist\n",
    "os.makedirs(directory_scratch, exist_ok=True)\n",
    "\n",
    "model.save(f\"{directory_scratch}knn_mink.pkl\")"
   ]
  },
  {
   "cell_type": "markdown",
   "metadata": {},
   "source": [
    "## B. Naive Bayes"
   ]
  },
  {
   "cell_type": "markdown",
   "metadata": {},
   "source": [
    "### a. Sklearn"
   ]
  },
  {
   "cell_type": "code",
   "execution_count": 73,
   "metadata": {},
   "outputs": [
    {
     "name": "stdout",
     "output_type": "stream",
     "text": [
      "Sklearn Naive Bayes Model Performance\n",
      "(140272, 33)\n",
      "\n",
      "loop 1: \n",
      "acc: 0.5425019247768684 \n",
      "F1: 0.2762950761066114\n",
      "\n",
      "(140273, 33)\n",
      "\n",
      "loop 2: \n",
      "acc: 0.40971826166305464 \n",
      "F1: 0.10590549106065769\n",
      "\n",
      "(140273, 33)\n",
      "\n",
      "loop 3: \n",
      "acc: 0.5239819778715639 \n",
      "F1: 0.2696976755814054\n",
      "\n",
      "(140273, 33)\n",
      "\n",
      "loop 4: \n",
      "acc: 0.4094331014029885 \n",
      "F1: 0.10583942855067474\n",
      "\n",
      "(140273, 33)\n",
      "\n",
      "loop 5: \n",
      "acc: 0.4178168130489335 \n",
      "F1: 0.10803157614076368\n",
      "\n",
      "List of possible accuracy: [0.5425019247768684, 0.40971826166305464, 0.5239819778715639, 0.4094331014029885, 0.4178168130489335]\n",
      "\n",
      "Maximum Accuracy That can be obtained from this model is: 54.250192477686845 %\n",
      "\n",
      "Minimum Accuracy: 40.94331014029885 %\n",
      "\n",
      "Overall Accuracy: 0.4606904157526818 %\n",
      "\n",
      "Standard Deviation is: 0.059602958684853394\n",
      "\n",
      "List of possible F1 score: [0.2762950761066114, 0.10590549106065769, 0.2696976755814054, 0.10583942855067474, 0.10803157614076368]\n",
      "\n",
      "Maximum F1 Score That can be obtained from this model is: 27.629507610661143 %\n",
      "\n",
      "Minimum F1 Score: 10.583942855067473 %\n",
      "\n",
      "Overall F1 Score: 17.315384948802258 %\n",
      "\n",
      "Standard Deviation is: 0.08155158667782907\n",
      "\n",
      "\n"
     ]
    }
   ],
   "source": [
    "reset_import()\n",
    "\n",
    "from sklearn.naive_bayes import GaussianNB\n",
    "\n",
    "import warnings\n",
    "\n",
    "warnings.filterwarnings('ignore')\n",
    "\n",
    "reset_import()\n",
    "\n",
    "from src.compose import CustomPipeline\n",
    "\n",
    "model = GaussianNB()\n",
    "\n",
    "nb_sklearn = CustomPipeline(args=[\n",
    "    ('missing', MissingValueHandler(strategy=CustomTransformer(transformers=[\n",
    "        (SimpleImputer(strategy='mean'), numerical_features),\n",
    "        (SimpleImputer(strategy='most_frequent'), categorical_features)\n",
    "    ]))),\n",
    "    ('duplicate', DuplicateHandler(strategy=DropDuplicateHandlerStrategy())),\n",
    "    ('outliers', OutlierHandler(strategy=CustomTransformer(transformers=[\n",
    "        (BoundOutlierHandlerStrategy(), numerical_features)\n",
    "    ]))),\n",
    "    ('feature selection', FeatureSelectionHandler(strategy=CustomTransformer(transformers=[\n",
    "        (RandomForestFeatureSelectionHandlerStrategy(0.25), numerical_features),\n",
    "    ]))),\n",
    "    ('feature scaling', ScaleHandler(strategy=ZScoreScaleHandlerStrategy()), 'numerical_features'),\n",
    "    ('encoder', PipelineComponent(strategy=None).set_io_strategy(\n",
    "        LabelEncoderIOTransformerStrategy(strategy=CustomTransformer(transformers=[\n",
    "            (SKLearnLabelEncoderProxy(), categorical_features),\n",
    "        ])),\n",
    "    )),\n",
    "    ('classifier', PipelineComponent(strategy=None).set_io_strategy(\n",
    "        ClassifierTransformerStrategy(strategy=Proxy(model=model)))),\n",
    "], pl_property=PipelineProperty(\n",
    "    {'numerical_features': numerical_features, 'categorical_features': categorical_features}), verbose=False,\n",
    "    only_once=['duplicate'])\n",
    "\n",
    "print(\"Sklearn Naive Bayes Model Performance\")\n",
    "compare_models([nb_sklearn])"
   ]
  },
  {
   "cell_type": "code",
   "execution_count": 74,
   "metadata": {},
   "outputs": [],
   "source": [
    "# Create the directory if it does not exist\n",
    "os.makedirs(directory_sklearn, exist_ok=True)\n",
    "\n",
    "# Save the trained model to a .pkl file\n",
    "with open(os.path.join(directory_sklearn, 'nb.pkl'), 'wb') as file:\n",
    "    pickle.dump(model, file)\n"
   ]
  },
  {
   "cell_type": "markdown",
   "metadata": {},
   "source": [
    "### b. Scratch"
   ]
  },
  {
   "cell_type": "code",
   "execution_count": null,
   "metadata": {},
   "outputs": [],
   "source": [
    "[10 ** -i for i in range(1, 17)]"
   ]
  },
  {
   "cell_type": "code",
   "execution_count": 75,
   "metadata": {},
   "outputs": [
    {
     "name": "stdout",
     "output_type": "stream",
     "text": [
      "Scratch Gaussian Naive Bayes Model Performance\n",
      "(140272, 33)\n",
      "\n",
      "loop 1: \n",
      "acc: 0.3008069805241096 \n",
      "F1: 0.046316297857393746\n",
      "\n",
      "(140273, 33)\n",
      "\n",
      "loop 2: \n",
      "acc: 0.29913311280939886 \n",
      "F1: 0.04729018120498971\n",
      "\n",
      "(140273, 33)\n",
      "\n",
      "loop 3: \n",
      "acc: 0.2991901448614121 \n",
      "F1: 0.054063613862316805\n",
      "\n",
      "(140273, 33)\n",
      "\n",
      "loop 4: \n",
      "acc: 0.2892380517851032 \n",
      "F1: 0.04669873740620006\n",
      "\n",
      "(140273, 33)\n",
      "\n",
      "loop 5: \n",
      "acc: 0.27056005475076994 \n",
      "F1: 0.06640680271957114\n",
      "\n",
      "List of possible accuracy: [0.3008069805241096, 0.29913311280939886, 0.2991901448614121, 0.2892380517851032, 0.27056005475076994]\n",
      "\n",
      "Maximum Accuracy That can be obtained from this model is: 30.08069805241096 %\n",
      "\n",
      "Minimum Accuracy: 27.056005475076994 %\n",
      "\n",
      "Overall Accuracy: 0.2917856689461587 %\n",
      "\n",
      "Standard Deviation is: 0.011377278309510559\n",
      "\n",
      "List of possible F1 score: [0.046316297857393746, 0.04729018120498971, 0.054063613862316805, 0.04669873740620006, 0.06640680271957114]\n",
      "\n",
      "Maximum F1 Score That can be obtained from this model is: 6.640680271957114 %\n",
      "\n",
      "Minimum F1 Score: 4.631629785739374 %\n",
      "\n",
      "Overall F1 Score: 5.215512661009429 %\n",
      "\n",
      "Standard Deviation is: 0.007671823690149733\n",
      "\n",
      "\n"
     ]
    }
   ],
   "source": [
    "reset_import()\n",
    "\n",
    "from src.algorithm import GaussianNaiveBayes\n",
    "\n",
    "import warnings\n",
    "\n",
    "warnings.filterwarnings('ignore')\n",
    "\n",
    "reset_import()\n",
    "\n",
    "from src.compose import CustomPipeline\n",
    "\n",
    "var_smooths = [10 ** -i for i in range(1, 17)]\n",
    "\n",
    "for var_smooth in var_smooths:\n",
    "    model = GaussianNaiveBayes(var_smoothing=var_smooth)\n",
    "\n",
    "    nb_scratch = CustomPipeline(args=[\n",
    "        ('missing', MissingValueHandler(strategy=CustomTransformer(transformers=[\n",
    "            (SimpleImputer(strategy='mean'), numerical_features),\n",
    "            (SimpleImputer(strategy='most_frequent'), categorical_features)\n",
    "        ]))),\n",
    "        ('duplicate', DuplicateHandler(strategy=DropDuplicateHandlerStrategy())),\n",
    "        ('outliers', OutlierHandler(strategy=CustomTransformer(transformers=[\n",
    "            (BoundOutlierHandlerStrategy(), numerical_features)\n",
    "        ]))),\n",
    "        ('feature selection', FeatureSelectionHandler(strategy=CustomTransformer(transformers=[\n",
    "            (RandomForestFeatureSelectionHandlerStrategy(0.25), numerical_features),\n",
    "        ]))),\n",
    "        ('feature scaling', ScaleHandler(strategy=ZScoreScaleHandlerStrategy()), 'numerical_features'),\n",
    "        ('encoder', PipelineComponent(strategy=None).set_io_strategy(\n",
    "            LabelEncoderIOTransformerStrategy(strategy=CustomTransformer(transformers=[\n",
    "                (SKLearnLabelEncoderProxy(), categorical_features),\n",
    "            ])),\n",
    "        )),\n",
    "        ('classifier', PipelineComponent(strategy=None).set_io_strategy(\n",
    "            ClassifierTransformerStrategy(strategy=Proxy(model=model)))),\n",
    "    ], pl_property=PipelineProperty(\n",
    "        {'numerical_features': numerical_features, 'categorical_features': categorical_features}), verbose=False,\n",
    "        only_once=['duplicate'])\n",
    "\n",
    "\n",
    "    print(\"Scratch Gaussian Naive Bayes Model Performance\")\n",
    "    compare_models([nb_scratch])\n",
    "\n",
    "    # final model\n",
    "    compare_models([nb_scratch], fold=False)\n",
    "\n",
    "    # Create the directory if it does not exist\n",
    "    os.makedirs(directory_scratch, exist_ok=True)\n",
    "    nb_scratch.get_component('classifier').io_strategy.strategy.model.save(f\"{directory_scratch}nb_smooth_{var_smooth}.json\")"
   ]
  },
  {
   "cell_type": "code",
   "execution_count": 76,
   "metadata": {},
   "outputs": [],
   "source": [
    "# Create the directory if it does not exist\n",
    "os.makedirs(directory_scratch, exist_ok=True)\n",
    "\n",
    "model.save(f\"{directory_scratch}nb.pkl\")"
   ]
  },
  {
   "cell_type": "markdown",
   "metadata": {},
   "source": [
    "## C. ID3"
   ]
  },
  {
   "cell_type": "markdown",
   "metadata": {},
   "source": [
    "### a. Sklearn"
   ]
  },
  {
   "cell_type": "code",
   "execution_count": 12,
   "metadata": {
    "ExecuteTime": {
     "end_time": "2024-12-05T16:18:38.474699Z",
     "start_time": "2024-12-05T16:17:12.048138Z"
    }
   },
   "outputs": [
    {
     "name": "stdout",
     "output_type": "stream",
     "text": [
      "Sklearn Decision Tree Model Performance\n",
      "(140272, 14)\n",
      "\n",
      "loop 1: \n",
      "F1: 0.5790548665355837\n",
      "\n",
      "(140273, 14)\n",
      "\n",
      "loop 2: \n",
      "F1: 0.5667109670752115\n",
      "\n",
      "(140273, 14)\n",
      "\n",
      "loop 3: \n",
      "F1: 0.5818546073034934\n",
      "\n",
      "(140273, 14)\n",
      "\n",
      "loop 4: \n",
      "F1: 0.5849045754397502\n",
      "\n",
      "(140273, 14)\n",
      "\n",
      "loop 5: \n",
      "F1: 0.5868500485981645\n",
      "\n",
      "\n",
      "List of possible F1 score: [np.float64(0.5790548665355837), np.float64(0.5667109670752115), np.float64(0.5818546073034934), np.float64(0.5849045754397502), np.float64(0.5868500485981645)]\n",
      "\n",
      "Maximum F1 Score That can be obtained from this model is: 58.685004859816445 %\n",
      "\n",
      "Minimum F1 Score: 56.67109670752115 %\n",
      "\n",
      "Overall F1 Score: 57.98750129904408 %\n",
      "\n",
      "Standard Deviation is: 0.7096917061238148 %\n",
      "\n",
      "\n"
     ]
    }
   ],
   "source": [
    "from sklearn.tree import DecisionTreeClassifier\n",
    "from src.algorithm import IterativeDichotomiser3\n",
    "\n",
    "reset_import()\n",
    "\n",
    "import warnings\n",
    "\n",
    "warnings.filterwarnings('ignore')\n",
    "\n",
    "reset_import()\n",
    "\n",
    "from src.compose import CustomPipeline\n",
    "\n",
    "model = DecisionTreeClassifier(criterion='entropy', random_state=42)\n",
    "\n",
    "ID3_sklearn = CustomPipeline(args=[\n",
    "    ('missing', MissingValueHandler(strategy=CustomTransformer(transformers=[\n",
    "        (SimpleImputer(strategy='mean'), numerical_features),\n",
    "        (SimpleImputer(strategy='most_frequent'), categorical_features)\n",
    "    ]))),\n",
    "    ('duplicate', DuplicateHandler(strategy=DropDuplicateHandlerStrategy())),\n",
    "    ('outliers', OutlierHandler(strategy=CustomTransformer(transformers=[\n",
    "        (BoundOutlierHandlerStrategy(), numerical_features)\n",
    "    ]))),\n",
    "    ('feature selection', FeatureSelectionHandler(strategy=CustomTransformer(transformers=[\n",
    "        (RandomForestFeatureSelectionHandlerStrategy(0.25), numerical_features),\n",
    "    ]))),\n",
    "    ('feature scaling', ScaleHandler(strategy=ZScoreScaleHandlerStrategy()), 'numerical_features'),\n",
    "    ('encoder', PipelineComponent(strategy=None).set_io_strategy(\n",
    "        LabelEncoderIOTransformerStrategy(strategy=CustomTransformer(transformers=[\n",
    "            (SKLearnLabelEncoderProxy(), categorical_features),\n",
    "        ])),\n",
    "    )),\n",
    "    ('classifier', PipelineComponent(strategy=None).set_io_strategy(\n",
    "        ClassifierTransformerStrategy(strategy=Proxy(model= model)))),\n",
    "], pl_property=PipelineProperty(\n",
    "    {'numerical_features': numerical_features, 'categorical_features': categorical_features}), verbose=False,\n",
    "    only_once=['duplicate'])\n",
    "\n",
    "\n",
    "print(\"Sklearn Decision Tree Model Performance\")\n",
    "compare_models([ID3_sklearn])"
   ]
  },
  {
   "cell_type": "code",
   "execution_count": null,
   "metadata": {},
   "outputs": [],
   "source": [
    "# Create the directory if it does not exist\n",
    "os.makedirs(directory_sklearn, exist_ok=True)\n",
    "model = ID3_sklearn.get_component('classifier').io_strategy.strategy.model\n",
    "    \n",
    "# Save the trained model to a .pkl file\n",
    "with open(os.path.join(directory_sklearn, 'tree.pkl'), 'wb') as file:\n",
    "    pickle.dump(model, file)"
   ]
  },
  {
   "cell_type": "markdown",
   "metadata": {},
   "source": [
    "### b. Scratch"
   ]
  },
  {
   "cell_type": "code",
   "execution_count": null,
   "metadata": {},
   "outputs": [
    {
     "name": "stdout",
     "output_type": "stream",
     "text": [
      "Scratch Decision Tree Model Performance at depth = 5\n",
      "(140272, 14)\n",
      "\n",
      "loop 1: \n",
      "F1: 0.42878184023335386\n",
      "\n",
      "(140273, 14)\n",
      "\n",
      "loop 2: \n",
      "F1: 0.4327392975187343\n",
      "\n",
      "(140273, 14)\n",
      "\n",
      "loop 3: \n",
      "F1: 0.43528667535803456\n",
      "\n"
     ]
    }
   ],
   "source": [
    "from src.algorithm import IterativeDichotomiser3\n",
    "\n",
    "reset_import()\n",
    "\n",
    "import warnings\n",
    "\n",
    "warnings.filterwarnings('ignore')\n",
    "\n",
    "reset_import()\n",
    "\n",
    "from src.compose import CustomPipeline\n",
    "\n",
    "depths = [5, 10, None]\n",
    "\n",
    "X_ID3 = X.copy()\n",
    "X_ID3[categorical_features] = X_ID3[categorical_features].astype('str')\n",
    "\n",
    "for i, max_depth in enumerate(depths):\n",
    "    model = IterativeDichotomiser3(max_depth=max_depth)\n",
    "\n",
    "    ID3_scratch = CustomPipeline(args=[\n",
    "        ('missing', MissingValueHandler(strategy=CustomTransformer(transformers=[\n",
    "            (SimpleImputer(strategy='mean'), numerical_features),\n",
    "            (SimpleImputer(strategy='most_frequent'), categorical_features)\n",
    "        ]))),\n",
    "        ('duplicate', DuplicateHandler(strategy=DropDuplicateHandlerStrategy())),\n",
    "        ('outliers', OutlierHandler(strategy=CustomTransformer(transformers=[\n",
    "            (BoundOutlierHandlerStrategy(), numerical_features)\n",
    "        ]))),\n",
    "        ('feature selection', FeatureSelectionHandler(strategy=CustomTransformer(transformers=[\n",
    "            (RandomForestFeatureSelectionHandlerStrategy(0.25), numerical_features),\n",
    "        ]))),\n",
    "        ('feature scaling', ScaleHandler(strategy=ZScoreScaleHandlerStrategy()), 'numerical_features'),\n",
    "        ('classifier', PipelineComponent(strategy=None).set_io_strategy(\n",
    "            ClassifierTransformerStrategy(strategy=Proxy(model= model)))),\n",
    "    ], pl_property=PipelineProperty(\n",
    "        {'numerical_features': numerical_features, 'categorical_features': categorical_features}), verbose=False,\n",
    "        only_once=['duplicate'])\n",
    "\n",
    "    # validation\n",
    "    print(f\"Scratch Decision Tree Model Performance at depth = {max_depth}\")\n",
    "    compare_models([ID3_scratch], X_data=X_ID3)\n",
    "\n",
    "    # final model\n",
    "    compare_models([ID3_scratch], X_data=X_ID3, fold=False)\n",
    "\n",
    "    # Create the directory if it does not exist\n",
    "    os.makedirs(directory_scratch, exist_ok=True)\n",
    "    ID3_scratch.get_component('classifier').io_strategy.strategy.model.save(f\"{directory_scratch}tree_max_depth_{max_depth}.json\")"
   ]
  },
  {
   "cell_type": "markdown",
   "metadata": {
    "id": "LoH2u6fOLfHh"
   },
   "source": [
    "## D. Improvements (Optional)\n",
    "\n",
    "- **Visualize the model evaluation result**\n",
    "\n",
    "This will help you to understand the details more clearly about your model's performance. From the visualization, you can see clearly if your model is leaning towards a class than the others. (Hint: confusion matrix, ROC-AUC curve, etc.)\n",
    "\n",
    "- **Explore the hyperparameters of your models**\n",
    "\n",
    "Each models have their own hyperparameters. And each of the hyperparameter have different effects on the model behaviour. You can optimize the model performance by finding the good set of hyperparameters through a process called **hyperparameter tuning**. (Hint: Grid search, random search, bayesian optimization)\n",
    "\n",
    "- **Cross-validation**\n",
    "\n",
    "Cross-validation is a critical technique in machine learning and data science for evaluating and validating the performance of predictive models. It provides a more **robust** and **reliable** evaluation method compared to a hold-out (single train-test set) validation. Though, it requires more time and computing power because of how cross-validation works. (Hint: k-fold cross-validation, stratified k-fold cross-validation, etc.)"
   ]
  },
  {
   "cell_type": "code",
   "execution_count": 8,
   "metadata": {
    "id": "pg-A54yELfHh"
   },
   "outputs": [],
   "source": [
    "X_test = pd.read_csv(f\"https://drive.google.com/uc?id={test_file_id[0]}\")\n",
    "\n",
    "for file_id in test_file_id[1:]:\n",
    "    X_test = pd.merge(X_test, pd.read_csv(f\"https://drive.google.com/uc?id={file_id}\"), on='id')\n",
    "    \n",
    "X_test.set_index('id', inplace=True)"
   ]
  },
  {
   "cell_type": "code",
   "execution_count": 9,
   "metadata": {},
   "outputs": [
    {
     "name": "stdout",
     "output_type": "stream",
     "text": [
      "fit and transform: missing\n",
      "fit and transform: duplicate\n",
      "fit and transform: outliers\n",
      "fit and transform: feature selection\n",
      "fit and transform: feature scaling\n",
      "fit and transform: classifier\n",
      "transform: missing\n",
      "transform: outliers\n",
      "transform: feature selection\n",
      "transform: feature scaling\n",
      "transform: classifier\n",
      "(175341, 14)\n",
      "transform: missing\n",
      "transform: outliers\n",
      "transform: feature selection\n",
      "transform: feature scaling\n",
      "transform: classifier\n"
     ]
    }
   ],
   "source": [
    "from src.algorithm import IterativeDichotomiser3\n",
    "\n",
    "reset_import()\n",
    "\n",
    "import warnings\n",
    "\n",
    "warnings.filterwarnings('ignore')\n",
    "\n",
    "reset_import()\n",
    "\n",
    "from src.compose import CustomPipeline\n",
    "\n",
    "X_ID3 = X.copy()\n",
    "X_ID3[categorical_features] = X_ID3[categorical_features].astype('str')\n",
    "\n",
    "max_depth = None\n",
    "model = IterativeDichotomiser3(max_depth=max_depth)\n",
    "\n",
    "ID3_submission = CustomPipeline(args=[\n",
    "    ('missing', MissingValueHandler(strategy=CustomTransformer(transformers=[\n",
    "        (SimpleImputer(strategy='mean'), numerical_features),\n",
    "        (SimpleImputer(strategy='most_frequent'), categorical_features)\n",
    "    ]))),\n",
    "    ('duplicate', DuplicateHandler(strategy=DropDuplicateHandlerStrategy())),\n",
    "    ('outliers', OutlierHandler(strategy=CustomTransformer(transformers=[\n",
    "        (BoundOutlierHandlerStrategy(), numerical_features)\n",
    "    ]))),\n",
    "    ('feature selection', FeatureSelectionHandler(strategy=CustomTransformer(transformers=[\n",
    "        (RandomForestFeatureSelectionHandlerStrategy(0.25), numerical_features),\n",
    "    ]))),\n",
    "    ('feature scaling', ScaleHandler(strategy=ZScoreScaleHandlerStrategy()), 'numerical_features'),\n",
    "    ('classifier', PipelineComponent(strategy=None).set_io_strategy(\n",
    "        ClassifierTransformerStrategy(strategy=Proxy(model= model)))),\n",
    "], pl_property=PipelineProperty(\n",
    "    {'numerical_features': numerical_features, 'categorical_features': categorical_features}), verbose=True,\n",
    "    only_once=['duplicate'])\n",
    "\n",
    "X_train_transformed, y_train_transformed = ID3_submission.fit_transform(X_ID3, y)\n",
    "\n",
    "check_for_completeness(X_train_transformed)\n",
    "\n",
    "X_test[categorical_features] = X_test[categorical_features].astype('str')\n",
    "_, y_pred = ID3_submission.transform(X_test)\n",
    "\n",
    "y_pred = pd.DataFrame(y_pred.reshape(len(y_pred),1))\n",
    "y_pred.reset_index(inplace=True)  # Add index as 'id'\n",
    "y_pred.columns = ['id', 'attack_cat']  # Rename columns\n",
    "\n",
    "# Save to CSV\n",
    "y_pred.to_csv('submission.csv', index=False)"
   ]
  },
  {
   "cell_type": "code",
   "execution_count": 10,
   "metadata": {},
   "outputs": [],
   "source": [
    "# Create the directory if it does not exist\n",
    "os.makedirs(directory_scratch, exist_ok=True)\n",
    "ID3_submission.get_component('classifier').io_strategy.strategy.model.save(f\"{directory_scratch}submission.json\")"
   ]
  },
  {
   "cell_type": "markdown",
   "metadata": {
    "id": "Li4l53DjLfHh"
   },
   "source": [
    "## E. Submission\n",
    "To predict the test set target feature and submit the results to the kaggle competition platform, do the following:\n",
    "1. Create a new pipeline instance identical to the first in Data Preprocessing\n",
    "2. With the pipeline, apply `fit_transform` to the original training set before splitting, then only apply `transform` to the test set.\n",
    "3. Retrain the model on the preprocessed training set\n",
    "4. Predict the test set\n",
    "5. Make sure the submission contains the `id` and `attack_cat` column."
   ]
  },
  {
   "cell_type": "code",
   "execution_count": null,
   "metadata": {
    "id": "LeqnfWc-LfHi"
   },
   "outputs": [],
   "source": [
    "# Type your code here"
   ]
  },
  {
   "cell_type": "markdown",
   "metadata": {
    "id": "R-jXvKOpLfHi"
   },
   "source": [
    "# 6. Error Analysis\n",
    "\n",
    "Based on all the process you have done until the modeling and evaluation step, write an analysis to support each steps you have taken to solve this problem. Write the analysis using the markdown block. Some questions that may help you in writing the analysis:\n",
    "\n",
    "- Does my model perform better in predicting one class than the other? If so, why is that?\n",
    "- To each models I have tried, which performs the best and what could be the reason?\n",
    "- Is it better for me to impute or drop the missing data? Why?\n",
    "- Does feature scaling help improve my model performance?\n",
    "- etc..."
   ]
  },
  {
   "cell_type": "markdown",
   "metadata": {
    "id": "tWL3nEAELfHj"
   },
   "source": [
    "`Provide your analysis here`"
   ]
  }
 ],
 "metadata": {
  "colab": {
   "provenance": [],
   "toc_visible": true
  },
  "kernelspec": {
   "display_name": "YOLOv8",
   "language": "python",
   "name": "yolov8"
  },
  "language_info": {
   "codemirror_mode": {
    "name": "ipython",
    "version": 3
   },
   "file_extension": ".py",
   "mimetype": "text/x-python",
   "name": "python",
   "nbconvert_exporter": "python",
   "pygments_lexer": "ipython3",
   "version": "3.11.7"
  }
 },
 "nbformat": 4,
 "nbformat_minor": 0
}
