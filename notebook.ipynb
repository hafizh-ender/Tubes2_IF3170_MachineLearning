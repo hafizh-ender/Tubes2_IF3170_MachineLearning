{
 "cells": [
  {
   "cell_type": "markdown",
   "metadata": {
    "id": "uR1JW69eLfG_"
   },
   "source": [
    "# IF3170 Artificial Intelligence | Tugas Besar 2"
   ]
  },
  {
   "cell_type": "markdown",
   "metadata": {
    "id": "ucbaI5rBLtjJ"
   },
   "source": [
    "Group Number: 31 - Kolmogorov-Arnold\n",
    "\n",
    "Group Members:\n",
    "- Roby Pratama Sitepu (13121142)\n",
    "- Muhammad Fadli Alfarizi (13121140)\n",
    "- Muhammad Arviano Yuono (13621034)\n",
    "- Hafizh Renanto Akhmad (13621060)"
   ]
  },
  {
   "cell_type": "markdown",
   "metadata": {
    "id": "GwzsfETHLfHA"
   },
   "source": [
    "## Import Libraries"
   ]
  },
  {
   "metadata": {
    "ExecuteTime": {
     "end_time": "2024-12-02T12:48:58.596129Z",
     "start_time": "2024-12-02T12:48:58.593071Z"
    }
   },
   "cell_type": "code",
   "source": [
    "from sklearn.model_selection import train_test_split\n",
    "import pandas as pd\n",
    "import sys"
   ],
   "outputs": [],
   "execution_count": 122
  },
  {
   "metadata": {},
   "cell_type": "markdown",
   "source": "## Import Dataset"
  },
  {
   "metadata": {
    "ExecuteTime": {
     "end_time": "2024-12-02T09:07:51.338282Z",
     "start_time": "2024-12-02T09:07:51.334532Z"
    }
   },
   "cell_type": "code",
   "source": [
    "train_file_id = ['1sLJLWnim9A34A8hpQwZ9PxVhMJPOrN9d', '1GzheGwc1mG6z_M_kYUOMMPkE2QQrj0eW',\n",
    "                 '1BunbVg1gBwI9v8h_6FxUMXJcuJDmnmMR', '1gkIqZAd5Aza8F8-2MzMO6t53gLEUYquj',\n",
    "                 '1p38XDB0XStCbYKYVBi-Pmi2BunD6FY6J']\n",
    "\n",
    "test_file_id = ['1TdeZx1bhHL8340emZhz8rW80016kdum3', '1Hg1_obL7mpwjN9gN0g1Me4jMlo8LGmVn',\n",
    "                '1G8spITfMGnVry6XJGz3ONg3N-CFXltrI', '1NFcFBcHVj3LguL9BRC39HuAZTif2ws_8',\n",
    "                '1tfmJu2HoeAePv7qKvIjAGETaqWkkhdbj']"
   ],
   "outputs": [],
   "execution_count": 2
  },
  {
   "metadata": {
    "ExecuteTime": {
     "end_time": "2024-12-02T09:42:10.398678Z",
     "start_time": "2024-12-02T09:42:10.393845Z"
    }
   },
   "cell_type": "code",
   "source": [
    "def check_for_completeness(data):\n",
    "    count = data.isna().sum().sum()\n",
    "\n",
    "    if count > 0:\n",
    "        raise Exception(f'\\n{count} missing values found')\n",
    "\n",
    "\n",
    "def inspect(df, features = None):\n",
    "    for feature in features if features is not None else df.columns:\n",
    "        print(f\"feature = '{feature}'\")\n",
    "        print(f\"count unique values = {df[feature].nunique()}\")\n",
    "        print(f\"unique values: {df[feature].unique()}\")\n",
    "        print(f\"missing values: {df[feature].isna().sum()}\\n\\n\")\n",
    "\n",
    "def reset_import():\n",
    "    for module_name in list(sys.modules.keys()):\n",
    "        if 'src' in module_name:\n",
    "            del sys.modules[module_name]\n",
    "            # print(f\"removed module: {module_name}\")\n"
   ],
   "outputs": [],
   "execution_count": 50
  },
  {
   "metadata": {},
   "cell_type": "markdown",
   "source": [
    "# Exploratory Data Analysis (Optional)\n",
    "\n",
    "Exploratory Data Analysis (EDA) is a crucial step in the data analysis process that involves examining and visualizing data sets to uncover patterns, trends, anomalies, and insights. It is the first step before applying more advanced statistical and machine learning techniques. EDA helps you to gain a deep understanding of the data you are working with, allowing you to make informed decisions and formulate hypotheses for further analysis."
   ]
  },
  {
   "metadata": {},
   "cell_type": "code",
   "outputs": [],
   "execution_count": null,
   "source": "# Write your code here"
  },
  {
   "metadata": {},
   "cell_type": "markdown",
   "source": [
    "# 1. Split Training Set and Validation Set\n",
    "\n",
    "Splitting the training and validation set works as an early diagnostic towards the performance of the model we train. This is done before the preprocessing steps to **avoid data leakage inbetween the sets**. If you want to use k-fold cross-validation, split the data later and do the cleaning and preprocessing separately for each split.\n",
    "\n",
    "Note: For training, you should use the data contained in the `train` folder given by the TA. The `test` data is only used for kaggle submission."
   ]
  },
  {
   "metadata": {
    "ExecuteTime": {
     "end_time": "2024-12-02T12:16:30.530732Z",
     "start_time": "2024-12-02T12:15:38.190873Z"
    }
   },
   "cell_type": "code",
   "source": [
    "X = pd.read_csv(f\"https://drive.google.com/uc?id={train_file_id[0]}\")\n",
    "y = pd.read_csv('https://drive.google.com/uc?id=1Dt9cKiT1y1cysxyJGlcnnEkms8ibSjCq')[['attack_cat', 'id']]\n",
    "for file_id in train_file_id[1:]:\n",
    "    X = pd.merge(X, pd.read_csv(f\"https://drive.google.com/uc?id={file_id}\"), on='id')\n",
    "\n",
    "shuffled = pd.merge(X, y, on='id').sample(frac=1, random_state=42).reset_index(drop=True)\n",
    "\n",
    "X = shuffled.drop(columns=['attack_cat'])\n",
    "y = shuffled[['attack_cat', 'id']]\n",
    "\n",
    "X.set_index('id', inplace=True)\n",
    "y.set_index('id', inplace=True)\n",
    "\n",
    "X_train, X_val, y_train, y_val = train_test_split(X, y, test_size=0.3, random_state=42)"
   ],
   "outputs": [],
   "execution_count": 88
  },
  {
   "metadata": {
    "ExecuteTime": {
     "end_time": "2024-12-02T12:16:37.206997Z",
     "start_time": "2024-12-02T12:16:37.203575Z"
    }
   },
   "cell_type": "code",
   "source": [
    "categorical_features = ['proto', 'state', 'service', 'is_sm_ips_ports', 'is_ftp_login']\n",
    "numerical_features = [col for col in X_train.columns if\n",
    "                      col not in categorical_features and col != 'attack_cat' and col != 'id']"
   ],
   "outputs": [],
   "execution_count": 89
  },
  {
   "metadata": {},
   "cell_type": "markdown",
   "source": [
    "# 2. Data Cleaning and Preprocessing\n",
    "\n",
    "This step is the first thing to be done once a Data Scientist have grasped a general knowledge of the data. Raw data is **seldom ready for training**, therefore steps need to be taken to clean and format the data for the Machine Learning model to interpret.\n",
    "\n",
    "By performing data cleaning and preprocessing, you ensure that your dataset is ready for model training, leading to more accurate and reliable machine learning results. These steps are essential for transforming raw data into a format that machine learning algorithms can effectively learn from and make predictions.\n",
    "\n",
    "We will give some common methods for you to try, but you only have to **at least implement one method for each process**. For each step that you will do, **please explain the reason why did you do that process. Write it in a markdown cell under the code cell you wrote.**"
   ]
  },
  {
   "metadata": {},
   "cell_type": "markdown",
   "source": [
    "## A. Data Cleaning\n",
    "\n",
    "**Data cleaning** is the crucial first step in preparing your dataset for machine learning. Raw data collected from various sources is often messy and may contain errors, missing values, and inconsistencies. Data cleaning involves the following steps:\n",
    "\n",
    "1. **Handling Missing Data:** Identify and address missing values in the dataset. This can include imputing missing values, removing rows or columns with excessive missing data, or using more advanced techniques like interpolation.\n",
    "\n",
    "2. **Dealing with Outliers:** Identify and handle outliers, which are data points significantly different from the rest of the dataset. Outliers can be removed or transformed to improve model performance.\n",
    "\n",
    "3. **Data Validation:** Check for data integrity and consistency. Ensure that data types are correct, categorical variables have consistent labels, and numerical values fall within expected ranges.\n",
    "\n",
    "4. **Removing Duplicates:** Identify and remove duplicate rows, as they can skew the model's training process and evaluation metrics.\n",
    "\n",
    "5. **Feature Engineering**: Create new features or modify existing ones to extract relevant information. This step can involve scaling, normalizing, or encoding features for better model interpretability."
   ]
  },
  {
   "metadata": {},
   "cell_type": "markdown",
   "source": [
    "### I. Handling Missing Data\n",
    "\n",
    "Missing data can adversely affect the performance and accuracy of machine learning models. There are several strategies to handle missing data in machine learning:\n",
    "\n",
    "1. **Data Imputation:**\n",
    "\n",
    "    a. **Mean, Median, or Mode Imputation:** For numerical features, you can replace missing values with the mean, median, or mode of the non-missing values in the same feature. This method is simple and often effective when data is missing at random.\n",
    "\n",
    "    b. **Constant Value Imputation:** You can replace missing values with a predefined constant value (e.g., 0) if it makes sense for your dataset and problem.\n",
    "\n",
    "    c. **Imputation Using Predictive Models:** More advanced techniques involve using predictive models to estimate missing values. For example, you can train a regression model to predict missing numerical values or a classification model to predict missing categorical values.\n",
    "\n",
    "2. **Deletion of Missing Data:**\n",
    "\n",
    "    a. **Listwise Deletion:** In cases where the amount of missing data is relatively small, you can simply remove rows with missing values from your dataset. However, this approach can lead to a loss of valuable information.\n",
    "\n",
    "    b. **Column (Feature) Deletion:** If a feature has a large number of missing values and is not critical for your analysis, you can consider removing that feature altogether.\n",
    "\n",
    "3. **Domain-Specific Strategies:**\n",
    "\n",
    "    a. **Domain Knowledge:** In some cases, domain knowledge can guide the imputation process. For example, if you know that missing values are related to a specific condition, you can impute them accordingly.\n",
    "\n",
    "4. **Imputation Libraries:**\n",
    "\n",
    "    a. **Scikit-Learn:** Scikit-Learn provides a `SimpleImputer` class that can handle basic imputation strategies like mean, median, and mode imputation.\n",
    "\n",
    "    b. **Fancyimpute:** Fancyimpute is a Python library that offers more advanced imputation techniques, including matrix factorization, k-nearest neighbors, and deep learning-based methods.\n",
    "\n",
    "The choice of imputation method should be guided by the nature of your data, the amount of missing data, the problem you are trying to solve, and the assumptions you are willing to make."
   ]
  },
  {
   "metadata": {
    "ExecuteTime": {
     "end_time": "2024-12-02T12:28:57.522259Z",
     "start_time": "2024-12-02T12:28:56.875148Z"
    }
   },
   "cell_type": "code",
   "source": [
    "reset_import()\n",
    "\n",
    "from src.preprocessing import MissingValueHandler\n",
    "\n",
    "missing_value_handler = MissingValueHandler(numerical_features=numerical_features, categorical_features=categorical_features)\n",
    "\n",
    "missing_value_handler.fit(X_train)\n",
    "\n",
    "print(X_train.shape)\n",
    "print(X_train.duplicated().sum())\n",
    "\n",
    "X_train_completed = missing_value_handler.transform(X_train)\n",
    "X_val_completed = missing_value_handler.transform(X_val)\n",
    "\n",
    "print(X_train_completed.shape)\n",
    "print(X_train_completed.duplicated().sum())\n",
    "\n",
    "\n",
    "check_for_completeness(X_train_completed)\n",
    "# check_for_completeness(X_val_completed)"
   ],
   "outputs": [
    {
     "name": "stdout",
     "output_type": "stream",
     "text": [
      "(122738, 41)\n",
      "4258\n",
      "(122738, 41)\n",
      "5484\n"
     ]
    }
   ],
   "execution_count": 102
  },
  {
   "metadata": {},
   "cell_type": "markdown",
   "source": [
    "### II. Dealing with Outliers\n",
    "\n",
    "Outliers are data points that significantly differ from the majority of the data. They can be unusually high or low values that do not fit the pattern of the rest of the dataset. Outliers can significantly impact model performance, so it is important to handle them properly.\n",
    "\n",
    "Some methods to handle outliers:\n",
    "1. **Imputation**: Replace with mean, median, or a boundary value.\n",
    "2. **Clipping**: Cap values to upper and lower limits.\n",
    "3. **Transformation**: Use log, square root, or power transformations to reduce their influence.\n",
    "4. **Model-Based**: Use algorithms robust to outliers (e.g., tree-based models, Huber regression)."
   ]
  },
  {
   "metadata": {
    "ExecuteTime": {
     "end_time": "2024-12-02T12:30:14.630958Z",
     "start_time": "2024-12-02T12:29:41.121361Z"
    }
   },
   "cell_type": "code",
   "source": [
    "reset_import()\n",
    "\n",
    "from src.preprocessing.outlier import OutlierHandler\n",
    "\n",
    "outlier_handler = OutlierHandler(numerical_features=numerical_features)\n",
    "outlier_handler.fit(X_train_completed)\n",
    "\n",
    "X_train_outliers_removed = outlier_handler.transform(X_train_completed)\n",
    "X_val_outliers_removed = outlier_handler.transform(X_val_completed)\n",
    "\n",
    "check_for_completeness(X_train_outliers_removed)\n",
    "check_for_completeness(X_val_outliers_removed)"
   ],
   "outputs": [],
   "execution_count": 103
  },
  {
   "metadata": {},
   "cell_type": "markdown",
   "source": [
    "### III. Remove Duplicates\n",
    "Handling duplicate values is crucial because they can compromise data integrity, leading to inaccurate analysis and insights. Duplicate entries can bias machine learning models, causing overfitting and reducing their ability to generalize to new data. They also inflate the dataset size unnecessarily, increasing computational costs and processing times. Additionally, duplicates can distort statistical measures and lead to inconsistencies, ultimately affecting the reliability of data-driven decisions and reporting. Ensuring data quality by removing duplicates is essential for accurate, efficient, and consistent analysis."
   ]
  },
  {
   "metadata": {
    "ExecuteTime": {
     "end_time": "2024-12-02T13:02:43.342166Z",
     "start_time": "2024-12-02T13:02:42.949674Z"
    }
   },
   "cell_type": "code",
   "source": [
    "reset_import()\n",
    "\n",
    "from src.preprocessing.duplicate import DuplicateHandler\n",
    "\n",
    "duplicate_handler = DuplicateHandler()\n",
    "\n",
    "X_train_duplicates_removed = duplicate_handler.transform(X_train_outliers_removed)\n",
    "X_val_duplicates_removed = duplicate_handler.transform(X_val_outliers_removed)\n",
    "\n",
    "y_train_duplicates_removed = y_train.loc[y_train.index.isin(X_train_duplicates_removed.index)]\n",
    "y_val_duplicates_removed = y_val.loc[y_val.index.isin(X_val_duplicates_removed.index)]\n",
    "\n",
    "check_for_completeness(X_train_duplicates_removed)\n",
    "check_for_completeness(X_val_duplicates_removed)"
   ],
   "outputs": [],
   "execution_count": 125
  },
  {
   "metadata": {},
   "cell_type": "markdown",
   "source": [
    "### IV. Feature Engineering\n",
    "\n",
    "**Feature engineering** involves creating new features (input variables) or transforming existing ones to improve the performance of machine learning models. Feature engineering aims to enhance the model's ability to learn patterns and make accurate predictions from the data. It's often said that \"good features make good models.\"\n",
    "\n",
    "1. **Feature Selection:** Feature engineering can involve selecting the most relevant and informative features from the dataset. Removing irrelevant or redundant features not only simplifies the model but also reduces the risk of overfitting.\n",
    "\n",
    "2. **Creating New Features:** Sometimes, the existing features may not capture the underlying patterns effectively. In such cases, engineers create new features that provide additional information. For example:\n",
    "\n",
    "   - **Polynomial Features:** Engineers may create new features by taking the square, cube, or other higher-order terms of existing numerical features. This can help capture nonlinear relationships.\n",
    "\n",
    "   - **Interaction Features:** Interaction features are created by combining two or more existing features. For example, if you have features \"length\" and \"width,\" you can create an \"area\" feature by multiplying them.\n",
    "\n",
    "3. **Binning or Discretization:** Continuous numerical features can be divided into bins or categories. For instance, age values can be grouped into bins like \"child,\" \"adult,\" and \"senior.\"\n",
    "\n",
    "4. **Domain-Specific Feature Engineering:** Depending on the domain and problem, engineers may create domain-specific features. For example, in fraud detection, features related to transaction history and user behavior may be engineered to identify anomalies.\n",
    "\n",
    "Feature engineering is both a creative and iterative process. It requires a deep understanding of the data, domain knowledge, and experimentation to determine which features will enhance the model's predictive power."
   ]
  },
  {
   "metadata": {
    "ExecuteTime": {
     "end_time": "2024-12-02T13:03:11.495364Z",
     "start_time": "2024-12-02T13:02:48.322032Z"
    }
   },
   "cell_type": "code",
   "source": [
    "reset_import()\n",
    "\n",
    "from src.preprocessing.encoder import FeatureEncoder\n",
    "\n",
    "feature_encoder = FeatureEncoder(numerical_features=numerical_features, categorical_features=categorical_features)\n",
    "feature_encoder.fit(pd.concat([X_train_duplicates_removed, X_val_duplicates_removed], axis=0))\n",
    "\n",
    "X_train_encoded = feature_encoder.transform(X_train_duplicates_removed)\n",
    "X_val_encoded = feature_encoder.transform(X_val_duplicates_removed)\n",
    "\n",
    "check_for_completeness(X_train_encoded)\n",
    "check_for_completeness(X_val_encoded)\n",
    "\n",
    "print(X_train_encoded.shape)\n",
    "print(X_val_encoded.shape)\n",
    "\n",
    "from src.preprocessing.selection import FeatureSelectionHandler\n",
    "\n",
    "feature_selection_handler = FeatureSelectionHandler(numerical_features=numerical_features)\n",
    "feature_selection_handler.fit(X_train_encoded, y_train_duplicates_removed)\n",
    "\n",
    "X_train_selected = feature_selection_handler.transform(X_train_encoded)\n",
    "X_val_selected = feature_selection_handler.transform(X_val_encoded)\n",
    "\n",
    "selected_numerical_features = feature_selection_handler.selected_numerical_features\n",
    "selected_categorical_features = feature_selection_handler.selected_categorical_features\n",
    "\n",
    "check_for_completeness(X_train_selected)\n",
    "check_for_completeness(X_val_selected)\n",
    "\n",
    "print(X_train_selected.shape)\n",
    "print(X_val_selected.shape)"
   ],
   "outputs": [
    {
     "name": "stdout",
     "output_type": "stream",
     "text": [
      "(109613, 193)\n",
      "(48373, 193)\n"
     ]
    },
    {
     "name": "stderr",
     "output_type": "stream",
     "text": [
      "C:\\Users\\Fadli\\Desktop\\workspace\\IF4041\\Tubes2_IF3170_MachineLearning\\venv\\Lib\\site-packages\\sklearn\\base.py:1473: DataConversionWarning: A column-vector y was passed when a 1d array was expected. Please change the shape of y to (n_samples,), for example using ravel().\n",
      "  return fit_method(estimator, *args, **kwargs)\n"
     ]
    },
    {
     "name": "stdout",
     "output_type": "stream",
     "text": [
      "(109613, 151)\n",
      "(48373, 151)\n"
     ]
    }
   ],
   "execution_count": 126
  },
  {
   "metadata": {},
   "cell_type": "markdown",
   "source": [
    "## B. Data Preprocessing\n",
    "\n",
    "**Data preprocessing** is a broader step that encompasses both data cleaning and additional transformations to make the data suitable for machine learning algorithms. Its primary goals are:\n",
    "\n",
    "1. **Feature Scaling:** Ensure that numerical features have similar scales. Common techniques include Min-Max scaling (scaling to a specific range) or standardization (mean-centered, unit variance).\n",
    "\n",
    "2. **Encoding Categorical Variables:** Machine learning models typically work with numerical data, so categorical variables need to be encoded. This can be done using one-hot encoding, label encoding, or more advanced methods like target encoding.\n",
    "\n",
    "3. **Handling Imbalanced Classes:** If dealing with imbalanced classes in a binary classification task, apply techniques such as oversampling, undersampling, or using different evaluation metrics to address class imbalance.\n",
    "\n",
    "4. **Dimensionality Reduction:** Reduce the number of features using techniques like Principal Component Analysis (PCA) or feature selection to simplify the model and potentially improve its performance.\n",
    "\n",
    "5. **Normalization:** Normalize data to achieve a standard distribution. This is particularly important for algorithms that assume normally distributed data."
   ]
  },
  {
   "metadata": {},
   "cell_type": "markdown",
   "source": [
    "### Notes on Preprocessing processes\n",
    "\n",
    "It is advised to create functions or classes that have the same/similar type of inputs and outputs, so you can add, remove, or swap the order of the processes easily. You can implement the functions or classes by yourself\n",
    "\n",
    "or\n",
    "\n",
    "use `sklearn` library. To create a new preprocessing component in `sklearn`, implement a corresponding class that includes:\n",
    "1. Inheritance to `BaseEstimator` and `TransformerMixin`\n",
    "2. The method `fit`\n",
    "3. The method `transform`"
   ]
  },
  {
   "metadata": {},
   "cell_type": "code",
   "outputs": [],
   "execution_count": null,
   "source": [
    "# Example\n",
    "\n",
    "# from sklearn.base import BaseEstimator, TransformerMixin\n",
    "\n",
    "# class FeatureEncoder(BaseEstimator, TransformerMixin):\n",
    "\n",
    "#     def fit(self, X, y=None):\n",
    "\n",
    "#         # Fit the encoder here\n",
    "\n",
    "#         return self\n",
    "\n",
    "#     def transform(self, X):\n",
    "#         X_encoded = X.copy()\n",
    "\n",
    "#         # Encode the categorical variables here\n",
    "\n",
    "#         return X_encoded"
   ]
  },
  {
   "metadata": {},
   "cell_type": "markdown",
   "source": [
    "### I. Feature Scaling\n",
    "\n",
    "**Feature scaling** is a preprocessing technique used in machine learning to standardize the range of independent variables or features of data. The primary goal of feature scaling is to ensure that all features contribute equally to the training process and that machine learning algorithms can work effectively with the data.\n",
    "\n",
    "Here are the main reasons why feature scaling is important:\n",
    "\n",
    "1. **Algorithm Sensitivity:** Many machine learning algorithms are sensitive to the scale of input features. If the scales of features are significantly different, some algorithms may perform poorly or take much longer to converge.\n",
    "\n",
    "2. **Distance-Based Algorithms:** Algorithms that rely on distances or similarities between data points, such as k-nearest neighbors (KNN) and support vector machines (SVM), can be influenced by feature scales. Features with larger scales may dominate the distance calculations.\n",
    "\n",
    "3. **Regularization:** Regularization techniques, like L1 (Lasso) and L2 (Ridge) regularization, add penalty terms based on feature coefficients. Scaling ensures that all features are treated equally in the regularization process.\n",
    "\n",
    "Common methods for feature scaling include:\n",
    "\n",
    "1. **Min-Max Scaling (Normalization):** This method scales features to a specific range, typically [0, 1]. It's done using the following formula:\n",
    "\n",
    "   $$X' = \\frac{X - X_{min}}{X_{max} - X_{min}}$$\n",
    "\n",
    "   - Here, $X$ is the original feature value, $X_{min}$ is the minimum value of the feature, and $X_{max}$ is the maximum value of the feature.\n",
    "<br />\n",
    "<br />\n",
    "2. **Standardization (Z-score Scaling):** This method scales features to have a mean (average) of 0 and a standard deviation of 1. It's done using the following formula:\n",
    "\n",
    "   $$X' = \\frac{X - \\mu}{\\sigma}$$\n",
    "\n",
    "   - $X$ is the original feature value, $\\mu$ is the mean of the feature, and $\\sigma$ is the standard deviation of the feature.\n",
    "<br />\n",
    "<br />\n",
    "3. **Robust Scaling:** Robust scaling is a method that scales features to the interquartile range (IQR) and is less affected by outliers. It's calculated as:\n",
    "\n",
    "   $$X' = \\frac{X - Q1}{Q3 - Q1}$$\n",
    "\n",
    "   - $X$ is the original feature value, $Q1$ is the first quartile (25th percentile), and $Q3$ is the third quartile (75th percentile) of the feature.\n",
    "<br />\n",
    "<br />\n",
    "4. **Log Transformation:** In cases where data is highly skewed or has a heavy-tailed distribution, taking the logarithm of the feature values can help stabilize the variance and improve scaling.\n",
    "\n",
    "The choice of scaling method depends on the characteristics of your data and the requirements of your machine learning algorithm. **Min-max scaling and standardization are the most commonly used techniques and work well for many datasets.**\n",
    "\n",
    "Scaling should be applied separately to each training and test set to prevent data leakage from the test set into the training set. Additionally, **some algorithms may not require feature scaling, particularly tree-based models.**"
   ]
  },
  {
   "metadata": {
    "ExecuteTime": {
     "end_time": "2024-12-02T12:44:27.976202Z",
     "start_time": "2024-12-02T12:44:27.813675Z"
    }
   },
   "cell_type": "code",
   "source": [
    "reset_import()\n",
    "\n",
    "from src.preprocessing.scale import ScaleHandler\n",
    "\n",
    "scale_handler = ScaleHandler(numerical_features=selected_numerical_features)\n",
    "scale_handler.fit(X_train_selected)\n",
    "\n",
    "X_train_scaled = scale_handler.transform(X_train_selected)\n",
    "X_val_scaled = scale_handler.transform(X_val_selected)\n",
    "\n",
    "check_for_completeness(X_train_scaled)\n",
    "check_for_completeness(X_val_scaled)\n"
   ],
   "outputs": [],
   "execution_count": 118
  },
  {
   "metadata": {},
   "cell_type": "markdown",
   "source": [
    "### II. Feature Encoding\n",
    "\n",
    "**Feature encoding**, also known as **categorical encoding**, is the process of converting categorical data (non-numeric data) into a numerical format so that it can be used as input for machine learning algorithms. Most machine learning models require numerical data for training and prediction, so feature encoding is a critical step in data preprocessing.\n",
    "\n",
    "Categorical data can take various forms, including:\n",
    "\n",
    "1. **Nominal Data:** Categories with no intrinsic order, like colors or country names.\n",
    "\n",
    "2. **Ordinal Data:** Categories with a meaningful order but not necessarily equidistant, like education levels (e.g., \"high school,\" \"bachelor's,\" \"master's\").\n",
    "\n",
    "There are several common methods for encoding categorical data:\n",
    "\n",
    "1. **Label Encoding:**\n",
    "\n",
    "   - Label encoding assigns a unique integer to each category in a feature.\n",
    "   - It's suitable for ordinal data where there's a clear order among categories.\n",
    "   - For example, if you have an \"education\" feature with values \"high school,\" \"bachelor's,\" and \"master's,\" you can encode them as 0, 1, and 2, respectively.\n",
    "<br />\n",
    "<br />\n",
    "2. **One-Hot Encoding:**\n",
    "\n",
    "   - One-hot encoding creates a binary (0 or 1) column for each category in a nominal feature.\n",
    "   - It's suitable for nominal data where there's no inherent order among categories.\n",
    "   - Each category becomes a new feature, and the presence (1) or absence (0) of a category is indicated for each row.\n",
    "<br />\n",
    "<br />\n",
    "3. **Target Encoding (Mean Encoding):**\n",
    "\n",
    "   - Target encoding replaces each category with the mean of the target variable for that category.\n",
    "   - It's often used for classification problems."
   ]
  },
  {
   "metadata": {
    "ExecuteTime": {
     "end_time": "2024-12-02T10:06:32.331344Z",
     "start_time": "2024-12-02T10:06:32.073450Z"
    }
   },
   "cell_type": "code",
   "source": "# already encoded before feature selection (random forest)",
   "outputs": [],
   "execution_count": 64
  },
  {
   "metadata": {},
   "cell_type": "markdown",
   "source": [
    "### III. Handling Imbalanced Dataset\n",
    "\n",
    "**Handling imbalanced datasets** is important because imbalanced data can lead to several issues that negatively impact the performance and reliability of machine learning models. Here are some key reasons:\n",
    "\n",
    "1. **Biased Model Performance**:\n",
    "\n",
    " - Models trained on imbalanced data tend to be biased towards the majority class, leading to poor performance on the minority class. This can result in misleading accuracy metrics.\n",
    "\n",
    "2. **Misleading Accuracy**:\n",
    "\n",
    " - High overall accuracy can be misleading in imbalanced datasets. For example, if 95% of the data belongs to one class, a model that always predicts the majority class will have 95% accuracy but will fail to identify the minority class.\n",
    "\n",
    "3. **Poor Generalization**:\n",
    "\n",
    " - Models trained on imbalanced data may not generalize well to new, unseen data, especially if the minority class is underrepresented.\n",
    "\n",
    "\n",
    "Some methods to handle imbalanced datasets:\n",
    "1. **Resampling Methods**:\n",
    "\n",
    " - Oversampling: Increase the number of instances in the minority class by duplicating or generating synthetic samples (e.g., SMOTE).\n",
    " - Undersampling: Reduce the number of instances in the majority class to balance the dataset.\n",
    "\n",
    "2. **Evaluation Metrics**:\n",
    "\n",
    " - Use appropriate evaluation metrics such as precision, recall, F1-score, ROC-AUC, and confusion matrix instead of accuracy to better assess model performance on imbalanced data.\n",
    "\n",
    "3. **Algorithmic Approaches**:\n",
    "\n",
    " - Use algorithms that are designed to handle imbalanced data, such as decision trees, random forests, or ensemble methods.\n",
    " - Adjust class weights in algorithms to give more importance to the minority class."
   ]
  },
  {
   "metadata": {
    "ExecuteTime": {
     "end_time": "2024-12-01T12:23:45.413849Z",
     "start_time": "2024-12-01T12:23:45.410903Z"
    }
   },
   "cell_type": "code",
   "source": "# Write your code here",
   "outputs": [],
   "execution_count": 20
  },
  {
   "metadata": {},
   "cell_type": "markdown",
   "source": [
    "### IV. Data Normalization\n",
    "\n",
    "Data normalization is used to achieve a standard distribution. Without normalization, models or processes that rely on the assumption of normality may not work correctly. Normalization helps reduce the magnitude effect and ensures numerical stability during optimization."
   ]
  },
  {
   "metadata": {
    "ExecuteTime": {
     "end_time": "2024-12-02T10:07:11.992629Z",
     "start_time": "2024-12-02T10:07:11.990282Z"
    }
   },
   "cell_type": "code",
   "source": "",
   "outputs": [],
   "execution_count": null
  },
  {
   "metadata": {},
   "cell_type": "markdown",
   "source": [
    "### V. Dimensionality Reduction\n",
    "\n",
    "Dimensionality reduction is a technique used in data preprocessing to reduce the number of input features (dimensions) in a dataset while retaining as much important information as possible. It is essential when dealing with high-dimensional data, where too many features can cause problems like increased computational costs, overfitting, and difficulty in visualization. Reducing dimensions simplifies the data, making it easier to analyze and improving the performance of machine learning models.\n",
    "\n",
    "One of the main approaches to dimensionality reduction is feature extraction. Feature extraction creates new, smaller sets of features that capture the essence of the original data. Common techniques include:\n",
    "\n",
    "1. **Principal Component Analysis (PCA)**: Converts correlated features into a smaller number of uncorrelated \"principal components.\"\n",
    "2. **t-SNE (t-Distributed Stochastic Neighbor Embedding)**: A visualization-focused method to project high-dimensional data into 2D or 3D spaces.\n",
    "3. **Autoencoders**: Neural networks that learn compressed representations of the data."
   ]
  },
  {
   "metadata": {
    "ExecuteTime": {
     "end_time": "2024-12-02T10:08:39.893941Z",
     "start_time": "2024-12-02T10:08:39.891611Z"
    }
   },
   "cell_type": "code",
   "source": "",
   "outputs": [],
   "execution_count": null
  },
  {
   "metadata": {},
   "cell_type": "markdown",
   "source": [
    "# 3. Compile Preprocessing Pipeline\n",
    "\n",
    "All of the preprocessing classes or functions defined earlier will be compiled in this step."
   ]
  },
  {
   "metadata": {},
   "cell_type": "markdown",
   "source": "If you use sklearn to create preprocessing classes, you can list your preprocessing classes in the Pipeline object sequentially, and then fit and transform your data."
  },
  {
   "metadata": {},
   "cell_type": "code",
   "outputs": [],
   "execution_count": null,
   "source": [
    "# from sklearn.pipeline import Pipeline\n",
    "\n",
    "# # Note: You can add or delete preprocessing components from this pipeline\n",
    "\n",
    "# pipe = Pipeline([(\"missing\", FeatureImputer()),\n",
    "#                  (\"featurecreator\", FeatureCreator()),\n",
    "#                  (\"scaler\", FeatureScaler()),\n",
    "#                  (\"encoder\", FeatureEncoder())])\n",
    "\n",
    "# train_set = pipe.fit_transform(train_set)\n",
    "# val_set = pipe.transform(val_set)"
   ]
  },
  {
   "metadata": {},
   "cell_type": "code",
   "outputs": [],
   "execution_count": null,
   "source": [
    "# # Your code should work up until this point\n",
    "# train_set = pipe.fit_transform(train_set)\n",
    "# val_set = pipe.transform(val_set)"
   ]
  },
  {
   "metadata": {},
   "cell_type": "markdown",
   "source": "or create your own here"
  },
  {
   "metadata": {},
   "cell_type": "code",
   "outputs": [],
   "execution_count": null,
   "source": "# Write your code here"
  },
  {
   "metadata": {},
   "cell_type": "markdown",
   "source": [
    "# 4. Modeling and Validation\n",
    "\n",
    "Modelling is the process of building your own machine learning models to solve specific problems, or in this assignment context, predicting the target feature `attack_cat`. Validation is the process of evaluating your trained model using the validation set or cross-validation method and providing some metrics that can help you decide what to do in the next iteration of development."
   ]
  },
  {
   "metadata": {
    "ExecuteTime": {
     "end_time": "2024-12-02T13:22:57.507380Z",
     "start_time": "2024-12-02T13:22:57.504601Z"
    }
   },
   "cell_type": "code",
   "source": [
    "from sklearn.neighbors import KNeighborsClassifier\n",
    "from sklearn.tree import DecisionTreeClassifier\n",
    "from sklearn.metrics import accuracy_score, f1_score, classification_report\n",
    "from sklearn.naive_bayes import GaussianNB"
   ],
   "outputs": [],
   "execution_count": 132
  },
  {
   "metadata": {},
   "cell_type": "markdown",
   "source": "## A. KNN"
  },
  {
   "metadata": {
    "ExecuteTime": {
     "end_time": "2024-12-02T13:03:26.458686Z",
     "start_time": "2024-12-02T13:03:11.504055Z"
    }
   },
   "cell_type": "code",
   "source": [
    "knn = KNeighborsClassifier(n_neighbors=3)\n",
    "\n",
    "knn.fit(X_train_scaled, y_train_duplicates_removed['attack_cat'])\n",
    "\n",
    "y_pred = knn.predict(X_val_scaled)\n",
    "\n",
    "accuracy = accuracy_score(y_val_duplicates_removed, y_pred)\n",
    "print(\"\\nModel Accuracy:\", accuracy)\n",
    "\n",
    "f1_macro = f1_score(y_val_duplicates_removed, y_pred, average='macro')\n",
    "print(f\"F1 Score (Macro): {f1_macro}\")\n",
    "\n",
    "print(\"Classification Report:\")\n",
    "print(classification_report(y_val_duplicates_removed, y_pred))"
   ],
   "outputs": [
    {
     "name": "stdout",
     "output_type": "stream",
     "text": [
      "\n",
      "Model Accuracy: 0.7391520062844975\n",
      "F1 Score (Macro): 0.45733623646901866\n",
      "Classification Report:\n",
      "                precision    recall  f1-score   support\n",
      "\n",
      "      Analysis       0.11      0.19      0.14       568\n",
      "      Backdoor       0.05      0.07      0.06       519\n",
      "           DoS       0.30      0.34      0.32      3394\n",
      "      Exploits       0.64      0.66      0.65      9589\n",
      "       Fuzzers       0.57      0.58      0.57      5411\n",
      "       Generic       0.99      0.97      0.98      8977\n",
      "        Normal       0.91      0.88      0.89     16522\n",
      "Reconnaissance       0.68      0.60      0.64      2993\n",
      "     Shellcode       0.40      0.15      0.22       355\n",
      "         Worms       0.27      0.07      0.11        45\n",
      "\n",
      "      accuracy                           0.74     48373\n",
      "     macro avg       0.49      0.45      0.46     48373\n",
      "  weighted avg       0.75      0.74      0.74     48373\n",
      "\n"
     ]
    }
   ],
   "execution_count": 127
  },
  {
   "metadata": {},
   "cell_type": "markdown",
   "source": "## B. Naive Bayes"
  },
  {
   "metadata": {
    "ExecuteTime": {
     "end_time": "2024-12-02T13:22:43.131212Z",
     "start_time": "2024-12-02T13:22:41.227697Z"
    }
   },
   "cell_type": "code",
   "source": [
    "nb = GaussianNB()\n",
    "\n",
    "nb.fit(X_train_selected, y_train_duplicates_removed['attack_cat'])\n",
    "\n",
    "y_pred = nb.predict(X_val_selected)\n",
    "\n",
    "accuracy = accuracy_score(y_val_duplicates_removed, y_pred)\n",
    "print(\"\\nModel Accuracy:\", accuracy)\n",
    "\n",
    "f1_macro = f1_score(y_val_duplicates_removed, y_pred, average='macro')\n",
    "print(f\"F1 Score (Macro): {f1_macro}\")\n",
    "\n",
    "print(\"Classification Report:\")\n",
    "print(classification_report(y_val_duplicates_removed, y_pred))"
   ],
   "outputs": [
    {
     "name": "stdout",
     "output_type": "stream",
     "text": [
      "\n",
      "Model Accuracy: 0.47177144274698696\n",
      "F1 Score (Macro): 0.13013374115847126\n",
      "Classification Report:\n"
     ]
    },
    {
     "name": "stderr",
     "output_type": "stream",
     "text": [
      "C:\\Users\\Fadli\\Desktop\\workspace\\IF4041\\Tubes2_IF3170_MachineLearning\\venv\\Lib\\site-packages\\sklearn\\metrics\\_classification.py:1531: UndefinedMetricWarning: Precision is ill-defined and being set to 0.0 in labels with no predicted samples. Use `zero_division` parameter to control this behavior.\n",
      "  _warn_prf(average, modifier, f\"{metric.capitalize()} is\", len(result))\n"
     ]
    },
    {
     "name": "stdout",
     "output_type": "stream",
     "text": [
      "                precision    recall  f1-score   support\n",
      "\n",
      "      Analysis       0.00      0.00      0.00       568\n",
      "      Backdoor       0.00      0.00      0.00       519\n",
      "           DoS       0.16      0.02      0.04      3394\n",
      "      Exploits       0.27      0.02      0.04      9589\n",
      "       Fuzzers       0.00      0.00      0.00      5411\n",
      "       Generic       0.40      0.95      0.56      8977\n",
      "        Normal       0.54      0.85      0.66     16522\n",
      "Reconnaissance       0.00      0.00      0.00      2993\n",
      "     Shellcode       0.00      0.00      0.00       355\n",
      "         Worms       0.00      0.00      0.00        45\n",
      "\n",
      "      accuracy                           0.47     48373\n",
      "     macro avg       0.14      0.18      0.13     48373\n",
      "  weighted avg       0.32      0.47      0.34     48373\n",
      "\n"
     ]
    },
    {
     "name": "stderr",
     "output_type": "stream",
     "text": [
      "C:\\Users\\Fadli\\Desktop\\workspace\\IF4041\\Tubes2_IF3170_MachineLearning\\venv\\Lib\\site-packages\\sklearn\\metrics\\_classification.py:1531: UndefinedMetricWarning: Precision is ill-defined and being set to 0.0 in labels with no predicted samples. Use `zero_division` parameter to control this behavior.\n",
      "  _warn_prf(average, modifier, f\"{metric.capitalize()} is\", len(result))\n",
      "C:\\Users\\Fadli\\Desktop\\workspace\\IF4041\\Tubes2_IF3170_MachineLearning\\venv\\Lib\\site-packages\\sklearn\\metrics\\_classification.py:1531: UndefinedMetricWarning: Precision is ill-defined and being set to 0.0 in labels with no predicted samples. Use `zero_division` parameter to control this behavior.\n",
      "  _warn_prf(average, modifier, f\"{metric.capitalize()} is\", len(result))\n"
     ]
    }
   ],
   "execution_count": 130
  },
  {
   "metadata": {},
   "cell_type": "markdown",
   "source": "## C. ID3"
  },
  {
   "metadata": {
    "ExecuteTime": {
     "end_time": "2024-12-02T13:22:53.846433Z",
     "start_time": "2024-12-02T13:22:49.940311Z"
    }
   },
   "cell_type": "code",
   "source": [
    "clf = DecisionTreeClassifier(random_state=42)\n",
    "\n",
    "clf.fit(X_train_selected, y_train_duplicates_removed['attack_cat'])\n",
    "\n",
    "y_pred = clf.predict(X_val_selected)\n",
    "\n",
    "accuracy = accuracy_score(y_val_duplicates_removed, y_pred)\n",
    "print(\"\\nModel Accuracy:\", accuracy)\n",
    "\n",
    "f1_macro = f1_score(y_val_duplicates_removed, y_pred, average='macro')\n",
    "\n",
    "print(f\"F1 Score (Macro): {f1_macro}\")\n",
    "\n",
    "print(\"Classification Report:\")\n",
    "print(classification_report(y_val_duplicates_removed, y_pred))"
   ],
   "outputs": [
    {
     "name": "stdout",
     "output_type": "stream",
     "text": [
      "\n",
      "Model Accuracy: 0.7706365121038596\n",
      "F1 Score (Macro): 0.5462420329513463\n",
      "Classification Report:\n",
      "                precision    recall  f1-score   support\n",
      "\n",
      "      Analysis       0.19      0.19      0.19       568\n",
      "      Backdoor       0.15      0.14      0.15       519\n",
      "           DoS       0.32      0.33      0.32      3394\n",
      "      Exploits       0.68      0.67      0.67      9589\n",
      "       Fuzzers       0.64      0.64      0.64      5411\n",
      "       Generic       0.97      0.97      0.97      8977\n",
      "        Normal       0.90      0.90      0.90     16522\n",
      "Reconnaissance       0.72      0.75      0.74      2993\n",
      "     Shellcode       0.54      0.56      0.55       355\n",
      "         Worms       0.34      0.31      0.33        45\n",
      "\n",
      "      accuracy                           0.77     48373\n",
      "     macro avg       0.55      0.55      0.55     48373\n",
      "  weighted avg       0.77      0.77      0.77     48373\n",
      "\n"
     ]
    }
   ],
   "execution_count": 131
  },
  {
   "cell_type": "markdown",
   "metadata": {
    "id": "LoH2u6fOLfHh"
   },
   "source": [
    "## D. Improvements (Optional)\n",
    "\n",
    "- **Visualize the model evaluation result**\n",
    "\n",
    "This will help you to understand the details more clearly about your model's performance. From the visualization, you can see clearly if your model is leaning towards a class than the others. (Hint: confusion matrix, ROC-AUC curve, etc.)\n",
    "\n",
    "- **Explore the hyperparameters of your models**\n",
    "\n",
    "Each models have their own hyperparameters. And each of the hyperparameter have different effects on the model behaviour. You can optimize the model performance by finding the good set of hyperparameters through a process called **hyperparameter tuning**. (Hint: Grid search, random search, bayesian optimization)\n",
    "\n",
    "- **Cross-validation**\n",
    "\n",
    "Cross-validation is a critical technique in machine learning and data science for evaluating and validating the performance of predictive models. It provides a more **robust** and **reliable** evaluation method compared to a hold-out (single train-test set) validation. Though, it requires more time and computing power because of how cross-validation works. (Hint: k-fold cross-validation, stratified k-fold cross-validation, etc.)"
   ]
  },
  {
   "cell_type": "code",
   "execution_count": null,
   "metadata": {
    "id": "pg-A54yELfHh"
   },
   "outputs": [],
   "source": "# Type your code here"
  },
  {
   "cell_type": "markdown",
   "metadata": {
    "id": "Li4l53DjLfHh"
   },
   "source": [
    "## E. Submission\n",
    "To predict the test set target feature and submit the results to the kaggle competition platform, do the following:\n",
    "1. Create a new pipeline instance identical to the first in Data Preprocessing\n",
    "2. With the pipeline, apply `fit_transform` to the original training set before splitting, then only apply `transform` to the test set.\n",
    "3. Retrain the model on the preprocessed training set\n",
    "4. Predict the test set\n",
    "5. Make sure the submission contains the `id` and `attack_cat` column."
   ]
  },
  {
   "cell_type": "code",
   "execution_count": null,
   "metadata": {
    "id": "LeqnfWc-LfHi"
   },
   "outputs": [],
   "source": [
    "# Type your code here"
   ]
  },
  {
   "cell_type": "markdown",
   "metadata": {
    "id": "R-jXvKOpLfHi"
   },
   "source": [
    "# 6. Error Analysis\n",
    "\n",
    "Based on all the process you have done until the modeling and evaluation step, write an analysis to support each steps you have taken to solve this problem. Write the analysis using the markdown block. Some questions that may help you in writing the analysis:\n",
    "\n",
    "- Does my model perform better in predicting one class than the other? If so, why is that?\n",
    "- To each models I have tried, which performs the best and what could be the reason?\n",
    "- Is it better for me to impute or drop the missing data? Why?\n",
    "- Does feature scaling help improve my model performance?\n",
    "- etc..."
   ]
  },
  {
   "cell_type": "markdown",
   "metadata": {
    "id": "tWL3nEAELfHj"
   },
   "source": [
    "`Provide your analysis here`"
   ]
  }
 ],
 "metadata": {
  "colab": {
   "provenance": [],
   "toc_visible": true
  },
  "kernelspec": {
   "display_name": "tubes2ai",
   "language": "python",
   "name": "python3"
  },
  "language_info": {
   "codemirror_mode": {
    "name": "ipython",
    "version": 3
   },
   "file_extension": ".py",
   "mimetype": "text/x-python",
   "name": "python",
   "nbconvert_exporter": "python",
   "pygments_lexer": "ipython3",
   "version": "3.10.11"
  }
 },
 "nbformat": 4,
 "nbformat_minor": 0
}
